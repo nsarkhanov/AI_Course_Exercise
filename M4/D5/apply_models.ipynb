{
 "cells": [
  {
   "cell_type": "code",
   "execution_count": 1,
   "metadata": {
    "cell_id": "00000-81b34956-62f3-4e53-9821-8e9934958558",
    "deepnote_cell_type": "code",
    "deepnote_to_be_reexecuted": false,
    "execution_millis": 1751,
    "execution_start": 1619790237310,
    "source_hash": "dcab75d1",
    "tags": []
   },
   "outputs": [
    {
     "name": "stdout",
     "output_type": "stream",
     "text": [
      "Setup completed\n"
     ]
    }
   ],
   "source": [
    "# linear algebra\n",
    "import numpy as np \n",
    "# data processing\n",
    "import pandas as pd \n",
    "# data visualization\n",
    "import seaborn as sns\n",
    "%matplotlib inline\n",
    "from matplotlib import pyplot as plt\n",
    "from matplotlib import style\n",
    "from sklearn.ensemble import GradientBoostingClassifier\n",
    "from sklearn import linear_model\n",
    "from sklearn.linear_model import LogisticRegression\n",
    "from sklearn.ensemble import RandomForestClassifier\n",
    "from sklearn.linear_model import Perceptron\n",
    "from sklearn.linear_model import SGDClassifier\n",
    "from sklearn.tree import DecisionTreeClassifier\n",
    "from sklearn.neighbors import KNeighborsClassifier\n",
    "from sklearn.svm import SVC, LinearSVC\n",
    "from sklearn.model_selection import train_test_split\n",
    "from sklearn import svm\n",
    "from sklearn.metrics import accuracy_score\n",
    "from sklearn.model_selection import GridSearchCV\n",
    "print('Setup completed')"
   ]
  },
  {
   "cell_type": "code",
   "execution_count": 2,
   "metadata": {
    "cell_id": "00001-7910afa5-6e0c-4b97-9c7d-4064d09ae22c",
    "deepnote_cell_type": "code",
    "deepnote_to_be_reexecuted": false,
    "execution_millis": 11,
    "execution_start": 1619790240741,
    "source_hash": "249ff5dd",
    "tags": []
   },
   "outputs": [],
   "source": [
    "train = pd.read_csv('train_clean.csv')\n",
    "test = pd.read_csv('test_clean.csv')\n"
   ]
  },
  {
   "cell_type": "code",
   "execution_count": 4,
   "metadata": {
    "cell_id": "00002-00afc9ca-f047-468d-8da9-f68fc4affe30",
    "deepnote_cell_type": "code",
    "deepnote_to_be_reexecuted": false,
    "execution_millis": 7,
    "execution_start": 1619790265033,
    "source_hash": "b0ff5899",
    "tags": []
   },
   "outputs": [
    {
     "data": {
      "text/plain": [
       "Index(['PassengerId', 'Pclass', 'Age', 'SibSp', 'Parch', 'Fare', 'Sex_0',\n",
       "       'Sex_1', 'Embarked_0', 'Embarked_1', 'Embarked_2'],\n",
       "      dtype='object')"
      ]
     },
     "execution_count": 4,
     "metadata": {},
     "output_type": "execute_result"
    }
   ],
   "source": [
    "test.columns"
   ]
  },
  {
   "cell_type": "code",
   "execution_count": 5,
   "metadata": {
    "cell_id": "00002-31b1d479-4127-4f99-9912-c5b9db832b2a",
    "deepnote_cell_type": "code",
    "deepnote_to_be_reexecuted": false,
    "execution_millis": 0,
    "execution_start": 1619790281143,
    "source_hash": "4d13cc0e",
    "tags": []
   },
   "outputs": [],
   "source": [
    "test=test.drop('Fare',axis=1)"
   ]
  },
  {
   "cell_type": "code",
   "execution_count": 6,
   "metadata": {
    "cell_id": "00004-c8214914-59e8-4880-8349-b33d128a2ea8",
    "deepnote_cell_type": "code",
    "deepnote_to_be_reexecuted": false,
    "execution_millis": 12,
    "execution_start": 1619790288373,
    "source_hash": "b0ff5899",
    "tags": []
   },
   "outputs": [
    {
     "data": {
      "text/plain": [
       "Index(['PassengerId', 'Pclass', 'Age', 'SibSp', 'Parch', 'Sex_0', 'Sex_1',\n",
       "       'Embarked_0', 'Embarked_1', 'Embarked_2'],\n",
       "      dtype='object')"
      ]
     },
     "execution_count": 6,
     "metadata": {},
     "output_type": "execute_result"
    }
   ],
   "source": [
    "test.columns"
   ]
  },
  {
   "cell_type": "code",
   "execution_count": 7,
   "metadata": {
    "cell_id": "00002-4f4e59b9-600a-4938-af92-f9639424a166",
    "deepnote_cell_type": "code",
    "deepnote_to_be_reexecuted": false,
    "execution_millis": 9,
    "execution_start": 1619790302307,
    "source_hash": "1f383b92",
    "tags": []
   },
   "outputs": [],
   "source": [
    "X=train.drop('Survived',axis=1)\n",
    "Y=train['Survived']"
   ]
  },
  {
   "cell_type": "code",
   "execution_count": 8,
   "metadata": {
    "cell_id": "00004-8ce1e323-9be6-4cd3-b1c1-73939b061914",
    "deepnote_cell_type": "code",
    "deepnote_to_be_reexecuted": false,
    "execution_millis": 2,
    "execution_start": 1619790309319,
    "source_hash": "b0ff5899",
    "tags": []
   },
   "outputs": [
    {
     "data": {
      "text/plain": [
       "Index(['PassengerId', 'Pclass', 'Age', 'SibSp', 'Parch', 'Sex_0', 'Sex_1',\n",
       "       'Embarked_0', 'Embarked_1', 'Embarked_2'],\n",
       "      dtype='object')"
      ]
     },
     "execution_count": 8,
     "metadata": {},
     "output_type": "execute_result"
    }
   ],
   "source": [
    "test.columns"
   ]
  },
  {
   "cell_type": "code",
   "execution_count": 9,
   "metadata": {
    "cell_id": "00004-d007ae26-5efa-4b53-b9d9-d2b838a01214",
    "deepnote_cell_type": "code",
    "deepnote_to_be_reexecuted": false,
    "execution_millis": 85,
    "execution_start": 1619790316610,
    "source_hash": "951a9862",
    "tags": []
   },
   "outputs": [
    {
     "data": {
      "application/vnd.deepnote.dataframe.v2+json": {
       "column_count": 10,
       "columns": [
        {
         "dtype": "int64",
         "name": "PassengerId",
         "stats": {
          "histogram": [
           {
            "bin_end": 933.7,
            "bin_start": 892,
            "count": 42
           },
           {
            "bin_end": 975.4,
            "bin_start": 933.7,
            "count": 42
           },
           {
            "bin_end": 1017.1,
            "bin_start": 975.4,
            "count": 42
           },
           {
            "bin_end": 1058.8,
            "bin_start": 1017.1,
            "count": 41
           },
           {
            "bin_end": 1100.5,
            "bin_start": 1058.8,
            "count": 42
           },
           {
            "bin_end": 1142.2,
            "bin_start": 1100.5,
            "count": 42
           },
           {
            "bin_end": 1183.9,
            "bin_start": 1142.2,
            "count": 41
           },
           {
            "bin_end": 1225.6,
            "bin_start": 1183.9,
            "count": 42
           },
           {
            "bin_end": 1267.3,
            "bin_start": 1225.6,
            "count": 42
           },
           {
            "bin_end": 1309,
            "bin_start": 1267.3,
            "count": 42
           }
          ],
          "max": "1309",
          "min": "892",
          "nan_count": 0,
          "unique_count": 418
         }
        },
        {
         "dtype": "int64",
         "name": "Pclass",
         "stats": {
          "histogram": [
           {
            "bin_end": 1.2,
            "bin_start": 1,
            "count": 107
           },
           {
            "bin_end": 1.4,
            "bin_start": 1.2,
            "count": 0
           },
           {
            "bin_end": 1.6,
            "bin_start": 1.4,
            "count": 0
           },
           {
            "bin_end": 1.8,
            "bin_start": 1.6,
            "count": 0
           },
           {
            "bin_end": 2,
            "bin_start": 1.8,
            "count": 0
           },
           {
            "bin_end": 2.2,
            "bin_start": 2,
            "count": 93
           },
           {
            "bin_end": 2.4000000000000004,
            "bin_start": 2.2,
            "count": 0
           },
           {
            "bin_end": 2.6,
            "bin_start": 2.4000000000000004,
            "count": 0
           },
           {
            "bin_end": 2.8,
            "bin_start": 2.6,
            "count": 0
           },
           {
            "bin_end": 3,
            "bin_start": 2.8,
            "count": 218
           }
          ],
          "max": "3",
          "min": "1",
          "nan_count": 0,
          "unique_count": 3
         }
        },
        {
         "dtype": "float64",
         "name": "Age",
         "stats": {
          "histogram": [
           {
            "bin_end": 7.753,
            "bin_start": 0.17,
            "count": 16
           },
           {
            "bin_end": 15.336,
            "bin_start": 7.753,
            "count": 16
           },
           {
            "bin_end": 22.919000000000004,
            "bin_start": 15.336,
            "count": 71
           },
           {
            "bin_end": 30.502000000000002,
            "bin_start": 22.919000000000004,
            "count": 170
           },
           {
            "bin_end": 38.085,
            "bin_start": 30.502000000000002,
            "count": 47
           },
           {
            "bin_end": 45.668000000000006,
            "bin_start": 38.085,
            "count": 46
           },
           {
            "bin_end": 53.251000000000005,
            "bin_start": 45.668000000000006,
            "count": 25
           },
           {
            "bin_end": 60.834,
            "bin_start": 53.251000000000005,
            "count": 17
           },
           {
            "bin_end": 68.417,
            "bin_start": 60.834,
            "count": 9
           },
           {
            "bin_end": 76,
            "bin_start": 68.417,
            "count": 1
           }
          ],
          "max": "76.0",
          "min": "0.17",
          "nan_count": 0,
          "unique_count": 85
         }
        },
        {
         "dtype": "int64",
         "name": "SibSp",
         "stats": {
          "histogram": [
           {
            "bin_end": 0.8,
            "bin_start": 0,
            "count": 283
           },
           {
            "bin_end": 1.6,
            "bin_start": 0.8,
            "count": 110
           },
           {
            "bin_end": 2.4000000000000004,
            "bin_start": 1.6,
            "count": 14
           },
           {
            "bin_end": 3.2,
            "bin_start": 2.4000000000000004,
            "count": 4
           },
           {
            "bin_end": 4,
            "bin_start": 3.2,
            "count": 0
           },
           {
            "bin_end": 4.800000000000001,
            "bin_start": 4,
            "count": 4
           },
           {
            "bin_end": 5.6000000000000005,
            "bin_start": 4.800000000000001,
            "count": 1
           },
           {
            "bin_end": 6.4,
            "bin_start": 5.6000000000000005,
            "count": 0
           },
           {
            "bin_end": 7.2,
            "bin_start": 6.4,
            "count": 0
           },
           {
            "bin_end": 8,
            "bin_start": 7.2,
            "count": 2
           }
          ],
          "max": "8",
          "min": "0",
          "nan_count": 0,
          "unique_count": 7
         }
        },
        {
         "dtype": "int64",
         "name": "Parch",
         "stats": {
          "histogram": [
           {
            "bin_end": 0.9,
            "bin_start": 0,
            "count": 324
           },
           {
            "bin_end": 1.8,
            "bin_start": 0.9,
            "count": 52
           },
           {
            "bin_end": 2.7,
            "bin_start": 1.8,
            "count": 33
           },
           {
            "bin_end": 3.6,
            "bin_start": 2.7,
            "count": 3
           },
           {
            "bin_end": 4.5,
            "bin_start": 3.6,
            "count": 2
           },
           {
            "bin_end": 5.4,
            "bin_start": 4.5,
            "count": 1
           },
           {
            "bin_end": 6.3,
            "bin_start": 5.4,
            "count": 1
           },
           {
            "bin_end": 7.2,
            "bin_start": 6.3,
            "count": 0
           },
           {
            "bin_end": 8.1,
            "bin_start": 7.2,
            "count": 0
           },
           {
            "bin_end": 9,
            "bin_start": 8.1,
            "count": 2
           }
          ],
          "max": "9",
          "min": "0",
          "nan_count": 0,
          "unique_count": 8
         }
        },
        {
         "dtype": "int64",
         "name": "Sex_0",
         "stats": {
          "histogram": [
           {
            "bin_end": 0.1,
            "bin_start": 0,
            "count": 266
           },
           {
            "bin_end": 0.2,
            "bin_start": 0.1,
            "count": 0
           },
           {
            "bin_end": 0.30000000000000004,
            "bin_start": 0.2,
            "count": 0
           },
           {
            "bin_end": 0.4,
            "bin_start": 0.30000000000000004,
            "count": 0
           },
           {
            "bin_end": 0.5,
            "bin_start": 0.4,
            "count": 0
           },
           {
            "bin_end": 0.6000000000000001,
            "bin_start": 0.5,
            "count": 0
           },
           {
            "bin_end": 0.7000000000000001,
            "bin_start": 0.6000000000000001,
            "count": 0
           },
           {
            "bin_end": 0.8,
            "bin_start": 0.7000000000000001,
            "count": 0
           },
           {
            "bin_end": 0.9,
            "bin_start": 0.8,
            "count": 0
           },
           {
            "bin_end": 1,
            "bin_start": 0.9,
            "count": 152
           }
          ],
          "max": "1",
          "min": "0",
          "nan_count": 0,
          "unique_count": 2
         }
        },
        {
         "dtype": "int64",
         "name": "Sex_1",
         "stats": {
          "histogram": [
           {
            "bin_end": 0.1,
            "bin_start": 0,
            "count": 152
           },
           {
            "bin_end": 0.2,
            "bin_start": 0.1,
            "count": 0
           },
           {
            "bin_end": 0.30000000000000004,
            "bin_start": 0.2,
            "count": 0
           },
           {
            "bin_end": 0.4,
            "bin_start": 0.30000000000000004,
            "count": 0
           },
           {
            "bin_end": 0.5,
            "bin_start": 0.4,
            "count": 0
           },
           {
            "bin_end": 0.6000000000000001,
            "bin_start": 0.5,
            "count": 0
           },
           {
            "bin_end": 0.7000000000000001,
            "bin_start": 0.6000000000000001,
            "count": 0
           },
           {
            "bin_end": 0.8,
            "bin_start": 0.7000000000000001,
            "count": 0
           },
           {
            "bin_end": 0.9,
            "bin_start": 0.8,
            "count": 0
           },
           {
            "bin_end": 1,
            "bin_start": 0.9,
            "count": 266
           }
          ],
          "max": "1",
          "min": "0",
          "nan_count": 0,
          "unique_count": 2
         }
        },
        {
         "dtype": "int64",
         "name": "Embarked_0",
         "stats": {
          "histogram": [
           {
            "bin_end": 0.1,
            "bin_start": 0,
            "count": 148
           },
           {
            "bin_end": 0.2,
            "bin_start": 0.1,
            "count": 0
           },
           {
            "bin_end": 0.30000000000000004,
            "bin_start": 0.2,
            "count": 0
           },
           {
            "bin_end": 0.4,
            "bin_start": 0.30000000000000004,
            "count": 0
           },
           {
            "bin_end": 0.5,
            "bin_start": 0.4,
            "count": 0
           },
           {
            "bin_end": 0.6000000000000001,
            "bin_start": 0.5,
            "count": 0
           },
           {
            "bin_end": 0.7000000000000001,
            "bin_start": 0.6000000000000001,
            "count": 0
           },
           {
            "bin_end": 0.8,
            "bin_start": 0.7000000000000001,
            "count": 0
           },
           {
            "bin_end": 0.9,
            "bin_start": 0.8,
            "count": 0
           },
           {
            "bin_end": 1,
            "bin_start": 0.9,
            "count": 270
           }
          ],
          "max": "1",
          "min": "0",
          "nan_count": 0,
          "unique_count": 2
         }
        },
        {
         "dtype": "int64",
         "name": "Embarked_1",
         "stats": {
          "histogram": [
           {
            "bin_end": 0.1,
            "bin_start": 0,
            "count": 316
           },
           {
            "bin_end": 0.2,
            "bin_start": 0.1,
            "count": 0
           },
           {
            "bin_end": 0.30000000000000004,
            "bin_start": 0.2,
            "count": 0
           },
           {
            "bin_end": 0.4,
            "bin_start": 0.30000000000000004,
            "count": 0
           },
           {
            "bin_end": 0.5,
            "bin_start": 0.4,
            "count": 0
           },
           {
            "bin_end": 0.6000000000000001,
            "bin_start": 0.5,
            "count": 0
           },
           {
            "bin_end": 0.7000000000000001,
            "bin_start": 0.6000000000000001,
            "count": 0
           },
           {
            "bin_end": 0.8,
            "bin_start": 0.7000000000000001,
            "count": 0
           },
           {
            "bin_end": 0.9,
            "bin_start": 0.8,
            "count": 0
           },
           {
            "bin_end": 1,
            "bin_start": 0.9,
            "count": 102
           }
          ],
          "max": "1",
          "min": "0",
          "nan_count": 0,
          "unique_count": 2
         }
        },
        {
         "dtype": "int64",
         "name": "Embarked_2",
         "stats": {
          "histogram": [
           {
            "bin_end": 0.1,
            "bin_start": 0,
            "count": 372
           },
           {
            "bin_end": 0.2,
            "bin_start": 0.1,
            "count": 0
           },
           {
            "bin_end": 0.30000000000000004,
            "bin_start": 0.2,
            "count": 0
           },
           {
            "bin_end": 0.4,
            "bin_start": 0.30000000000000004,
            "count": 0
           },
           {
            "bin_end": 0.5,
            "bin_start": 0.4,
            "count": 0
           },
           {
            "bin_end": 0.6000000000000001,
            "bin_start": 0.5,
            "count": 0
           },
           {
            "bin_end": 0.7000000000000001,
            "bin_start": 0.6000000000000001,
            "count": 0
           },
           {
            "bin_end": 0.8,
            "bin_start": 0.7000000000000001,
            "count": 0
           },
           {
            "bin_end": 0.9,
            "bin_start": 0.8,
            "count": 0
           },
           {
            "bin_end": 1,
            "bin_start": 0.9,
            "count": 46
           }
          ],
          "max": "1",
          "min": "0",
          "nan_count": 0,
          "unique_count": 2
         }
        },
        {
         "dtype": "int64",
         "name": "_deepnote_index_column"
        }
       ],
       "row_count": 418,
       "rows_bottom": [
        {
         "Age": 45,
         "Embarked_0": 0,
         "Embarked_1": 1,
         "Embarked_2": 0,
         "Parch": 1,
         "PassengerId": 1260,
         "Pclass": 1,
         "Sex_0": 1,
         "Sex_1": 0,
         "SibSp": 0,
         "_deepnote_index_column": 368
        },
        {
         "Age": 29,
         "Embarked_0": 0,
         "Embarked_1": 1,
         "Embarked_2": 0,
         "Parch": 0,
         "PassengerId": 1261,
         "Pclass": 2,
         "Sex_0": 0,
         "Sex_1": 1,
         "SibSp": 0,
         "_deepnote_index_column": 369
        },
        {
         "Age": 21,
         "Embarked_0": 1,
         "Embarked_1": 0,
         "Embarked_2": 0,
         "Parch": 0,
         "PassengerId": 1262,
         "Pclass": 2,
         "Sex_0": 0,
         "Sex_1": 1,
         "SibSp": 1,
         "_deepnote_index_column": 370
        },
        {
         "Age": 31,
         "Embarked_0": 0,
         "Embarked_1": 1,
         "Embarked_2": 0,
         "Parch": 0,
         "PassengerId": 1263,
         "Pclass": 1,
         "Sex_0": 1,
         "Sex_1": 0,
         "SibSp": 0,
         "_deepnote_index_column": 371
        },
        {
         "Age": 49,
         "Embarked_0": 1,
         "Embarked_1": 0,
         "Embarked_2": 0,
         "Parch": 0,
         "PassengerId": 1264,
         "Pclass": 1,
         "Sex_0": 0,
         "Sex_1": 1,
         "SibSp": 0,
         "_deepnote_index_column": 372
        },
        {
         "Age": 44,
         "Embarked_0": 1,
         "Embarked_1": 0,
         "Embarked_2": 0,
         "Parch": 0,
         "PassengerId": 1265,
         "Pclass": 2,
         "Sex_0": 0,
         "Sex_1": 1,
         "SibSp": 0,
         "_deepnote_index_column": 373
        },
        {
         "Age": 54,
         "Embarked_0": 1,
         "Embarked_1": 0,
         "Embarked_2": 0,
         "Parch": 1,
         "PassengerId": 1266,
         "Pclass": 1,
         "Sex_0": 1,
         "Sex_1": 0,
         "SibSp": 1,
         "_deepnote_index_column": 374
        },
        {
         "Age": 45,
         "Embarked_0": 0,
         "Embarked_1": 1,
         "Embarked_2": 0,
         "Parch": 0,
         "PassengerId": 1267,
         "Pclass": 1,
         "Sex_0": 1,
         "Sex_1": 0,
         "SibSp": 0,
         "_deepnote_index_column": 375
        },
        {
         "Age": 22,
         "Embarked_0": 1,
         "Embarked_1": 0,
         "Embarked_2": 0,
         "Parch": 0,
         "PassengerId": 1268,
         "Pclass": 3,
         "Sex_0": 1,
         "Sex_1": 0,
         "SibSp": 2,
         "_deepnote_index_column": 376
        },
        {
         "Age": 21,
         "Embarked_0": 1,
         "Embarked_1": 0,
         "Embarked_2": 0,
         "Parch": 0,
         "PassengerId": 1269,
         "Pclass": 2,
         "Sex_0": 0,
         "Sex_1": 1,
         "SibSp": 0,
         "_deepnote_index_column": 377
        },
        {
         "Age": 55,
         "Embarked_0": 1,
         "Embarked_1": 0,
         "Embarked_2": 0,
         "Parch": 0,
         "PassengerId": 1270,
         "Pclass": 1,
         "Sex_0": 0,
         "Sex_1": 1,
         "SibSp": 0,
         "_deepnote_index_column": 378
        },
        {
         "Age": 5,
         "Embarked_0": 1,
         "Embarked_1": 0,
         "Embarked_2": 0,
         "Parch": 2,
         "PassengerId": 1271,
         "Pclass": 3,
         "Sex_0": 0,
         "Sex_1": 1,
         "SibSp": 4,
         "_deepnote_index_column": 379
        },
        {
         "Age": 24.525104166666665,
         "Embarked_0": 0,
         "Embarked_1": 0,
         "Embarked_2": 1,
         "Parch": 0,
         "PassengerId": 1272,
         "Pclass": 3,
         "Sex_0": 0,
         "Sex_1": 1,
         "SibSp": 0,
         "_deepnote_index_column": 380
        },
        {
         "Age": 26,
         "Embarked_0": 0,
         "Embarked_1": 0,
         "Embarked_2": 1,
         "Parch": 0,
         "PassengerId": 1273,
         "Pclass": 3,
         "Sex_0": 0,
         "Sex_1": 1,
         "SibSp": 0,
         "_deepnote_index_column": 381
        },
        {
         "Age": 23.073400000000003,
         "Embarked_0": 1,
         "Embarked_1": 0,
         "Embarked_2": 0,
         "Parch": 0,
         "PassengerId": 1274,
         "Pclass": 3,
         "Sex_0": 1,
         "Sex_1": 0,
         "SibSp": 0,
         "_deepnote_index_column": 382
        },
        {
         "Age": 19,
         "Embarked_0": 1,
         "Embarked_1": 0,
         "Embarked_2": 0,
         "Parch": 0,
         "PassengerId": 1275,
         "Pclass": 3,
         "Sex_0": 1,
         "Sex_1": 0,
         "SibSp": 1,
         "_deepnote_index_column": 383
        },
        {
         "Age": 30.940677966101696,
         "Embarked_0": 1,
         "Embarked_1": 0,
         "Embarked_2": 0,
         "Parch": 0,
         "PassengerId": 1276,
         "Pclass": 2,
         "Sex_0": 0,
         "Sex_1": 1,
         "SibSp": 0,
         "_deepnote_index_column": 384
        },
        {
         "Age": 24,
         "Embarked_0": 1,
         "Embarked_1": 0,
         "Embarked_2": 0,
         "Parch": 2,
         "PassengerId": 1277,
         "Pclass": 2,
         "Sex_0": 1,
         "Sex_1": 0,
         "SibSp": 1,
         "_deepnote_index_column": 385
        },
        {
         "Age": 24,
         "Embarked_0": 1,
         "Embarked_1": 0,
         "Embarked_2": 0,
         "Parch": 0,
         "PassengerId": 1278,
         "Pclass": 3,
         "Sex_0": 0,
         "Sex_1": 1,
         "SibSp": 0,
         "_deepnote_index_column": 386
        },
        {
         "Age": 57,
         "Embarked_0": 1,
         "Embarked_1": 0,
         "Embarked_2": 0,
         "Parch": 0,
         "PassengerId": 1279,
         "Pclass": 2,
         "Sex_0": 0,
         "Sex_1": 1,
         "SibSp": 0,
         "_deepnote_index_column": 387
        },
        {
         "Age": 21,
         "Embarked_0": 0,
         "Embarked_1": 0,
         "Embarked_2": 1,
         "Parch": 0,
         "PassengerId": 1280,
         "Pclass": 3,
         "Sex_0": 0,
         "Sex_1": 1,
         "SibSp": 0,
         "_deepnote_index_column": 388
        },
        {
         "Age": 6,
         "Embarked_0": 1,
         "Embarked_1": 0,
         "Embarked_2": 0,
         "Parch": 1,
         "PassengerId": 1281,
         "Pclass": 3,
         "Sex_0": 0,
         "Sex_1": 1,
         "SibSp": 3,
         "_deepnote_index_column": 389
        },
        {
         "Age": 23,
         "Embarked_0": 1,
         "Embarked_1": 0,
         "Embarked_2": 0,
         "Parch": 0,
         "PassengerId": 1282,
         "Pclass": 1,
         "Sex_0": 0,
         "Sex_1": 1,
         "SibSp": 0,
         "_deepnote_index_column": 390
        },
        {
         "Age": 51,
         "Embarked_0": 1,
         "Embarked_1": 0,
         "Embarked_2": 0,
         "Parch": 1,
         "PassengerId": 1283,
         "Pclass": 1,
         "Sex_0": 1,
         "Sex_1": 0,
         "SibSp": 0,
         "_deepnote_index_column": 391
        },
        {
         "Age": 13,
         "Embarked_0": 1,
         "Embarked_1": 0,
         "Embarked_2": 0,
         "Parch": 2,
         "PassengerId": 1284,
         "Pclass": 3,
         "Sex_0": 0,
         "Sex_1": 1,
         "SibSp": 0,
         "_deepnote_index_column": 392
        },
        {
         "Age": 47,
         "Embarked_0": 1,
         "Embarked_1": 0,
         "Embarked_2": 0,
         "Parch": 0,
         "PassengerId": 1285,
         "Pclass": 2,
         "Sex_0": 0,
         "Sex_1": 1,
         "SibSp": 0,
         "_deepnote_index_column": 393
        },
        {
         "Age": 29,
         "Embarked_0": 1,
         "Embarked_1": 0,
         "Embarked_2": 0,
         "Parch": 1,
         "PassengerId": 1286,
         "Pclass": 3,
         "Sex_0": 0,
         "Sex_1": 1,
         "SibSp": 3,
         "_deepnote_index_column": 394
        },
        {
         "Age": 18,
         "Embarked_0": 1,
         "Embarked_1": 0,
         "Embarked_2": 0,
         "Parch": 0,
         "PassengerId": 1287,
         "Pclass": 1,
         "Sex_0": 1,
         "Sex_1": 0,
         "SibSp": 1,
         "_deepnote_index_column": 395
        },
        {
         "Age": 24,
         "Embarked_0": 0,
         "Embarked_1": 0,
         "Embarked_2": 1,
         "Parch": 0,
         "PassengerId": 1288,
         "Pclass": 3,
         "Sex_0": 0,
         "Sex_1": 1,
         "SibSp": 0,
         "_deepnote_index_column": 396
        },
        {
         "Age": 48,
         "Embarked_0": 0,
         "Embarked_1": 1,
         "Embarked_2": 0,
         "Parch": 1,
         "PassengerId": 1289,
         "Pclass": 1,
         "Sex_0": 1,
         "Sex_1": 0,
         "SibSp": 1,
         "_deepnote_index_column": 397
        },
        {
         "Age": 22,
         "Embarked_0": 1,
         "Embarked_1": 0,
         "Embarked_2": 0,
         "Parch": 0,
         "PassengerId": 1290,
         "Pclass": 3,
         "Sex_0": 0,
         "Sex_1": 1,
         "SibSp": 0,
         "_deepnote_index_column": 398
        },
        {
         "Age": 31,
         "Embarked_0": 0,
         "Embarked_1": 0,
         "Embarked_2": 1,
         "Parch": 0,
         "PassengerId": 1291,
         "Pclass": 3,
         "Sex_0": 0,
         "Sex_1": 1,
         "SibSp": 0,
         "_deepnote_index_column": 399
        },
        {
         "Age": 30,
         "Embarked_0": 1,
         "Embarked_1": 0,
         "Embarked_2": 0,
         "Parch": 0,
         "PassengerId": 1292,
         "Pclass": 1,
         "Sex_0": 1,
         "Sex_1": 0,
         "SibSp": 0,
         "_deepnote_index_column": 400
        },
        {
         "Age": 38,
         "Embarked_0": 1,
         "Embarked_1": 0,
         "Embarked_2": 0,
         "Parch": 0,
         "PassengerId": 1293,
         "Pclass": 2,
         "Sex_0": 0,
         "Sex_1": 1,
         "SibSp": 1,
         "_deepnote_index_column": 401
        },
        {
         "Age": 22,
         "Embarked_0": 0,
         "Embarked_1": 1,
         "Embarked_2": 0,
         "Parch": 1,
         "PassengerId": 1294,
         "Pclass": 1,
         "Sex_0": 1,
         "Sex_1": 0,
         "SibSp": 0,
         "_deepnote_index_column": 402
        },
        {
         "Age": 17,
         "Embarked_0": 1,
         "Embarked_1": 0,
         "Embarked_2": 0,
         "Parch": 0,
         "PassengerId": 1295,
         "Pclass": 1,
         "Sex_0": 0,
         "Sex_1": 1,
         "SibSp": 0,
         "_deepnote_index_column": 403
        },
        {
         "Age": 43,
         "Embarked_0": 0,
         "Embarked_1": 1,
         "Embarked_2": 0,
         "Parch": 0,
         "PassengerId": 1296,
         "Pclass": 1,
         "Sex_0": 0,
         "Sex_1": 1,
         "SibSp": 1,
         "_deepnote_index_column": 404
        },
        {
         "Age": 20,
         "Embarked_0": 0,
         "Embarked_1": 1,
         "Embarked_2": 0,
         "Parch": 0,
         "PassengerId": 1297,
         "Pclass": 2,
         "Sex_0": 0,
         "Sex_1": 1,
         "SibSp": 0,
         "_deepnote_index_column": 405
        },
        {
         "Age": 23,
         "Embarked_0": 1,
         "Embarked_1": 0,
         "Embarked_2": 0,
         "Parch": 0,
         "PassengerId": 1298,
         "Pclass": 2,
         "Sex_0": 0,
         "Sex_1": 1,
         "SibSp": 1,
         "_deepnote_index_column": 406
        },
        {
         "Age": 50,
         "Embarked_0": 0,
         "Embarked_1": 1,
         "Embarked_2": 0,
         "Parch": 1,
         "PassengerId": 1299,
         "Pclass": 1,
         "Sex_0": 0,
         "Sex_1": 1,
         "SibSp": 1,
         "_deepnote_index_column": 407
        },
        {
         "Age": 23.073400000000003,
         "Embarked_0": 0,
         "Embarked_1": 0,
         "Embarked_2": 1,
         "Parch": 0,
         "PassengerId": 1300,
         "Pclass": 3,
         "Sex_0": 1,
         "Sex_1": 0,
         "SibSp": 0,
         "_deepnote_index_column": 408
        },
        {
         "Age": 3,
         "Embarked_0": 1,
         "Embarked_1": 0,
         "Embarked_2": 0,
         "Parch": 1,
         "PassengerId": 1301,
         "Pclass": 3,
         "Sex_0": 1,
         "Sex_1": 0,
         "SibSp": 1,
         "_deepnote_index_column": 409
        },
        {
         "Age": 23.073400000000003,
         "Embarked_0": 0,
         "Embarked_1": 0,
         "Embarked_2": 1,
         "Parch": 0,
         "PassengerId": 1302,
         "Pclass": 3,
         "Sex_0": 1,
         "Sex_1": 0,
         "SibSp": 0,
         "_deepnote_index_column": 410
        },
        {
         "Age": 37,
         "Embarked_0": 0,
         "Embarked_1": 0,
         "Embarked_2": 1,
         "Parch": 0,
         "PassengerId": 1303,
         "Pclass": 1,
         "Sex_0": 1,
         "Sex_1": 0,
         "SibSp": 1,
         "_deepnote_index_column": 411
        },
        {
         "Age": 28,
         "Embarked_0": 1,
         "Embarked_1": 0,
         "Embarked_2": 0,
         "Parch": 0,
         "PassengerId": 1304,
         "Pclass": 3,
         "Sex_0": 1,
         "Sex_1": 0,
         "SibSp": 0,
         "_deepnote_index_column": 412
        },
        {
         "Age": 24.525104166666665,
         "Embarked_0": 1,
         "Embarked_1": 0,
         "Embarked_2": 0,
         "Parch": 0,
         "PassengerId": 1305,
         "Pclass": 3,
         "Sex_0": 0,
         "Sex_1": 1,
         "SibSp": 0,
         "_deepnote_index_column": 413
        },
        {
         "Age": 39,
         "Embarked_0": 0,
         "Embarked_1": 1,
         "Embarked_2": 0,
         "Parch": 0,
         "PassengerId": 1306,
         "Pclass": 1,
         "Sex_0": 1,
         "Sex_1": 0,
         "SibSp": 0,
         "_deepnote_index_column": 414
        },
        {
         "Age": 38.5,
         "Embarked_0": 1,
         "Embarked_1": 0,
         "Embarked_2": 0,
         "Parch": 0,
         "PassengerId": 1307,
         "Pclass": 3,
         "Sex_0": 0,
         "Sex_1": 1,
         "SibSp": 0,
         "_deepnote_index_column": 415
        },
        {
         "Age": 24.525104166666665,
         "Embarked_0": 1,
         "Embarked_1": 0,
         "Embarked_2": 0,
         "Parch": 0,
         "PassengerId": 1308,
         "Pclass": 3,
         "Sex_0": 0,
         "Sex_1": 1,
         "SibSp": 0,
         "_deepnote_index_column": 416
        },
        {
         "Age": 24.525104166666665,
         "Embarked_0": 0,
         "Embarked_1": 1,
         "Embarked_2": 0,
         "Parch": 1,
         "PassengerId": 1309,
         "Pclass": 3,
         "Sex_0": 0,
         "Sex_1": 1,
         "SibSp": 1,
         "_deepnote_index_column": 417
        }
       ],
       "rows_top": [
        {
         "Age": 34.5,
         "Embarked_0": 0,
         "Embarked_1": 0,
         "Embarked_2": 1,
         "Parch": 0,
         "PassengerId": 892,
         "Pclass": 3,
         "Sex_0": 0,
         "Sex_1": 1,
         "SibSp": 0,
         "_deepnote_index_column": 0
        },
        {
         "Age": 47,
         "Embarked_0": 1,
         "Embarked_1": 0,
         "Embarked_2": 0,
         "Parch": 0,
         "PassengerId": 893,
         "Pclass": 3,
         "Sex_0": 1,
         "Sex_1": 0,
         "SibSp": 1,
         "_deepnote_index_column": 1
        },
        {
         "Age": 62,
         "Embarked_0": 0,
         "Embarked_1": 0,
         "Embarked_2": 1,
         "Parch": 0,
         "PassengerId": 894,
         "Pclass": 2,
         "Sex_0": 0,
         "Sex_1": 1,
         "SibSp": 0,
         "_deepnote_index_column": 2
        },
        {
         "Age": 27,
         "Embarked_0": 1,
         "Embarked_1": 0,
         "Embarked_2": 0,
         "Parch": 0,
         "PassengerId": 895,
         "Pclass": 3,
         "Sex_0": 0,
         "Sex_1": 1,
         "SibSp": 0,
         "_deepnote_index_column": 3
        },
        {
         "Age": 22,
         "Embarked_0": 1,
         "Embarked_1": 0,
         "Embarked_2": 0,
         "Parch": 1,
         "PassengerId": 896,
         "Pclass": 3,
         "Sex_0": 1,
         "Sex_1": 0,
         "SibSp": 1,
         "_deepnote_index_column": 4
        },
        {
         "Age": 14,
         "Embarked_0": 1,
         "Embarked_1": 0,
         "Embarked_2": 0,
         "Parch": 0,
         "PassengerId": 897,
         "Pclass": 3,
         "Sex_0": 0,
         "Sex_1": 1,
         "SibSp": 0,
         "_deepnote_index_column": 5
        },
        {
         "Age": 30,
         "Embarked_0": 0,
         "Embarked_1": 0,
         "Embarked_2": 1,
         "Parch": 0,
         "PassengerId": 898,
         "Pclass": 3,
         "Sex_0": 1,
         "Sex_1": 0,
         "SibSp": 0,
         "_deepnote_index_column": 6
        },
        {
         "Age": 26,
         "Embarked_0": 1,
         "Embarked_1": 0,
         "Embarked_2": 0,
         "Parch": 1,
         "PassengerId": 899,
         "Pclass": 2,
         "Sex_0": 0,
         "Sex_1": 1,
         "SibSp": 1,
         "_deepnote_index_column": 7
        },
        {
         "Age": 18,
         "Embarked_0": 0,
         "Embarked_1": 1,
         "Embarked_2": 0,
         "Parch": 0,
         "PassengerId": 900,
         "Pclass": 3,
         "Sex_0": 1,
         "Sex_1": 0,
         "SibSp": 0,
         "_deepnote_index_column": 8
        },
        {
         "Age": 21,
         "Embarked_0": 1,
         "Embarked_1": 0,
         "Embarked_2": 0,
         "Parch": 0,
         "PassengerId": 901,
         "Pclass": 3,
         "Sex_0": 0,
         "Sex_1": 1,
         "SibSp": 2,
         "_deepnote_index_column": 9
        },
        {
         "Age": 24.525104166666665,
         "Embarked_0": 1,
         "Embarked_1": 0,
         "Embarked_2": 0,
         "Parch": 0,
         "PassengerId": 902,
         "Pclass": 3,
         "Sex_0": 0,
         "Sex_1": 1,
         "SibSp": 0,
         "_deepnote_index_column": 10
        },
        {
         "Age": 46,
         "Embarked_0": 1,
         "Embarked_1": 0,
         "Embarked_2": 0,
         "Parch": 0,
         "PassengerId": 903,
         "Pclass": 1,
         "Sex_0": 0,
         "Sex_1": 1,
         "SibSp": 0,
         "_deepnote_index_column": 11
        },
        {
         "Age": 23,
         "Embarked_0": 1,
         "Embarked_1": 0,
         "Embarked_2": 0,
         "Parch": 0,
         "PassengerId": 904,
         "Pclass": 1,
         "Sex_0": 1,
         "Sex_1": 0,
         "SibSp": 1,
         "_deepnote_index_column": 12
        },
        {
         "Age": 63,
         "Embarked_0": 1,
         "Embarked_1": 0,
         "Embarked_2": 0,
         "Parch": 0,
         "PassengerId": 905,
         "Pclass": 2,
         "Sex_0": 0,
         "Sex_1": 1,
         "SibSp": 1,
         "_deepnote_index_column": 13
        },
        {
         "Age": 47,
         "Embarked_0": 1,
         "Embarked_1": 0,
         "Embarked_2": 0,
         "Parch": 0,
         "PassengerId": 906,
         "Pclass": 1,
         "Sex_0": 1,
         "Sex_1": 0,
         "SibSp": 1,
         "_deepnote_index_column": 14
        },
        {
         "Age": 24,
         "Embarked_0": 0,
         "Embarked_1": 1,
         "Embarked_2": 0,
         "Parch": 0,
         "PassengerId": 907,
         "Pclass": 2,
         "Sex_0": 1,
         "Sex_1": 0,
         "SibSp": 1,
         "_deepnote_index_column": 15
        },
        {
         "Age": 35,
         "Embarked_0": 0,
         "Embarked_1": 0,
         "Embarked_2": 1,
         "Parch": 0,
         "PassengerId": 908,
         "Pclass": 2,
         "Sex_0": 0,
         "Sex_1": 1,
         "SibSp": 0,
         "_deepnote_index_column": 16
        },
        {
         "Age": 21,
         "Embarked_0": 0,
         "Embarked_1": 1,
         "Embarked_2": 0,
         "Parch": 0,
         "PassengerId": 909,
         "Pclass": 3,
         "Sex_0": 0,
         "Sex_1": 1,
         "SibSp": 0,
         "_deepnote_index_column": 17
        },
        {
         "Age": 27,
         "Embarked_0": 1,
         "Embarked_1": 0,
         "Embarked_2": 0,
         "Parch": 0,
         "PassengerId": 910,
         "Pclass": 3,
         "Sex_0": 1,
         "Sex_1": 0,
         "SibSp": 1,
         "_deepnote_index_column": 18
        },
        {
         "Age": 45,
         "Embarked_0": 0,
         "Embarked_1": 1,
         "Embarked_2": 0,
         "Parch": 0,
         "PassengerId": 911,
         "Pclass": 3,
         "Sex_0": 1,
         "Sex_1": 0,
         "SibSp": 0,
         "_deepnote_index_column": 19
        },
        {
         "Age": 55,
         "Embarked_0": 0,
         "Embarked_1": 1,
         "Embarked_2": 0,
         "Parch": 0,
         "PassengerId": 912,
         "Pclass": 1,
         "Sex_0": 0,
         "Sex_1": 1,
         "SibSp": 1,
         "_deepnote_index_column": 20
        },
        {
         "Age": 9,
         "Embarked_0": 1,
         "Embarked_1": 0,
         "Embarked_2": 0,
         "Parch": 1,
         "PassengerId": 913,
         "Pclass": 3,
         "Sex_0": 0,
         "Sex_1": 1,
         "SibSp": 0,
         "_deepnote_index_column": 21
        },
        {
         "Age": 41.333333333333336,
         "Embarked_0": 1,
         "Embarked_1": 0,
         "Embarked_2": 0,
         "Parch": 0,
         "PassengerId": 914,
         "Pclass": 1,
         "Sex_0": 1,
         "Sex_1": 0,
         "SibSp": 0,
         "_deepnote_index_column": 22
        },
        {
         "Age": 21,
         "Embarked_0": 0,
         "Embarked_1": 1,
         "Embarked_2": 0,
         "Parch": 1,
         "PassengerId": 915,
         "Pclass": 1,
         "Sex_0": 0,
         "Sex_1": 1,
         "SibSp": 0,
         "_deepnote_index_column": 23
        },
        {
         "Age": 48,
         "Embarked_0": 0,
         "Embarked_1": 1,
         "Embarked_2": 0,
         "Parch": 3,
         "PassengerId": 916,
         "Pclass": 1,
         "Sex_0": 1,
         "Sex_1": 0,
         "SibSp": 1,
         "_deepnote_index_column": 24
        },
        {
         "Age": 50,
         "Embarked_0": 1,
         "Embarked_1": 0,
         "Embarked_2": 0,
         "Parch": 0,
         "PassengerId": 917,
         "Pclass": 3,
         "Sex_0": 0,
         "Sex_1": 1,
         "SibSp": 1,
         "_deepnote_index_column": 25
        },
        {
         "Age": 22,
         "Embarked_0": 0,
         "Embarked_1": 1,
         "Embarked_2": 0,
         "Parch": 1,
         "PassengerId": 918,
         "Pclass": 1,
         "Sex_0": 1,
         "Sex_1": 0,
         "SibSp": 0,
         "_deepnote_index_column": 26
        },
        {
         "Age": 22.5,
         "Embarked_0": 0,
         "Embarked_1": 1,
         "Embarked_2": 0,
         "Parch": 0,
         "PassengerId": 919,
         "Pclass": 3,
         "Sex_0": 0,
         "Sex_1": 1,
         "SibSp": 0,
         "_deepnote_index_column": 27
        },
        {
         "Age": 41,
         "Embarked_0": 1,
         "Embarked_1": 0,
         "Embarked_2": 0,
         "Parch": 0,
         "PassengerId": 920,
         "Pclass": 1,
         "Sex_0": 0,
         "Sex_1": 1,
         "SibSp": 0,
         "_deepnote_index_column": 28
        },
        {
         "Age": 24.525104166666665,
         "Embarked_0": 0,
         "Embarked_1": 1,
         "Embarked_2": 0,
         "Parch": 0,
         "PassengerId": 921,
         "Pclass": 3,
         "Sex_0": 0,
         "Sex_1": 1,
         "SibSp": 2,
         "_deepnote_index_column": 29
        },
        {
         "Age": 50,
         "Embarked_0": 1,
         "Embarked_1": 0,
         "Embarked_2": 0,
         "Parch": 0,
         "PassengerId": 922,
         "Pclass": 2,
         "Sex_0": 0,
         "Sex_1": 1,
         "SibSp": 1,
         "_deepnote_index_column": 30
        },
        {
         "Age": 24,
         "Embarked_0": 1,
         "Embarked_1": 0,
         "Embarked_2": 0,
         "Parch": 0,
         "PassengerId": 923,
         "Pclass": 2,
         "Sex_0": 0,
         "Sex_1": 1,
         "SibSp": 2,
         "_deepnote_index_column": 31
        },
        {
         "Age": 33,
         "Embarked_0": 1,
         "Embarked_1": 0,
         "Embarked_2": 0,
         "Parch": 2,
         "PassengerId": 924,
         "Pclass": 3,
         "Sex_0": 1,
         "Sex_1": 0,
         "SibSp": 1,
         "_deepnote_index_column": 32
        },
        {
         "Age": 23.073400000000003,
         "Embarked_0": 1,
         "Embarked_1": 0,
         "Embarked_2": 0,
         "Parch": 2,
         "PassengerId": 925,
         "Pclass": 3,
         "Sex_0": 1,
         "Sex_1": 0,
         "SibSp": 1,
         "_deepnote_index_column": 33
        },
        {
         "Age": 30,
         "Embarked_0": 0,
         "Embarked_1": 1,
         "Embarked_2": 0,
         "Parch": 0,
         "PassengerId": 926,
         "Pclass": 1,
         "Sex_0": 0,
         "Sex_1": 1,
         "SibSp": 1,
         "_deepnote_index_column": 34
        },
        {
         "Age": 18.5,
         "Embarked_0": 0,
         "Embarked_1": 1,
         "Embarked_2": 0,
         "Parch": 0,
         "PassengerId": 927,
         "Pclass": 3,
         "Sex_0": 0,
         "Sex_1": 1,
         "SibSp": 0,
         "_deepnote_index_column": 35
        },
        {
         "Age": 23.073400000000003,
         "Embarked_0": 1,
         "Embarked_1": 0,
         "Embarked_2": 0,
         "Parch": 0,
         "PassengerId": 928,
         "Pclass": 3,
         "Sex_0": 1,
         "Sex_1": 0,
         "SibSp": 0,
         "_deepnote_index_column": 36
        },
        {
         "Age": 21,
         "Embarked_0": 1,
         "Embarked_1": 0,
         "Embarked_2": 0,
         "Parch": 0,
         "PassengerId": 929,
         "Pclass": 3,
         "Sex_0": 1,
         "Sex_1": 0,
         "SibSp": 0,
         "_deepnote_index_column": 37
        },
        {
         "Age": 25,
         "Embarked_0": 1,
         "Embarked_1": 0,
         "Embarked_2": 0,
         "Parch": 0,
         "PassengerId": 930,
         "Pclass": 3,
         "Sex_0": 0,
         "Sex_1": 1,
         "SibSp": 0,
         "_deepnote_index_column": 38
        },
        {
         "Age": 24.525104166666665,
         "Embarked_0": 1,
         "Embarked_1": 0,
         "Embarked_2": 0,
         "Parch": 0,
         "PassengerId": 931,
         "Pclass": 3,
         "Sex_0": 0,
         "Sex_1": 1,
         "SibSp": 0,
         "_deepnote_index_column": 39
        },
        {
         "Age": 39,
         "Embarked_0": 0,
         "Embarked_1": 1,
         "Embarked_2": 0,
         "Parch": 1,
         "PassengerId": 932,
         "Pclass": 3,
         "Sex_0": 0,
         "Sex_1": 1,
         "SibSp": 0,
         "_deepnote_index_column": 40
        },
        {
         "Age": 40.52,
         "Embarked_0": 1,
         "Embarked_1": 0,
         "Embarked_2": 0,
         "Parch": 0,
         "PassengerId": 933,
         "Pclass": 1,
         "Sex_0": 0,
         "Sex_1": 1,
         "SibSp": 0,
         "_deepnote_index_column": 41
        },
        {
         "Age": 41,
         "Embarked_0": 1,
         "Embarked_1": 0,
         "Embarked_2": 0,
         "Parch": 0,
         "PassengerId": 934,
         "Pclass": 3,
         "Sex_0": 0,
         "Sex_1": 1,
         "SibSp": 0,
         "_deepnote_index_column": 42
        },
        {
         "Age": 30,
         "Embarked_0": 1,
         "Embarked_1": 0,
         "Embarked_2": 0,
         "Parch": 0,
         "PassengerId": 935,
         "Pclass": 2,
         "Sex_0": 1,
         "Sex_1": 0,
         "SibSp": 0,
         "_deepnote_index_column": 43
        },
        {
         "Age": 45,
         "Embarked_0": 1,
         "Embarked_1": 0,
         "Embarked_2": 0,
         "Parch": 0,
         "PassengerId": 936,
         "Pclass": 1,
         "Sex_0": 1,
         "Sex_1": 0,
         "SibSp": 1,
         "_deepnote_index_column": 44
        },
        {
         "Age": 25,
         "Embarked_0": 1,
         "Embarked_1": 0,
         "Embarked_2": 0,
         "Parch": 0,
         "PassengerId": 937,
         "Pclass": 3,
         "Sex_0": 0,
         "Sex_1": 1,
         "SibSp": 0,
         "_deepnote_index_column": 45
        },
        {
         "Age": 45,
         "Embarked_0": 0,
         "Embarked_1": 1,
         "Embarked_2": 0,
         "Parch": 0,
         "PassengerId": 938,
         "Pclass": 1,
         "Sex_0": 0,
         "Sex_1": 1,
         "SibSp": 0,
         "_deepnote_index_column": 46
        },
        {
         "Age": 24.525104166666665,
         "Embarked_0": 0,
         "Embarked_1": 0,
         "Embarked_2": 1,
         "Parch": 0,
         "PassengerId": 939,
         "Pclass": 3,
         "Sex_0": 0,
         "Sex_1": 1,
         "SibSp": 0,
         "_deepnote_index_column": 47
        },
        {
         "Age": 60,
         "Embarked_0": 0,
         "Embarked_1": 1,
         "Embarked_2": 0,
         "Parch": 0,
         "PassengerId": 940,
         "Pclass": 1,
         "Sex_0": 1,
         "Sex_1": 0,
         "SibSp": 0,
         "_deepnote_index_column": 48
        },
        {
         "Age": 36,
         "Embarked_0": 1,
         "Embarked_1": 0,
         "Embarked_2": 0,
         "Parch": 2,
         "PassengerId": 941,
         "Pclass": 3,
         "Sex_0": 1,
         "Sex_1": 0,
         "SibSp": 0,
         "_deepnote_index_column": 49
        }
       ]
      },
      "text/html": [
       "<div>\n",
       "<style scoped>\n",
       "    .dataframe tbody tr th:only-of-type {\n",
       "        vertical-align: middle;\n",
       "    }\n",
       "\n",
       "    .dataframe tbody tr th {\n",
       "        vertical-align: top;\n",
       "    }\n",
       "\n",
       "    .dataframe thead th {\n",
       "        text-align: right;\n",
       "    }\n",
       "</style>\n",
       "<table border=\"1\" class=\"dataframe\">\n",
       "  <thead>\n",
       "    <tr style=\"text-align: right;\">\n",
       "      <th></th>\n",
       "      <th>PassengerId</th>\n",
       "      <th>Pclass</th>\n",
       "      <th>Age</th>\n",
       "      <th>SibSp</th>\n",
       "      <th>Parch</th>\n",
       "      <th>Sex_0</th>\n",
       "      <th>Sex_1</th>\n",
       "      <th>Embarked_0</th>\n",
       "      <th>Embarked_1</th>\n",
       "      <th>Embarked_2</th>\n",
       "    </tr>\n",
       "  </thead>\n",
       "  <tbody>\n",
       "    <tr>\n",
       "      <th>0</th>\n",
       "      <td>892</td>\n",
       "      <td>3</td>\n",
       "      <td>34.500000</td>\n",
       "      <td>0</td>\n",
       "      <td>0</td>\n",
       "      <td>0</td>\n",
       "      <td>1</td>\n",
       "      <td>0</td>\n",
       "      <td>0</td>\n",
       "      <td>1</td>\n",
       "    </tr>\n",
       "    <tr>\n",
       "      <th>1</th>\n",
       "      <td>893</td>\n",
       "      <td>3</td>\n",
       "      <td>47.000000</td>\n",
       "      <td>1</td>\n",
       "      <td>0</td>\n",
       "      <td>1</td>\n",
       "      <td>0</td>\n",
       "      <td>1</td>\n",
       "      <td>0</td>\n",
       "      <td>0</td>\n",
       "    </tr>\n",
       "    <tr>\n",
       "      <th>2</th>\n",
       "      <td>894</td>\n",
       "      <td>2</td>\n",
       "      <td>62.000000</td>\n",
       "      <td>0</td>\n",
       "      <td>0</td>\n",
       "      <td>0</td>\n",
       "      <td>1</td>\n",
       "      <td>0</td>\n",
       "      <td>0</td>\n",
       "      <td>1</td>\n",
       "    </tr>\n",
       "    <tr>\n",
       "      <th>3</th>\n",
       "      <td>895</td>\n",
       "      <td>3</td>\n",
       "      <td>27.000000</td>\n",
       "      <td>0</td>\n",
       "      <td>0</td>\n",
       "      <td>0</td>\n",
       "      <td>1</td>\n",
       "      <td>1</td>\n",
       "      <td>0</td>\n",
       "      <td>0</td>\n",
       "    </tr>\n",
       "    <tr>\n",
       "      <th>4</th>\n",
       "      <td>896</td>\n",
       "      <td>3</td>\n",
       "      <td>22.000000</td>\n",
       "      <td>1</td>\n",
       "      <td>1</td>\n",
       "      <td>1</td>\n",
       "      <td>0</td>\n",
       "      <td>1</td>\n",
       "      <td>0</td>\n",
       "      <td>0</td>\n",
       "    </tr>\n",
       "    <tr>\n",
       "      <th>...</th>\n",
       "      <td>...</td>\n",
       "      <td>...</td>\n",
       "      <td>...</td>\n",
       "      <td>...</td>\n",
       "      <td>...</td>\n",
       "      <td>...</td>\n",
       "      <td>...</td>\n",
       "      <td>...</td>\n",
       "      <td>...</td>\n",
       "      <td>...</td>\n",
       "    </tr>\n",
       "    <tr>\n",
       "      <th>413</th>\n",
       "      <td>1305</td>\n",
       "      <td>3</td>\n",
       "      <td>24.525104</td>\n",
       "      <td>0</td>\n",
       "      <td>0</td>\n",
       "      <td>0</td>\n",
       "      <td>1</td>\n",
       "      <td>1</td>\n",
       "      <td>0</td>\n",
       "      <td>0</td>\n",
       "    </tr>\n",
       "    <tr>\n",
       "      <th>414</th>\n",
       "      <td>1306</td>\n",
       "      <td>1</td>\n",
       "      <td>39.000000</td>\n",
       "      <td>0</td>\n",
       "      <td>0</td>\n",
       "      <td>1</td>\n",
       "      <td>0</td>\n",
       "      <td>0</td>\n",
       "      <td>1</td>\n",
       "      <td>0</td>\n",
       "    </tr>\n",
       "    <tr>\n",
       "      <th>415</th>\n",
       "      <td>1307</td>\n",
       "      <td>3</td>\n",
       "      <td>38.500000</td>\n",
       "      <td>0</td>\n",
       "      <td>0</td>\n",
       "      <td>0</td>\n",
       "      <td>1</td>\n",
       "      <td>1</td>\n",
       "      <td>0</td>\n",
       "      <td>0</td>\n",
       "    </tr>\n",
       "    <tr>\n",
       "      <th>416</th>\n",
       "      <td>1308</td>\n",
       "      <td>3</td>\n",
       "      <td>24.525104</td>\n",
       "      <td>0</td>\n",
       "      <td>0</td>\n",
       "      <td>0</td>\n",
       "      <td>1</td>\n",
       "      <td>1</td>\n",
       "      <td>0</td>\n",
       "      <td>0</td>\n",
       "    </tr>\n",
       "    <tr>\n",
       "      <th>417</th>\n",
       "      <td>1309</td>\n",
       "      <td>3</td>\n",
       "      <td>24.525104</td>\n",
       "      <td>1</td>\n",
       "      <td>1</td>\n",
       "      <td>0</td>\n",
       "      <td>1</td>\n",
       "      <td>0</td>\n",
       "      <td>1</td>\n",
       "      <td>0</td>\n",
       "    </tr>\n",
       "  </tbody>\n",
       "</table>\n",
       "<p>418 rows × 10 columns</p>\n",
       "</div>"
      ],
      "text/plain": [
       "     PassengerId  Pclass        Age  SibSp  Parch  Sex_0  Sex_1  Embarked_0  \\\n",
       "0            892       3  34.500000      0      0      0      1           0   \n",
       "1            893       3  47.000000      1      0      1      0           1   \n",
       "2            894       2  62.000000      0      0      0      1           0   \n",
       "3            895       3  27.000000      0      0      0      1           1   \n",
       "4            896       3  22.000000      1      1      1      0           1   \n",
       "..           ...     ...        ...    ...    ...    ...    ...         ...   \n",
       "413         1305       3  24.525104      0      0      0      1           1   \n",
       "414         1306       1  39.000000      0      0      1      0           0   \n",
       "415         1307       3  38.500000      0      0      0      1           1   \n",
       "416         1308       3  24.525104      0      0      0      1           1   \n",
       "417         1309       3  24.525104      1      1      0      1           0   \n",
       "\n",
       "     Embarked_1  Embarked_2  \n",
       "0             0           1  \n",
       "1             0           0  \n",
       "2             0           1  \n",
       "3             0           0  \n",
       "4             0           0  \n",
       "..          ...         ...  \n",
       "413           0           0  \n",
       "414           1           0  \n",
       "415           0           0  \n",
       "416           0           0  \n",
       "417           1           0  \n",
       "\n",
       "[418 rows x 10 columns]"
      ]
     },
     "execution_count": 9,
     "metadata": {},
     "output_type": "execute_result"
    }
   ],
   "source": [
    "test"
   ]
  },
  {
   "cell_type": "code",
   "execution_count": 10,
   "metadata": {
    "cell_id": "00005-d3751b29-4862-4155-89d3-72f0a78c850d",
    "deepnote_cell_type": "code",
    "deepnote_to_be_reexecuted": false,
    "execution_millis": 0,
    "execution_start": 1619790322321,
    "source_hash": "19c00576",
    "tags": []
   },
   "outputs": [],
   "source": [
    "x_train, x_test, y_train, y_test = train_test_split(X, Y, test_size=0.1, random_state = 42)"
   ]
  },
  {
   "cell_type": "code",
   "execution_count": 12,
   "metadata": {
    "cell_id": "00006-9d4d48a0-67b7-4219-8d7c-71146ca2fd5d",
    "deepnote_cell_type": "code",
    "deepnote_to_be_reexecuted": false,
    "execution_millis": 512,
    "execution_start": 1619790340399,
    "output_cleared": false,
    "source_hash": "9f6f1103",
    "tags": []
   },
   "outputs": [
    {
     "name": "stdout",
     "output_type": "stream",
     "text": [
      "ACCURACY OF THE MODEL:  0.8194444444444444\n"
     ]
    },
    {
     "data": {
      "text/plain": [
       "array([1, 1, 0, 1, 0, 1, 1, 1, 0, 0, 0, 0, 0, 0, 0, 0, 1, 0, 1, 1, 0, 1,\n",
       "       1, 0, 0, 1, 0, 1, 0, 1, 1, 0, 0, 0, 1, 0, 0, 1, 1, 0, 1, 0, 0, 0,\n",
       "       0, 0, 0, 0, 0, 1, 0, 0, 1, 0, 0, 1, 0, 1, 0, 0, 1, 0, 0, 1, 0, 0,\n",
       "       0, 0, 1, 0, 0, 1])"
      ]
     },
     "execution_count": 12,
     "metadata": {},
     "output_type": "execute_result"
    }
   ],
   "source": [
    "# Gradient Boosting\n",
    "max_features=[1,2,3,4,5,6,7,8,9,10,15,20,30,40]\n",
    "max_depth=[1,2,3,4,5,6,7,8,9,10,15,20,30,40]\n",
    "min_samples_leaf=[1,2,3,4,5,6,7]\n",
    "random_state=[0,1,5,10,42,120]\n",
    "min_samples_split=[1,2,3,4,5,6,7,8,9,10,15]\n",
    "\n",
    "gbc=GradientBoostingClassifier(loss='deviance', learning_rate=0.1,\n",
    "                                 n_estimators=200, subsample=0.91,\n",
    "                                 min_samples_split=6, min_samples_leaf=1, \n",
    "                                 max_depth=6, init=None, random_state=10,\n",
    "                                 max_features=9, verbose=0, max_leaf_nodes=None,\n",
    "                                 warm_start=False)\n",
    "gbc.fit(x_train, y_train)\n",
    "preds = gbc.predict(x_test)\n",
    "acc = accuracy_score(y_test, preds)\n",
    "print(\"ACCURACY OF THE MODEL: \", acc)\n",
    "preds"
   ]
  },
  {
   "cell_type": "code",
   "execution_count": 13,
   "metadata": {
    "cell_id": "00009-2e0405d7-7bbc-4ffc-9014-edde51955cbc",
    "deepnote_cell_type": "code",
    "deepnote_to_be_reexecuted": false,
    "execution_millis": 8,
    "execution_start": 1619790349319,
    "source_hash": "b0ff5899",
    "tags": []
   },
   "outputs": [
    {
     "data": {
      "text/plain": [
       "Index(['PassengerId', 'Pclass', 'Age', 'SibSp', 'Parch', 'Sex_0', 'Sex_1',\n",
       "       'Embarked_0', 'Embarked_1', 'Embarked_2'],\n",
       "      dtype='object')"
      ]
     },
     "execution_count": 13,
     "metadata": {},
     "output_type": "execute_result"
    }
   ],
   "source": [
    "test.columns"
   ]
  },
  {
   "cell_type": "code",
   "execution_count": 14,
   "metadata": {
    "cell_id": "00005-6c4b8f9c-ace0-46da-a4c8-1d60f4098c6c",
    "deepnote_cell_type": "code",
    "deepnote_to_be_reexecuted": false,
    "execution_millis": 12,
    "execution_start": 1619790353044,
    "source_hash": "6deb3bb1",
    "tags": []
   },
   "outputs": [],
   "source": [
    "y_pred_test = gbc.predict(test)\n",
    "y_scores_test = y_pred_test\n",
    "\n",
    "test['Survived'] = y_scores_test\n",
    "test[[\"PassengerId\", \"Survived\"]].to_csv(\"gender_submission.csv\", index=False)"
   ]
  },
  {
   "cell_type": "code",
   "execution_count": 15,
   "metadata": {
    "cell_id": "00012-d1722ea2-4af9-4b9b-8378-e51e12511a78",
    "deepnote_cell_type": "code",
    "deepnote_to_be_reexecuted": false,
    "execution_millis": 10,
    "execution_start": 1619790363465,
    "source_hash": "77d4dc36",
    "tags": []
   },
   "outputs": [
    {
     "data": {
      "text/plain": [
       "array([0, 0, 0, 0, 0, 0, 0, 0, 0, 0, 0, 0, 1, 0, 1, 1, 0, 0, 0, 0, 1, 1,\n",
       "       1, 1, 1, 0, 1, 0, 0, 0, 0, 0, 0, 0, 0, 0, 0, 0, 0, 0, 0, 0, 0, 1,\n",
       "       1, 0, 0, 0, 1, 0, 0, 0, 1, 1, 0, 0, 0, 0, 0, 1, 0, 0, 0, 0, 1, 1,\n",
       "       0, 0, 0, 1, 0, 0, 0, 1, 1, 1, 0, 1, 0, 0, 1, 0, 1, 0, 0, 0, 0, 0,\n",
       "       0, 1, 0, 0, 1, 0, 1, 0, 1, 0, 0, 0, 1, 0, 0, 0, 1, 0, 0, 0, 0, 0,\n",
       "       0, 0, 1, 0, 1, 0, 0, 1, 0, 1, 1, 0, 1, 0, 0, 0, 0, 0, 0, 0, 0, 1,\n",
       "       0, 0, 0, 0, 0, 0, 0, 0, 0, 1, 0, 0, 0, 0, 0, 0, 0, 0, 1, 0, 0, 0,\n",
       "       0, 0, 1, 0, 0, 0, 0, 1, 1, 0, 0, 0, 1, 0, 1, 0, 0, 0, 0, 0, 0, 1,\n",
       "       1, 1, 1, 1, 0, 0, 1, 0, 1, 0, 1, 0, 0, 0, 0, 0, 1, 0, 1, 0, 1, 0,\n",
       "       0, 0, 0, 1, 0, 1, 0, 1, 0, 0, 1, 0, 0, 0, 0, 0, 0, 0, 0, 1, 1, 0,\n",
       "       1, 0, 1, 0, 1, 1, 0, 0, 0, 0, 0, 1, 0, 0, 0, 0, 0, 0, 1, 1, 1, 1,\n",
       "       0, 0, 0, 0, 1, 0, 1, 0, 1, 0, 1, 0, 0, 0, 0, 0, 1, 0, 0, 0, 1, 1,\n",
       "       0, 0, 0, 0, 0, 0, 0, 0, 1, 0, 0, 1, 0, 0, 0, 0, 0, 1, 0, 1, 0, 0,\n",
       "       0, 0, 0, 0, 0, 0, 0, 1, 0, 0, 1, 0, 0, 0, 0, 0, 0, 0, 0, 1, 0, 1,\n",
       "       1, 0, 0, 0, 0, 0, 1, 0, 1, 0, 0, 0, 0, 0, 0, 0, 1, 0, 1, 0, 0, 0,\n",
       "       1, 0, 0, 1, 0, 0, 0, 0, 0, 0, 0, 0, 0, 1, 0, 0, 0, 0, 0, 1, 1, 0,\n",
       "       0, 0, 1, 1, 1, 0, 0, 0, 0, 1, 1, 0, 1, 0, 0, 0, 1, 0, 0, 1, 1, 0,\n",
       "       1, 1, 0, 0, 1, 0, 0, 0, 0, 0, 0, 1, 0, 0, 0, 0, 0, 1, 1, 0, 0, 1,\n",
       "       0, 1, 0, 0, 1, 0, 1, 0, 0, 0, 0, 1, 0, 0, 0, 1, 0, 0, 1, 0, 0, 0])"
      ]
     },
     "execution_count": 15,
     "metadata": {},
     "output_type": "execute_result"
    }
   ],
   "source": [
    "y_scores_test"
   ]
  },
  {
   "cell_type": "code",
   "execution_count": null,
   "metadata": {
    "cell_id": "00005-7971df23-97b1-4c47-8991-ebc70c4c4371",
    "deepnote_cell_type": "code",
    "deepnote_to_be_reexecuted": false,
    "execution_millis": 1242,
    "execution_start": 1619787880637,
    "source_hash": "908351b7",
    "tags": []
   },
   "outputs": [
    {
     "data": {
      "image/png": "[encoded data removed]",
      "text/plain": [
       "<Figure size 432x288 with 1 Axes>"
      ]
     },
     "metadata": {
      "image/png": {
       "height": 263,
       "width": 386
      },
      "needs_background": "light"
     },
     "output_type": "display_data"
    }
   ],
   "source": [
    "from sklearn import metrics\n",
    "n_estimators = [1, 2, 4, 8, 16, 32, 64, 100, 200]\n",
    "train_results = []\n",
    "test_results = []\n",
    "for estimator in n_estimators:\n",
    "   model = GradientBoostingClassifier(n_estimators=estimator)\n",
    "   model.fit(x_train, y_train)\n",
    "   train_pred = model.predict(x_train)\n",
    "   false_positive_rate, true_positive_rate, thresholds = metrics.roc_curve(y_train, train_pred)\n",
    "   roc_auc = metrics.auc(false_positive_rate, true_positive_rate)\n",
    "   train_results.append(roc_auc)\n",
    "   y_pred = model.predict(x_test)\n",
    "   false_positive_rate, true_positive_rate, thresholds = metrics.roc_curve(y_test, y_pred)\n",
    "   roc_auc = metrics.auc(false_positive_rate, true_positive_rate)\n",
    "   test_results.append(roc_auc)\n",
    "from matplotlib.legend_handler import HandlerLine2D\n",
    "line1, = plt.plot(n_estimators, train_results, 'b', label='Train AUC')\n",
    "line2, = plt.plot(n_estimators, test_results, 'r', label='Test AUC')\n",
    "plt.legend(handler_map={line1: HandlerLine2D(numpoints=2)})\n",
    "plt.ylabel('AUC score')\n",
    "plt.xlabel('n_estimators')\n",
    "plt.show()"
   ]
  },
  {
   "cell_type": "code",
   "execution_count": null,
   "metadata": {
    "cell_id": "00009-5d22199d-1f71-4f63-addc-2549200bb5bd",
    "deepnote_cell_type": "code",
    "deepnote_to_be_reexecuted": false,
    "execution_millis": 21,
    "execution_start": 1619788397568,
    "source_hash": "7aace2d9",
    "tags": []
   },
   "outputs": [
    {
     "name": "stdout",
     "output_type": "stream",
     "text": [
      "ACCURACY OF THE MODEL:  0.8055555555555556\n"
     ]
    }
   ],
   "source": [
    "#(*, criterion='gini', splitter='best', max_depth=None, min_samples_split=2, min_samples_leaf=1, \n",
    "# min_weight_fraction_leaf=0.0, max_features=None, random_state=None, max_leaf_nodes=None, \n",
    "# min_impurity_decrease=0.0, min_impurity_split=None, class_weight=None, ccp_alpha=0.0)\n",
    "\n",
    "clf = DecisionTreeClassifier(criterion=\"entropy\", max_depth=4, min_samples_split=2, \n",
    "                            min_samples_leaf=1, min_weight_fraction_leaf=0, max_features='auto',\n",
    "                            random_state=0, max_leaf_nodes=30, min_impurity_decrease=0, min_impurity_split=None)\n",
    "clf = clf.fit(x_train,y_train)\n",
    "preds = clf.predict(x_test)\n",
    "acc = accuracy_score(y_test, preds)\n",
    "print(\"ACCURACY OF THE MODEL: \", acc)\n"
   ]
  },
  {
   "cell_type": "code",
   "execution_count": 22,
   "metadata": {
    "cell_id": "00015-878d4f96-5a60-42fd-87a4-fd3522b09de1",
    "deepnote_cell_type": "code",
    "deepnote_to_be_reexecuted": false,
    "execution_millis": 0,
    "execution_start": 1619790651662,
    "source_hash": "173586c0",
    "tags": []
   },
   "outputs": [],
   "source": [
    "test=test.drop(\"Survived\",axis=1)"
   ]
  },
  {
   "cell_type": "code",
   "execution_count": 23,
   "metadata": {
    "cell_id": "00005-16039468-05c0-4299-9504-b3f4d4e58656",
    "deepnote_cell_type": "code",
    "deepnote_to_be_reexecuted": false,
    "execution_millis": 11,
    "execution_start": 1619790655525,
    "source_hash": "6795ba16",
    "tags": []
   },
   "outputs": [
    {
     "name": "stdout",
     "output_type": "stream",
     "text": [
      "ACCURACY OF THE MODEL:  0.8055555555555556\n"
     ]
    }
   ],
   "source": [
    "# Descion Tree\n",
    "\n",
    "dcf = DecisionTreeClassifier(criterion=\"entropy\", max_depth=4)\n",
    "dcf = dcf.fit(x_train,y_train)\n",
    "preds = dcf.predict(x_test)\n",
    "acc = accuracy_score(y_test, preds)\n",
    "print(\"ACCURACY OF THE MODEL: \", acc)\n"
   ]
  },
  {
   "cell_type": "code",
   "execution_count": 24,
   "metadata": {
    "cell_id": "00016-332caf12-27b6-47c1-9cb9-0ffb41e9a66f",
    "deepnote_cell_type": "code",
    "deepnote_to_be_reexecuted": false,
    "execution_millis": 19,
    "execution_start": 1619790657267,
    "source_hash": "60767906",
    "tags": []
   },
   "outputs": [],
   "source": [
    "y_pred_test = dcf.predict(test)\n",
    "y_scores_test = y_pred_test\n",
    "\n",
    "test['Survived'] = y_scores_test\n",
    "test[[\"PassengerId\", \"Survived\"]].to_csv(\"gender_submissiondcf.csv\", index=False)"
   ]
  },
  {
   "cell_type": "code",
   "execution_count": null,
   "metadata": {
    "cell_id": "00006-79b754a5-3196-4749-a07d-f99dc5a929ed",
    "deepnote_cell_type": "code",
    "deepnote_to_be_reexecuted": false,
    "execution_millis": 44,
    "execution_start": 1619787032317,
    "source_hash": "953c5ce5",
    "tags": []
   },
   "outputs": [
    {
     "name": "stdout",
     "output_type": "stream",
     "text": [
      "ACCURACY OF THE MODEL:  0.5416666666666666\n"
     ]
    }
   ],
   "source": [
    "# KMeans\n",
    "\n",
    "from sklearn.cluster import KMeans\n",
    "Kmean =KMeans(algorithm='auto', copy_x=True, init='k-means++', max_iter=1000 ,n_clusters=2, n_init=15, n_jobs=1, precompute_distances='auto',\n",
    " random_state=0, tol=0.00001, verbose=0)\n",
    "Kmean.fit(X)\n",
    "preds = Kmean.predict(x_test)\n",
    "acc = accuracy_score(y_test, preds)\n",
    "print(\"ACCURACY OF THE MODEL: \", acc)\n"
   ]
  },
  {
   "cell_type": "code",
   "execution_count": null,
   "metadata": {
    "cell_id": "00007-5a20a687-117d-4f7c-a7ef-42392f48332e",
    "deepnote_cell_type": "code",
    "deepnote_to_be_reexecuted": false,
    "execution_millis": 70,
    "execution_start": 1619787742919,
    "source_hash": "2df44b5a",
    "tags": []
   },
   "outputs": [
    {
     "name": "stdout",
     "output_type": "stream",
     "text": [
      "ACCURACY OF THE MODEL:  0.5833333333333334\n"
     ]
    }
   ],
   "source": [
    "Kmean =KMeans(algorithm='full', copy_x=True, init='random', max_iter=1000 ,n_clusters=1, n_init=20, n_jobs=1, precompute_distances='auto',\n",
    " random_state=0, tol=0.00001, verbose=0)\n",
    "Kmean.fit(x_test)\n",
    "preds = Kmean.predict(x_test)\n",
    "acc = accuracy_score(y_test, preds)\n",
    "print(\"ACCURACY OF THE MODEL: \", acc)"
   ]
  },
  {
   "cell_type": "code",
   "execution_count": null,
   "metadata": {
    "cell_id": "00009-e3140ff3-cd3a-4041-b496-4489b125644e",
    "deepnote_cell_type": "code",
    "deepnote_to_be_reexecuted": false,
    "execution_millis": 0,
    "execution_start": 1619787267326,
    "source_hash": "d29b6af4",
    "tags": []
   },
   "outputs": [],
   "source": [
    "X['Sex_0'] = X['Sex_0'].apply(lambda x: x*4)\n"
   ]
  },
  {
   "cell_type": "code",
   "execution_count": null,
   "metadata": {
    "cell_id": "00012-c18c707b-2883-42a3-b588-d46ee8f48c64",
    "deepnote_cell_type": "code",
    "deepnote_to_be_reexecuted": false,
    "execution_millis": 207,
    "execution_start": 1619788277301,
    "source_hash": "49179ad",
    "tags": []
   },
   "outputs": [],
   "source": [
    "#Random Forest\n",
    "random_forest = RandomForestClassifier(n_estimators=100)\n",
    "random_forest.fit(x_train, y_train)\n",
    "\n",
    "Y_prediction = random_forest.predict(x_test)\n",
    "\n",
    "random_forest.score(x_train, y_train)\n",
    "acc_random_forest = round(random_forest.score(x_train, y_train) * 100, 2)"
   ]
  },
  {
   "cell_type": "markdown",
   "metadata": {
    "created_in_deepnote_cell": true,
    "deepnote_cell_type": "markdown",
    "tags": []
   },
   "source": [
    "<a style='text-decoration:none;line-height:16px;display:flex;color:#5B5B62;padding:10px;justify-content:end;' href='https://deepnote.com?utm_source=created-in-deepnote-cell&projectId=e8daa8c8-3fb0-4a23-87be-52f63dfe9dde' target=\"_blank\">\n",
    "<img alt='Created in deepnote.com' style='display:inline;max-height:16px;margin:0px;margin-right:7.5px;' src='data:image/svg+xml;base64,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' > </img>\n",
    "Created in <span style='font-weight:600;margin-left:4px;'>Deepnote</span></a>"
   ]
  }
 ],
 "metadata": {
  "deepnote": {
   "is_reactive": false
  },
  "deepnote_execution_queue": [],
  "deepnote_notebook_id": "8e1b8474-08e5-416d-87f0-184fbc68ab6b",
  "hide_input": false,
  "kernelspec": {
   "display_name": "Python 3",
   "language": "python",
   "name": "python3"
  },
  "language_info": {
   "codemirror_mode": {
    "name": "ipython",
    "version": 3
   },
   "file_extension": ".py",
   "mimetype": "text/x-python",
   "name": "python",
   "nbconvert_exporter": "python",
   "pygments_lexer": "ipython3",
   "version": "3.8.2"
  },
  "toc": {
   "base_numbering": 1,
   "nav_menu": {},
   "number_sections": true,
   "sideBar": true,
   "skip_h1_title": false,
   "title_cell": "Table of Contents",
   "title_sidebar": "Contents",
   "toc_cell": false,
   "toc_position": {},
   "toc_section_display": true,
   "toc_window_display": false
  },
  "varInspector": {
   "cols": {
    "lenName": 16,
    "lenType": 16,
    "lenVar": 40
   },
   "kernels_config": {
    "python": {
     "delete_cmd_postfix": "",
     "delete_cmd_prefix": "del ",
     "library": "var_list.py",
     "varRefreshCmd": "print(var_dic_list())"
    },
    "r": {
     "delete_cmd_postfix": ") ",
     "delete_cmd_prefix": "rm(",
     "library": "var_list.r",
     "varRefreshCmd": "cat(var_dic_list()) "
    }
   },
   "types_to_exclude": [
    "module",
    "function",
    "builtin_function_or_method",
    "instance",
    "_Feature"
   ],
   "window_display": false
  }
 },
 "nbformat": 4,
 "nbformat_minor": 2
}
