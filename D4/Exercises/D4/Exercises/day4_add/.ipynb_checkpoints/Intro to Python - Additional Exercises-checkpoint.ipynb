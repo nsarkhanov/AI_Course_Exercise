{
 "cells": [
  {
   "cell_type": "markdown",
   "metadata": {},
   "source": [
    "**Exercise 2.2 (optional):** Write code that classifies a given amount of money (which you store in a variable `amount`), specified in cents, as greater monetary units. Your code lists the monetary equivalent in dollars (100 ct), quarters (25 ct), dimes (10 ct), nickels (5 ct), and pennies (1 ct). Your program should report the maximum number of dollars that fit in the amount, then the maximum number of quarters that fit in the remainder after you subtract the dollars, then the maximum number of dimes that fit in the remainder after you subtract the dollars and quarters, and so on for nickels and pennies. The result is that you express the amount as the minimum number of coins needed.  \n",
    "\n",
    "**Can you do it again? Would you change anything from the last time you had to do this?**"
   ]
  },
  {
   "cell_type": "code",
   "execution_count": 72,
   "metadata": {},
   "outputs": [
    {
     "name": "stdout",
     "output_type": "stream",
     "text": [
      "4 dollars,2 quarters,1 dimes,1 nickel,0 pennies\n"
     ]
    }
   ],
   "source": [
    "amount=465\n",
    "\n",
    "\n",
    "dollar =100 # cents \n",
    "quarter=25 #cents\n",
    "dime=10  # cents\n",
    "nickel=5 #cents\n",
    "penny=1 #\n",
    "d=amount//dollar # give dollar  \n",
    "q=(amount%dollar) //quarter   # give quarter\n",
    "di=(amount-d*dollar-q*quarter)//dime  #give dimes\n",
    "ni=(amount-d*dollar-q*quarter-di*dime)//nickel\n",
    "pe=(amount-d*dollar-q*quarter-di*dime-ni*nickel)\n",
    "print (f\"{d} dollars,{q} quarters,{di} dimes,{ni} nickel,{pe} pennies\")\n"
   ]
  },
  {
   "cell_type": "markdown",
   "metadata": {},
   "source": [
    "**Exercise (optional)**: The factorial of a positive integer is that integer, multiplied by all positive integers that are lower (excluding zero). You write the factorial as the number with an exclamation mark after it. E.g., the factorial of 5 is `5! = 5 * 4 * 3 * 2 * 1 = 120`. Write a function that calculates the factorial of its (integer) parameter. Test your function for different parameter values, but do not use very large numbers as factorials grow exponentially. Hint: to do this with a `while` loop, you need at least one more variable."
   ]
  },
  {
   "cell_type": "code",
   "execution_count": 74,
   "metadata": {},
   "outputs": [
    {
     "name": "stdout",
     "output_type": "stream",
     "text": [
      "24\n"
     ]
    }
   ],
   "source": [
    "# Factorial\n",
    "def factorial(number):                                \n",
    "    if number==1:\n",
    "        return 1\n",
    "    else:\n",
    "        return number*factorial(number-1)\n",
    "print(factorial(4))"
   ]
  },
  {
   "cell_type": "markdown",
   "metadata": {},
   "source": [
    "**Exercise 5.1 (optional):** Write a function that prints a multiplication table for digits 1 to 10. A multiplication table for the numbers 1 to `num = 3` looks as follows:\n",
    "\n",
    "`. |  1  2  3`<br>\n",
    "`------------`<br>\n",
    "`1 |  1  2  3`<br>\n",
    "`2 |  2  4  6`<br>\n",
    "`3 |  3  6  9`\n",
    "\n",
    "So the labels on the rows are multiplied by the labels on the columns, and the result is shown in the cell that is on that row/column combination. "
   ]
  },
  {
   "cell_type": "code",
   "execution_count": 165,
   "metadata": {},
   "outputs": [
    {
     "name": "stdout",
     "output_type": "stream",
     "text": [
      "  . | 1  2  3  4  5  \n",
      " --------------------\n",
      "  1 | 1  2  3  4  5 \n",
      "\n",
      "  2 | 2  4  6  8  10 \n",
      "\n",
      "  3 | 3  6  9  12  15 \n",
      "\n",
      "  4 | 4  8  12  16  20 \n",
      "\n",
      "  5 | 5  10  15  20  25 \n",
      "\n"
     ]
    }
   ],
   "source": [
    "# Print multiplication table\n",
    "def print_multiplication_table(n):\n",
    "    print(\"  . | \",end=\"\")\n",
    "    sp=\"----\"\n",
    "    for i in range(1,n+1):\n",
    "            print(i,end=\"  \")\n",
    "           \n",
    "    print(\"\\n\",n*sp)\n",
    "    for i in range(1,n+1):\n",
    "        print(\" \",i,end=\"\")\n",
    "        if i ==1:\n",
    "            print(\" |\",end=\"\")\n",
    "        else:\n",
    "            print(\" |\",end=\"\")\n",
    "       \n",
    "        for j in range(1,1+n):\n",
    "          \n",
    "            print(f\" {i*j} \",end=\"\")\n",
    "        print(\"\\n\")\n",
    "       \n",
    "\n",
    "\n",
    "print_multiplication_table(5)"
   ]
  },
  {
   "cell_type": "markdown",
   "metadata": {},
   "source": [
    "**Exercise 5.2 (optional):** If you did the previous exercise with a `while` loop, then do it again with a `for` loop. If you did it with a `for` loop, then do it again with a `while` loop. If you did not use a loop at all, you should be ashamed of yourself."
   ]
  },
  {
   "cell_type": "code",
   "execution_count": 187,
   "metadata": {},
   "outputs": [
    {
     "name": "stdout",
     "output_type": "stream",
     "text": [
      " .| 1  2  3  \n",
      " ------------\n",
      "1 | 1  2  3 \n",
      "\n",
      "2 | 2  4  6 \n",
      "\n",
      "3 | 3  6  9 \n",
      "\n"
     ]
    }
   ],
   "source": [
    "def print_multiplication_table(n):\n",
    "    print(\" .| \",end=\"\")\n",
    "    i=1\n",
    "    t=1\n",
    "    \n",
    "    sp=\"----\"\n",
    "    while (t)<n+1:\n",
    "            print(t,end=\"  \")\n",
    "            t+=1 \n",
    "    print(\"\\n\",n*sp)\n",
    "    while (i)<n+1:\n",
    "        print(i,end=\"\")\n",
    "        if i ==1:\n",
    "            print(\" |\",end=\"\")\n",
    "        else:\n",
    "            print(\" |\",end=\"\")\n",
    "        j=1\n",
    "        while (j)<n+1:\n",
    "            \n",
    "            print(f\" {i*j} \",end=\"\")\n",
    "            j+=1\n",
    "        print(\"\\n\")\n",
    "        i+=1\n",
    "       \n",
    "print_multiplication_table(3)\n"
   ]
  },
  {
   "cell_type": "markdown",
   "metadata": {},
   "source": [
    "**Exercise 6.5 (optional):** Typical autocorrect functions are the following: \n",
    "1. if a word starts with two capitals, followed by a lower-case letter, the second capital is made lower case; \n",
    "2. if a sentence contains a word that is immediately followed by the same word, the second occurrence is removed; \n",
    "3. if a sentence starts with a lower-case letter, that letter is turned into a capital; \n",
    "4. if a word consists entirely of capitals, except for the first letter which is lower case, then the case of the letters in the word is reversed; and \n",
    "5. if the sentence contains the name of a day (in English) which does not start with a capital, the first letter is turned into a capital. \n",
    "\n",
    "Write a program that takes a sentence and makes these auto-corrections."
   ]
  },
  {
   "cell_type": "code",
   "execution_count": 70,
   "metadata": {},
   "outputs": [
    {
     "name": "stdout",
     "output_type": "stream",
     "text": [
      "as it turned out our chance meeting with Reverend Arthur Belling was was to change our whole way of life, and every sunday we'd hurry along to St loony up the Cream Bun and Jam.\n"
     ]
    }
   ],
   "source": [
    "# Autocorrect. i will fix it\n",
    "\n",
    "sentence = \"as it turned out our chance meeting with REverend aRTHUR BElling was \\\n",
    "was to change our whole way of life, and every sunday we'd hurry along to St lOONY up the Cream BUn and Jam.\"\n",
    "ch_counter=0\n",
    "w_counter=0\n",
    "words=sentence.split()\n",
    "new_words=[]\n",
    "for word in words:\n",
    "    for char in word:\n",
    "        if char.isupper():\n",
    "            ch_counter+=1\n",
    "        if ch_counter==2 and word.index(char)==1:\n",
    "            word=word[0]+word[1:].lower()\n",
    "           \n",
    "            break\n",
    "        if ch_counter>2:\n",
    "            word=word.lower()\n",
    "            word=word[0].upper()+word[1:].lower()\n",
    "            break \n",
    "    ch_counter=0\n",
    "    new_words.append(word)   \n",
    "new_words=\" \".join(new_words)      \n",
    "    \n",
    "print(new_words) \n"
   ]
  },
  {
   "cell_type": "markdown",
   "metadata": {},
   "source": [
    "### Exercise 11.3 (Optional)\n",
    "In this directory you find a file `blakepoems.txt`. Write a program that processes the contents of this file, line by line. It creates an output file in the current working directory called `blkpms.txt`, which has the same contents as `blakepoems.txt`, except that all the vowels are removed (case-insensitively). At the end, display how many characters you read, and how many characters you wrote. If you want to check the contents of `blkpms.txt`, you can either open it in a text editor, or display the first 10 lines or so at the end of your program."
   ]
  },
  {
   "cell_type": "code",
   "execution_count": 28,
   "metadata": {},
   "outputs": [
    {
     "name": "stdout",
     "output_type": "stream",
     "text": [
      "[pms by wllm blk 1789]\n",
      "\n",
      "\n",
      "\n",
      "y cn d ths\n",
      "\n",
      "\n",
      "\n",
      "\n",
      "\n",
      "sngs f nncnc nd f xprnc\n",
      "\n",
      "nd th bk f thl\n",
      "\n",
      "\n",
      "\n",
      "\n",
      "\n",
      " sngs f nncnc\n",
      "\n"
     ]
    }
   ],
   "source": [
    "import os\n",
    "f_name=os.path.join(os.getcwd(),\"text-files\",\"blakepoems.txt\")\n",
    "with open(f_name,\"r\") as f:\n",
    "    buffer=f.read()\n",
    "#     print(buffer)\n",
    "    nums_read=len(buffer)\n",
    "    chars=['a','o','i','u','e']\n",
    "    buffer=buffer.lower()\n",
    "#     print(buffer)\n",
    "    for char in chars:\n",
    "        buffer=buffer.replace(char,\"\")\n",
    "#     print(buffer)\n",
    "        \n",
    "    b_buffer=open(\"blkpms.txt\",\"w\")\n",
    "    b_buffer.writelines(buffer)\n",
    "    b_buffer.close()\n",
    "    new=open(\"blkpms.txt\",\"r\")\n",
    "    new_line=new.readlines()\n",
    "    count=0\n",
    "    for line in new_line:\n",
    "        count+=1\n",
    "        print(line)\n",
    "        if count==10:\n",
    "            break\n",
    "        \n"
   ]
  }
 ],
 "metadata": {
  "kernelspec": {
   "display_name": "Python 3",
   "language": "python",
   "name": "python3"
  },
  "language_info": {
   "codemirror_mode": {
    "name": "ipython",
    "version": 3
   },
   "file_extension": ".py",
   "mimetype": "text/x-python",
   "name": "python",
   "nbconvert_exporter": "python",
   "pygments_lexer": "ipython3",
   "version": "3.8.5"
  }
 },
 "nbformat": 4,
 "nbformat_minor": 2
}
