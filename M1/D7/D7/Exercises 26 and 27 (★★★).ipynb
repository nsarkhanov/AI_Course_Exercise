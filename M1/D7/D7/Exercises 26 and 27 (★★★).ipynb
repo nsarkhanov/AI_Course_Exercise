{
 "cells": [
  {
   "cell_type": "code",
   "execution_count": 1,
   "metadata": {},
   "outputs": [],
   "source": [
    "import pandas as pd \n",
    "import numpy as np\n"
   ]
  },
  {
   "cell_type": "markdown",
   "metadata": {},
   "source": [
    "**26.** You have a DataFrame that consists of 10 columns of floating--point numbers. Suppose that exactly 5 entries in each row are NaN values. For each row of the DataFrame, find the *column* which contains the *third* NaN value.\n",
    "\n",
    "(You should return a Series of column labels. Try not to use `.iterrows()`)"
   ]
  },
  {
   "cell_type": "code",
   "execution_count": 12,
   "metadata": {},
   "outputs": [],
   "source": [
    "data = {\n",
    "1:[np.nan,2,np.nan,4,5],\n",
    "2:[np.nan,2,3,np.nan,5],\n",
    "3:[np.nan,2,np.nan,4,5],\n",
    "4:[1,np.nan,3,np.nan,np.nan],\n",
    "5:[1,2,np.nan,4,5],\n",
    "6:[1,np.nan,3,np.nan,np.nan],\n",
    "7:[1,2,3,4,5],\n",
    "8:[1,np.nan,3,np.nan,np.nan],\n",
    "9:[1,2,3,4,np.nan],\n",
    "10:[1,np.nan,3,4,5]}\n",
    "\n",
    "df=pd.DataFrame(data)"
   ]
  },
  {
   "cell_type": "code",
   "execution_count": 48,
   "metadata": {},
   "outputs": [
    {
     "name": "stdout",
     "output_type": "stream",
     "text": [
      "    1    2    3    4    5    6   7    8    9    10\n",
      "0  NaN  NaN  NaN  1.0  1.0  1.0   1  1.0  1.0  1.0\n",
      "1  2.0  2.0  2.0  NaN  2.0  NaN   2  NaN  2.0  NaN\n",
      "2  NaN  3.0  NaN  3.0  NaN  3.0   3  3.0  3.0  3.0\n",
      "3  4.0  NaN  4.0  NaN  4.0  NaN   4  NaN  4.0  4.0\n",
      "4  5.0  5.0  5.0  NaN  5.0  NaN   5  NaN  NaN  5.0 \n",
      "\n",
      "1\n"
     ]
    }
   ],
   "source": [
    "print(df,\"\\n\") \n",
    "d=[]\n",
    "d.append((df == np.nan).idxmax(axis=1)[2])\n",
    "print(df.loc[2].eq(np.nan).idxmax())\n",
    "\n"
   ]
  },
  {
   "cell_type": "markdown",
   "metadata": {},
   "source": [
    "**27.** A DataFrame has a column of groups 'grps' and and column of numbers 'vals'. For example: \n",
    "\n",
    "```python\n",
    "df = pd.DataFrame({'grps': list('aaabbcaabcccbbc'), \n",
    "                   'vals': [12,345,3,1,45,14,4,52,54,23,235,21,57,3,87]})\n",
    "```\n",
    "For each *group*, find the sum of the three greatest values."
   ]
  },
  {
   "cell_type": "code",
   "execution_count": 7,
   "metadata": {},
   "outputs": [
    {
     "data": {
      "text/html": "<div>\n<style scoped>\n    .dataframe tbody tr th:only-of-type {\n        vertical-align: middle;\n    }\n\n    .dataframe tbody tr th {\n        vertical-align: top;\n    }\n\n    .dataframe thead th {\n        text-align: right;\n    }\n</style>\n<table border=\"1\" class=\"dataframe\">\n  <thead>\n    <tr style=\"text-align: right;\">\n      <th></th>\n      <th>grps</th>\n      <th>vals</th>\n    </tr>\n  </thead>\n  <tbody>\n    <tr>\n      <th>0</th>\n      <td>a</td>\n      <td>12</td>\n    </tr>\n    <tr>\n      <th>1</th>\n      <td>a</td>\n      <td>345</td>\n    </tr>\n    <tr>\n      <th>2</th>\n      <td>a</td>\n      <td>3</td>\n    </tr>\n    <tr>\n      <th>3</th>\n      <td>b</td>\n      <td>1</td>\n    </tr>\n    <tr>\n      <th>4</th>\n      <td>b</td>\n      <td>45</td>\n    </tr>\n    <tr>\n      <th>5</th>\n      <td>c</td>\n      <td>14</td>\n    </tr>\n    <tr>\n      <th>6</th>\n      <td>a</td>\n      <td>4</td>\n    </tr>\n    <tr>\n      <th>7</th>\n      <td>a</td>\n      <td>52</td>\n    </tr>\n    <tr>\n      <th>8</th>\n      <td>b</td>\n      <td>54</td>\n    </tr>\n    <tr>\n      <th>9</th>\n      <td>c</td>\n      <td>23</td>\n    </tr>\n    <tr>\n      <th>10</th>\n      <td>c</td>\n      <td>235</td>\n    </tr>\n    <tr>\n      <th>11</th>\n      <td>c</td>\n      <td>21</td>\n    </tr>\n    <tr>\n      <th>12</th>\n      <td>b</td>\n      <td>57</td>\n    </tr>\n    <tr>\n      <th>13</th>\n      <td>b</td>\n      <td>3</td>\n    </tr>\n    <tr>\n      <th>14</th>\n      <td>c</td>\n      <td>87</td>\n    </tr>\n  </tbody>\n</table>\n</div>",
      "text/plain": "   grps  vals\n0     a    12\n1     a   345\n2     a     3\n3     b     1\n4     b    45\n5     c    14\n6     a     4\n7     a    52\n8     b    54\n9     c    23\n10    c   235\n11    c    21\n12    b    57\n13    b     3\n14    c    87"
     },
     "execution_count": 7,
     "metadata": {},
     "output_type": "execute_result"
    }
   ],
   "source": [
    "df = pd.DataFrame({'grps': list('aaabbcaabcccbbc'), \n",
    "                   'vals': [12,345,3,1,45,14,4,52,54,23,235,21,57,3,87]})\n",
    "df"
   ]
  }
 ],
 "metadata": {
  "kernelspec": {
   "display_name": "Python 3",
   "language": "python",
   "name": "python3"
  },
  "language_info": {
   "codemirror_mode": {
    "name": "ipython",
    "version": 3
   },
   "file_extension": ".py",
   "mimetype": "text/x-python",
   "name": "python",
   "nbconvert_exporter": "python",
   "pygments_lexer": "ipython3",
   "version": "3.8.5"
  }
 },
 "nbformat": 4,
 "nbformat_minor": 5
}