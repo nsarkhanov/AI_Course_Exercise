{
 "cells": [
  {
   "cell_type": "code",
   "execution_count": 1,
   "metadata": {},
   "outputs": [],
   "source": [
    "import pandas as pd\n",
    "import numpy as np"
   ]
  },
  {
   "cell_type": "markdown",
   "metadata": {},
   "source": [
    "**23.** Given a DataFrame of numeric values, say\n",
    "```python\n",
    "df = pd.DataFrame(np.random.random(size=(5, 3))) # a 5x3 frame of float values\n",
    "```\n",
    "\n",
    "how do you subtract the row mean from each element in the row?"
   ]
  },
  {
   "cell_type": "code",
   "execution_count": 2,
   "metadata": {},
   "outputs": [
    {
     "name": "stdout",
     "output_type": "stream",
     "text": [
      "          0         1         2\n",
      "0  0.499309  0.646461  0.306413\n",
      "1  0.607377  0.970556  0.132435\n",
      "2  0.406009  0.370329  0.482833\n",
      "3  0.026334  0.306513  0.694957\n",
      "4  0.650292  0.547782  0.966550\n"
     ]
    },
    {
     "data": {
      "text/html": "<div>\n<style scoped>\n    .dataframe tbody tr th:only-of-type {\n        vertical-align: middle;\n    }\n\n    .dataframe tbody tr th {\n        vertical-align: top;\n    }\n\n    .dataframe thead th {\n        text-align: right;\n    }\n</style>\n<table border=\"1\" class=\"dataframe\">\n  <thead>\n    <tr style=\"text-align: right;\">\n      <th></th>\n      <th>0</th>\n      <th>1</th>\n      <th>2</th>\n    </tr>\n  </thead>\n  <tbody>\n    <tr>\n      <th>0</th>\n      <td>0.015248</td>\n      <td>0.162400</td>\n      <td>-0.177648</td>\n    </tr>\n    <tr>\n      <th>1</th>\n      <td>0.037254</td>\n      <td>0.400433</td>\n      <td>-0.437687</td>\n    </tr>\n    <tr>\n      <th>2</th>\n      <td>-0.013715</td>\n      <td>-0.049395</td>\n      <td>0.063110</td>\n    </tr>\n    <tr>\n      <th>3</th>\n      <td>-0.316268</td>\n      <td>-0.036088</td>\n      <td>0.352356</td>\n    </tr>\n    <tr>\n      <th>4</th>\n      <td>-0.071249</td>\n      <td>-0.173759</td>\n      <td>0.245008</td>\n    </tr>\n  </tbody>\n</table>\n</div>",
      "text/plain": "          0         1         2\n0  0.015248  0.162400 -0.177648\n1  0.037254  0.400433 -0.437687\n2 -0.013715 -0.049395  0.063110\n3 -0.316268 -0.036088  0.352356\n4 -0.071249 -0.173759  0.245008"
     },
     "execution_count": 2,
     "metadata": {},
     "output_type": "execute_result"
    }
   ],
   "source": [
    "df = pd.DataFrame(np.random.random(size=(5, 3)))\n",
    "print(df)\n",
    "df.sub(df.mean(axis=1), axis=0)"
   ]
  },
  {
   "cell_type": "markdown",
   "metadata": {},
   "source": [
    "**24.** Suppose you have DataFrame with 10 columns of real numbers, for example:\n",
    "\n",
    "```python\n",
    "df = pd.DataFrame(np.random.random(size=(5, 10)), columns=list('abcdefghij'))\n",
    "```\n",
    "Which column of numbers has the smallest sum? (Find that column's label.)"
   ]
  },
  {
   "cell_type": "code",
   "execution_count": null,
   "metadata": {},
   "outputs": [],
   "source": []
  }
 ],
 "metadata": {
  "kernelspec": {
   "display_name": "Python 3",
   "language": "python",
   "name": "python3"
  },
  "language_info": {
   "codemirror_mode": {
    "name": "ipython",
    "version": 3
   },
   "file_extension": ".py",
   "mimetype": "text/x-python",
   "name": "python",
   "nbconvert_exporter": "python",
   "pygments_lexer": "ipython3",
   "version": "3.8.5"
  }
 },
 "nbformat": 4,
 "nbformat_minor": 5
}