{
 "cells": [
  {
   "cell_type": "code",
   "execution_count": 1,
   "metadata": {},
   "outputs": [
    {
     "name": "stdout",
     "output_type": "stream",
     "text": [
      "       Date  Temp                                        Description\n",
      "0     Today     1  Mostly sunny, with a high near 66. Light and v...\n",
      "1  Thursday     2  Sunny, with a high near 61. West wind 7 to 17 ...\n",
      "2    Friday     3  Sunny, with a high near 69. North wind 8 to 10...\n",
      "3  Saturday    43                        Sunny, with a high near 74.\n",
      "4    Sunday     4                        Sunny, with a high near 69.\n",
      "5    Monday     5                        Sunny, with a high near 66.\n",
      "6   Tuesday     6                        Sunny, with a high near 69.\n"
     ]
    }
   ],
   "source": [
    "import requests\n",
    "from bs4 import BeautifulSoup\n",
    "import pandas as pd\n",
    "html_txt = requests.get(\n",
    "    'https://forecast.weather.gov/MapClick.php?lat=37.777120000000025&lon=-122.41963999999996#.YFtJC-RRXm1')\n",
    "# print(html_txt)\n",
    "soup = BeautifulSoup(html_txt.content, 'html.parser')\n",
    "week_info_h = soup.find('div',\n",
    "                        id=\"detailed-forecast-body\")\n",
    "week_days_with_info = week_info_h.find_all(\n",
    "    'div', class_=\"col-sm-2 forecast-label\")\n",
    "short_info_ofweek = week_info_h.find_all(\n",
    "    'div', class_=\"col-sm-10 forecast-text\")\n",
    "days = []\n",
    "info = []\n",
    "week_day = ['Today', 'Thursday', 'Friday',\n",
    "            'Saturday', 'Sunday', 'Monday', 'Tuesday']\n",
    "for b in week_days_with_info:\n",
    "    if b.getText() in week_day:\n",
    "        days.append(b.getText())\n",
    "\n",
    "for b in range(len(short_info_ofweek)):\n",
    "            \n",
    "        if b%2==0:\n",
    "                \n",
    "                info.append(short_info_ofweek[b].getText())\n",
    "# print(info)\n",
    "# print(len(days))\n",
    "# print(len(info))\n",
    "temp=[1,2,3,43,4,5,6]  #i have to add time list \n",
    "d={'Date':days,'Temp':temp,'Description':info}\n",
    "week_weather = pd.DataFrame( d)\n",
    "print(week_weather)\n"
   ]
  },
  {
   "cell_type": "code",
   "execution_count": null,
   "metadata": {},
   "outputs": [],
   "source": []
  },
  {
   "cell_type": "code",
   "execution_count": null,
   "metadata": {},
   "outputs": [],
   "source": []
  },
  {
   "cell_type": "code",
   "execution_count": null,
   "metadata": {},
   "outputs": [],
   "source": []
  }
 ],
 "metadata": {
  "kernelspec": {
   "display_name": "Python 3",
   "language": "python",
   "name": "python3"
  },
  "language_info": {
   "codemirror_mode": {
    "name": "ipython",
    "version": 3
   },
   "file_extension": ".py",
   "mimetype": "text/x-python",
   "name": "python",
   "nbconvert_exporter": "python",
   "pygments_lexer": "ipython3",
   "version": "3.8.5"
  }
 },
 "nbformat": 4,
 "nbformat_minor": 4
}
