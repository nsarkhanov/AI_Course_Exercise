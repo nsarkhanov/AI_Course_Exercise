{
 "cells": [
  {
   "cell_type": "code",
   "execution_count": 10,
   "metadata": {},
   "outputs": [],
   "source": [
    "import requests\n",
    "from bs4 import BeautifulSoup\n",
    "import pandas as pd\n",
    "\n",
    "page = requests.get(\n",
    "    \"https://forecast.weather.gov/MapClick.php?lat=37.777120000000025&lon=-122.41963999999996#.YFw0GeRRXm0\")\n",
    "soup = BeautifulSoup(page.content, 'html.parser')\n",
    "days_info_html = soup.find(\n",
    "    'ul', id=\"seven-day-forecast-list\")\n",
    "days_html = soup.find_all('p', class_=\"period-name\")\n",
    "short_disc_html = days_info_html.find_all('p', class_=\"short-desc\")\n"
   ]
  },
  {
   "cell_type": "code",
   "execution_count": 11,
   "metadata": {},
   "outputs": [
    {
     "name": "stdout",
     "output_type": "stream",
     "text": [
      "['Today', 'Tonight', 'Friday', 'FridayNight', 'Saturday', 'SaturdayNight', 'Sunday', 'SundayNight', 'Monday']\n"
     ]
    }
   ],
   "source": [
    "days = []\n",
    "short_discs = []\n",
    "for day in days_html:\n",
    "    days.append(day.get_text())\n",
    "#################################################################\n",
    "for short_disc in short_disc_html:\n",
    "    short_discs.append(short_disc.get_text())\n",
    "################################################################\n",
    "temp_low = []\n",
    "temp_high = []\n",
    "temp_html = days_info_html.find_all(class_=\"temp temp-low\")\n",
    "for t in temp_html:\n",
    "    temp_low.append(t.get_text())\n",
    "#################################################################\n",
    "temp_html_h = days_info_html.find_all(class_=\"temp temp-high\")\n",
    "for t in temp_html_h:\n",
    "    temp_high.append(t.get_text())\n",
    "# print(temp_high)\n",
    "# converting F to C\n",
    "week_d=['Today', , 'Friday','Saturday', 'Sunday', 'Monday', 'Tuesday']\n",
    "data={'Days':days,'High':temp_high,'Low':temp_low,'Discribsion':short_discs}\n",
    "label=[1,2,3,4,5,6,7]\n",
    "# print(f\"day--{len(days)}\\ntemp_H--{len(temp_high)}\\ntemp_L--{len(temp_low)}\\ndisc---{len(short_discs)}\")\n",
    "print(days)"
   ]
  }
 ],
 "metadata": {
  "kernelspec": {
   "display_name": "Python 3",
   "language": "python",
   "name": "python3"
  },
  "language_info": {
   "codemirror_mode": {
    "name": "ipython",
    "version": 3
   },
   "file_extension": ".py",
   "mimetype": "text/x-python",
   "name": "python",
   "nbconvert_exporter": "python",
   "pygments_lexer": "ipython3",
   "version": "3.8.5"
  }
 },
 "nbformat": 4,
 "nbformat_minor": 4
}