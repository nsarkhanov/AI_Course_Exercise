{
 "cells": [
  {
   "cell_type": "code",
   "execution_count": 6,
   "metadata": {},
   "outputs": [
    {
     "name": "stdout",
     "output_type": "stream",
     "text": [
      "13\n",
      "7\n"
     ]
    }
   ],
   "source": [
    "import requests\n",
    "from bs4 import BeautifulSoup\n",
    "import pandas as pd\n",
    "html_txt = requests.get(\n",
    "    'https://forecast.weather.gov/MapClick.php?lat=37.777120000000025&lon=-122.41963999999996#.YFtJC-RRXm1')\n",
    "# print(html_txt)\n",
    "soup = BeautifulSoup(html_txt.content, 'html.parser')\n",
    "week_info_h = soup.find('div',\n",
    "                        id=\"detailed-forecast-body\")\n",
    "week_days_with_info = week_info_h.find_all(\n",
    "    'div', class_=\"col-sm-2 forecast-label\")\n",
    "short_info_ofweek = week_info_h.find_all(\n",
    "    'div', class_=\"col-sm-10 forecast-text\")\n",
    "days = []\n",
    "info = []\n",
    "week_day = ['Today', 'Thursday', 'Friday',\n",
    "            'Saturday', 'Sunday', 'Monday', 'Tuesday']\n",
    "for b in week_days_with_info:\n",
    "    if b.getText() in week_day:\n",
    "        days.append(b.getText())\n",
    "\n",
    "for b in short_info_ofweek:\n",
    "            \n",
    "    info.append(b.getText())\n",
    "\n",
    "print(len(days))\n",
    "# week_weather = pd.DataFrame(days, info )\n",
    "# print(week_weather)\n"
   ]
  },
  {
   "cell_type": "code",
   "execution_count": null,
   "metadata": {},
   "outputs": [],
   "source": []
  }
 ],
 "metadata": {
  "kernelspec": {
   "display_name": "Python 3",
   "language": "python",
   "name": "python3"
  },
  "language_info": {
   "codemirror_mode": {
    "name": "ipython",
    "version": 3
   },
   "file_extension": ".py",
   "mimetype": "text/x-python",
   "name": "python",
   "nbconvert_exporter": "python",
   "pygments_lexer": "ipython3",
   "version": "3.8.5"
  }
 },
 "nbformat": 4,
 "nbformat_minor": 4
}
