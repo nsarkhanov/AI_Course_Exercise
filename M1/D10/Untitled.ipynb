{
 "cells": [],
 "metadata": {
  "kernelspec": {
   "display_name": "Python 3.8.5 64-bit",
   "metadata": {
    "interpreter": {
     "hash": "31f2aee4e71d21fbe5cf8b01ff0e069b9275f58929596ceb00d14d90e3e16cd6"
    }
   },
   "name": "python3"
  },
  "language_info": {
   "version": "3.8.5"
  }
 },
 "nbformat": 4,
 "nbformat_minor": 4
}