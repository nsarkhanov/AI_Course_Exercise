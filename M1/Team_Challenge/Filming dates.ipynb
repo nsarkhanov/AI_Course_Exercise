{
 "cells": [
  {
   "cell_type": "code",
   "execution_count": 6,
   "metadata": {
    "cell_id": "00000-fa2f8396-2681-4e35-a9ca-b254a8bf6941",
    "deepnote_cell_type": "code",
    "deepnote_to_be_reexecuted": false,
    "execution_millis": 879,
    "execution_start": 1616761278492,
    "source_hash": "62647ccd",
    "tags": []
   },
   "outputs": [],
   "source": [
    "\n",
    "from bs4 import BeautifulSoup\n",
    "import requests\n",
    "import pandas as pd \n",
    "import matplotlib.pyplot as plt\n",
    "import numpy as np\n",
    "import re\n"
   ]
  },
  {
   "cell_type": "code",
   "execution_count": 7,
   "metadata": {
    "cell_id": "00001-a7b46d3a-7660-47a4-8284-662f6f134802",
    "deepnote_cell_type": "code",
    "deepnote_to_be_reexecuted": false,
    "execution_millis": 5196,
    "execution_start": 1616762304563,
    "source_hash": "64a657c",
    "tags": []
   },
   "outputs": [],
   "source": [
    "# Here we will create our list with the numbers from the href\n",
    "page = requests.get(\"https://www.imdb.com/search/title/?genres=war&sort=user_rating,desc&title_type=feature&num_votes=25000,&pf_rd_m=A2FGELUUNOQJNL&pf_rd_p=5aab685f-35eb-40f3-95f7-c53f09d542c3&pf_rd_r=0BQ0DM8ZN5ZC0VP4BCZZ&pf_rd_s=right-6&pf_rd_t=15506&pf_rd_i=top&ref_=chttp_gnr_20\")\n",
    "soup_href = BeautifulSoup(page.content, 'html.parser')\n",
    "\n",
    "for i in range(0,101):\n",
    "    href = soup_href.find_all(class_=\"lister-item-index unbold text-primary\", href=True)\n",
    "    for i in href:\n",
    "        x = href.get_text()\n",
    "        print(x)"
   ]
  },
  {
   "cell_type": "code",
   "execution_count": 19,
   "metadata": {
    "cell_id": "00002-fc9f4435-737e-4b5e-b79f-cb96ddd108d2",
    "deepnote_cell_type": "code",
    "deepnote_to_be_reexecuted": false,
    "execution_millis": 32,
    "execution_start": 1616761395267,
    "source_hash": "a4088037",
    "tags": []
   },
   "outputs": [],
   "source": [
    "# This cell is just for production purpose to have the numbers to check the function below\n",
    "imdb = pd.read_csv(\"Films_details.csv\")\n",
    "get_list = imdb['Stars'].tolist()\n",
    "tt_numbers = []\n",
    "\n",
    "for i in get_list:\n",
    "    tt_numbers.append(re.sub('\\D', '', i))"
   ]
  },
  {
   "cell_type": "code",
   "execution_count": 20,
   "metadata": {
    "cell_id": "00003-37c1eb3f-e0de-4810-8aa8-c25eccc5b63d",
    "deepnote_cell_type": "code",
    "deepnote_to_be_reexecuted": false,
    "execution_millis": 34874,
    "execution_start": 1616761466420,
    "source_hash": "d4ec3bcf",
    "tags": []
   },
   "outputs": [
    {
     "data": {
      "text/html": [
       "<div>\n",
       "<style scoped>\n",
       "    .dataframe tbody tr th:only-of-type {\n",
       "        vertical-align: middle;\n",
       "    }\n",
       "\n",
       "    .dataframe tbody tr th {\n",
       "        vertical-align: top;\n",
       "    }\n",
       "\n",
       "    .dataframe thead th {\n",
       "        text-align: right;\n",
       "    }\n",
       "</style>\n",
       "<table border=\"1\" class=\"dataframe\">\n",
       "  <thead>\n",
       "    <tr style=\"text-align: right;\">\n",
       "      <th></th>\n",
       "      <th>Filming Dates</th>\n",
       "    </tr>\n",
       "  </thead>\n",
       "  <tbody>\n",
       "    <tr>\n",
       "      <th>0</th>\n",
       "      <td>No Dates available</td>\n",
       "    </tr>\n",
       "    <tr>\n",
       "      <th>1</th>\n",
       "      <td>No Dates available</td>\n",
       "    </tr>\n",
       "    <tr>\n",
       "      <th>2</th>\n",
       "      <td>No Dates available</td>\n",
       "    </tr>\n",
       "    <tr>\n",
       "      <th>3</th>\n",
       "      <td>No Dates available</td>\n",
       "    </tr>\n",
       "    <tr>\n",
       "      <th>4</th>\n",
       "      <td>No Dates available</td>\n",
       "    </tr>\n",
       "    <tr>\n",
       "      <th>...</th>\n",
       "      <td>...</td>\n",
       "    </tr>\n",
       "    <tr>\n",
       "      <th>95</th>\n",
       "      <td>No Dates available</td>\n",
       "    </tr>\n",
       "    <tr>\n",
       "      <th>96</th>\n",
       "      <td>No Dates available</td>\n",
       "    </tr>\n",
       "    <tr>\n",
       "      <th>97</th>\n",
       "      <td>No Dates available</td>\n",
       "    </tr>\n",
       "    <tr>\n",
       "      <th>98</th>\n",
       "      <td>No Dates available</td>\n",
       "    </tr>\n",
       "    <tr>\n",
       "      <th>99</th>\n",
       "      <td>No Dates available</td>\n",
       "    </tr>\n",
       "  </tbody>\n",
       "</table>\n",
       "<p>100 rows × 1 columns</p>\n",
       "</div>"
      ],
      "text/plain": [
       "         Filming Dates\n",
       "0   No Dates available\n",
       "1   No Dates available\n",
       "2   No Dates available\n",
       "3   No Dates available\n",
       "4   No Dates available\n",
       "..                 ...\n",
       "95  No Dates available\n",
       "96  No Dates available\n",
       "97  No Dates available\n",
       "98  No Dates available\n",
       "99  No Dates available\n",
       "\n",
       "[100 rows x 1 columns]"
      ]
     },
     "execution_count": 20,
     "metadata": {},
     "output_type": "execute_result"
    }
   ],
   "source": [
    "filming_dates= []\n",
    "for i in tt_numbers:\n",
    "    page = requests.get(\"https://www.imdb.com/title/tt{}/locations?ref_=tt_dt_dt\".format(i))\n",
    "    soup = BeautifulSoup(page.content, 'html.parser')\n",
    "    x = soup.find('li', {'class': \"ipl-zebra-list__item\"})\n",
    "    try:\n",
    "        filming_dates.append(x.get_text().replace('\\n', '').strip())\n",
    "    except:\n",
    "        filming_dates.append('No Dates available')\n",
    "\n",
    "#print(filming_dates)\n",
    "df1 = pd.DataFrame(filming_dates, columns=['Filming Dates'])\n",
    "\n",
    "df1"
   ]
  },
  {
   "cell_type": "code",
   "execution_count": 8,
   "metadata": {
    "cell_id": "00004-0c3d2edc-fa41-423e-aad3-94bcdbd5ecc7",
    "deepnote_cell_type": "code",
    "deepnote_to_be_reexecuted": false,
    "execution_millis": 26,
    "execution_start": 1616768612214,
    "source_hash": "b4ece9bf",
    "tags": []
   },
   "outputs": [
    {
     "data": {
      "application/vnd.deepnote.dataframe.v2+json": {
       "column_count": 1,
       "columns": [
        {
         "dtype": "object",
         "name": "Filming Dates",
         "stats": {
          "categories": [
           {
            "count": 15,
            "name": "No Dates available"
           },
           {
            "count": 1,
            "name": "27 June 1997 - 13 September 1997"
           },
           {
            "count": 84,
            "name": "84 others"
           }
          ],
          "nan_count": 0,
          "unique_count": 86
         }
        },
        {
         "dtype": "int64",
         "name": "_deepnote_index_column"
        }
       ],
       "row_count": 100,
       "rows_bottom": null,
       "rows_top": [
        {
         "Filming Dates": "No Dates available",
         "_deepnote_index_column": 0
        },
        {
         "Filming Dates": "27 June 1997 - 13 September 1997",
         "_deepnote_index_column": 1
        },
        {
         "Filming Dates": "June 1997 - 5 September 1997",
         "_deepnote_index_column": 2
        },
        {
         "Filming Dates": "19 February 2001 - July 2001",
         "_deepnote_index_column": 3
        },
        {
         "Filming Dates": "No Dates available",
         "_deepnote_index_column": 4
        },
        {
         "Filming Dates": "25 May 1942 - 3 August 1942",
         "_deepnote_index_column": 5
        },
        {
         "Filming Dates": "No Dates available",
         "_deepnote_index_column": 6
        },
        {
         "Filming Dates": "March 1976 - 21 May 1977",
         "_deepnote_index_column": 7
        },
        {
         "Filming Dates": "18 March 1957 - May 1957",
         "_deepnote_index_column": 8
        },
        {
         "Filming Dates": "9 September 1939 - 2 October 1940",
         "_deepnote_index_column": 9
        },
        {
         "Filming Dates": "1 April 2019 - 7 June 2019",
         "_deepnote_index_column": 10
        },
        {
         "Filming Dates": "No Dates available",
         "_deepnote_index_column": 11
        },
        {
         "Filming Dates": "4 October 2019 - 5 August 2020",
         "_deepnote_index_column": 12
        },
        {
         "Filming Dates": "9 October 2008 - 6 February 2009",
         "_deepnote_index_column": 13
        },
        {
         "Filming Dates": "6 June 1994 - 28 October 1994",
         "_deepnote_index_column": 14
        },
        {
         "Filming Dates": "27 August 1985 - 8 August 1986",
         "_deepnote_index_column": 15
        },
        {
         "Filming Dates": "No Dates available",
         "_deepnote_index_column": 16
        },
        {
         "Filming Dates": "1979 - 1981",
         "_deepnote_index_column": 17
        },
        {
         "Filming Dates": "15 May 1961 - 20 October 1962",
         "_deepnote_index_column": 18
        },
        {
         "Filming Dates": "No Dates available",
         "_deepnote_index_column": 19
        },
        {
         "Filming Dates": "No Dates available",
         "_deepnote_index_column": 20
        },
        {
         "Filming Dates": "11 July 2005 - 15 October 2005",
         "_deepnote_index_column": 21
        },
        {
         "Filming Dates": "September 2003 - 15 November 2003",
         "_deepnote_index_column": 22
        },
        {
         "Filming Dates": "June 1984 - February 1985",
         "_deepnote_index_column": 23
        },
        {
         "Filming Dates": "3 April 1974",
         "_deepnote_index_column": 24
        },
        {
         "Filming Dates": "4 June 1962 - October 1962",
         "_deepnote_index_column": 25
        },
        {
         "Filming Dates": "January 1961 - April 1961",
         "_deepnote_index_column": 26
        },
        {
         "Filming Dates": "6 November 1941 - 24 December 1941",
         "_deepnote_index_column": 27
        },
        {
         "Filming Dates": "29 September 2015 - 28 November 2015",
         "_deepnote_index_column": 28
        },
        {
         "Filming Dates": "3 January 2004 - 3 March 2004",
         "_deepnote_index_column": 29
        },
        {
         "Filming Dates": "10 February 2003 - 31 October 2003",
         "_deepnote_index_column": 30
        },
        {
         "Filming Dates": "October 1993 - January 1995",
         "_deepnote_index_column": 31
        },
        {
         "Filming Dates": "20 March 1986 - May 1986",
         "_deepnote_index_column": 32
        },
        {
         "Filming Dates": "20 June 1977 - 5 December 1977",
         "_deepnote_index_column": 33
        },
        {
         "Filming Dates": "December 1973 - July 1974",
         "_deepnote_index_column": 34
        },
        {
         "Filming Dates": "No Dates available",
         "_deepnote_index_column": 35
        },
        {
         "Filming Dates": "15 June 1961 - 18 January 1962",
         "_deepnote_index_column": 36
        },
        {
         "Filming Dates": "26 November 1956 - 11 May 1957",
         "_deepnote_index_column": 37
        },
        {
         "Filming Dates": "10 December 1938 - 11 November 1939",
         "_deepnote_index_column": 38
        },
        {
         "Filming Dates": "3 February 1937 - 15 May 1937",
         "_deepnote_index_column": 39
        },
        {
         "Filming Dates": "8 June 1926 - 18 September 1926",
         "_deepnote_index_column": 40
        },
        {
         "Filming Dates": "15 September 2013",
         "_deepnote_index_column": 41
        },
        {
         "Filming Dates": "No Dates available",
         "_deepnote_index_column": 42
        },
        {
         "Filming Dates": "October 2005 - April 2007",
         "_deepnote_index_column": 43
        },
        {
         "Filming Dates": "2 February 1987",
         "_deepnote_index_column": 44
        },
        {
         "Filming Dates": "1979 - 1979",
         "_deepnote_index_column": 45
        },
        {
         "Filming Dates": "December 1964 - October 1965",
         "_deepnote_index_column": 46
        },
        {
         "Filming Dates": "4 February 1952 - 29 March 1952",
         "_deepnote_index_column": 47
        },
        {
         "Filming Dates": "15 April 1946 - 9 August 1946",
         "_deepnote_index_column": 48
        },
        {
         "Filming Dates": "11 November 1929 - March 1930",
         "_deepnote_index_column": 49
        },
        {
         "Filming Dates": "November 1925 - November 1925",
         "_deepnote_index_column": 50
        },
        {
         "Filming Dates": "28 May 2018",
         "_deepnote_index_column": 51
        },
        {
         "Filming Dates": "15 March 2006",
         "_deepnote_index_column": 52
        },
        {
         "Filming Dates": "No Dates available",
         "_deepnote_index_column": 53
        },
        {
         "Filming Dates": "3 February 1969 - August 1969",
         "_deepnote_index_column": 54
        },
        {
         "Filming Dates": "27 January 1959 - 12 July 1959",
         "_deepnote_index_column": 55
        },
        {
         "Filming Dates": "23 May 2016 - 2 September 2016",
         "_deepnote_index_column": 56
        },
        {
         "Filming Dates": "July 2014 - August 2014",
         "_deepnote_index_column": 57
        },
        {
         "Filming Dates": "No Dates available",
         "_deepnote_index_column": 58
        },
        {
         "Filming Dates": "29 April 2007 - 7 July 2007",
         "_deepnote_index_column": 59
        },
        {
         "Filming Dates": "May 2006 - August 2006",
         "_deepnote_index_column": 60
        },
        {
         "Filming Dates": "No Dates available",
         "_deepnote_index_column": 61
        },
        {
         "Filming Dates": "9 February 1989 - 27 April 1989",
         "_deepnote_index_column": 62
        },
        {
         "Filming Dates": "March 1983 - August 1984",
         "_deepnote_index_column": 63
        },
        {
         "Filming Dates": "9 January 1975",
         "_deepnote_index_column": 64
        },
        {
         "Filming Dates": "August 1961 - March 1962",
         "_deepnote_index_column": 65
        },
        {
         "Filming Dates": "29 February 1944 - 10 May 1944",
         "_deepnote_index_column": 66
        },
        {
         "Filming Dates": "June 1933",
         "_deepnote_index_column": 67
        },
        {
         "Filming Dates": "No Dates available",
         "_deepnote_index_column": 68
        },
        {
         "Filming Dates": "4 August 2004",
         "_deepnote_index_column": 69
        },
        {
         "Filming Dates": "24 August 2005 - 19 December 2005",
         "_deepnote_index_column": 70
        },
        {
         "Filming Dates": "3 March 2001 - July 2001",
         "_deepnote_index_column": 71
        },
        {
         "Filming Dates": "17 June 1991 - 10 October 1991",
         "_deepnote_index_column": 72
        },
        {
         "Filming Dates": "1 March 1987 - 20 June 1987",
         "_deepnote_index_column": 73
        },
        {
         "Filming Dates": "21 September 1974 - February 1975",
         "_deepnote_index_column": 74
        },
        {
         "Filming Dates": "2 January 1968 - May 1968",
         "_deepnote_index_column": 75
        },
        {
         "Filming Dates": "25 April 1966 - 13 October 1966",
         "_deepnote_index_column": 76
        },
        {
         "Filming Dates": "1 July 1963 - 26 July 1963",
         "_deepnote_index_column": 77
        },
        {
         "Filming Dates": "May 1951 - August 1951",
         "_deepnote_index_column": 78
        },
        {
         "Filming Dates": "September 2013",
         "_deepnote_index_column": 79
        },
        {
         "Filming Dates": "8 March 2012 - 22 June 2012",
         "_deepnote_index_column": 80
        },
        {
         "Filming Dates": "10 January 2011 - 22 June 2011",
         "_deepnote_index_column": 81
        },
        {
         "Filming Dates": "28 February 2013 - 15 April 2013",
         "_deepnote_index_column": 82
        },
        {
         "Filming Dates": "21 March 2006 - 4 May 2006",
         "_deepnote_index_column": 83
        },
        {
         "Filming Dates": "August 2006",
         "_deepnote_index_column": 84
        },
        {
         "Filming Dates": "No Dates available",
         "_deepnote_index_column": 85
        },
        {
         "Filming Dates": "25 August 2003 - 23 January 2004",
         "_deepnote_index_column": 86
        },
        {
         "Filming Dates": "17 January 2000 - May 2000",
         "_deepnote_index_column": 87
        },
        {
         "Filming Dates": "23 June 1997 - November 1997",
         "_deepnote_index_column": 88
        },
        {
         "Filming Dates": "June 1994 - April 1998",
         "_deepnote_index_column": 89
        },
        {
         "Filming Dates": "14 June 1993 - 23 September 1993",
         "_deepnote_index_column": 90
        },
        {
         "Filming Dates": "20 July 1992",
         "_deepnote_index_column": 91
        },
        {
         "Filming Dates": "October 1977",
         "_deepnote_index_column": 92
        },
        {
         "Filming Dates": "April 1970 - July 1970",
         "_deepnote_index_column": 93
        },
        {
         "Filming Dates": "30 June 1969 - December 1969",
         "_deepnote_index_column": 94
        },
        {
         "Filming Dates": "7 March 1953 - 5 May 1953",
         "_deepnote_index_column": 95
        },
        {
         "Filming Dates": "3 August 1943 - 17 November 1943",
         "_deepnote_index_column": 96
        },
        {
         "Filming Dates": "No Dates available",
         "_deepnote_index_column": 97
        },
        {
         "Filming Dates": "2 October 2012",
         "_deepnote_index_column": 98
        },
        {
         "Filming Dates": "23 July 2007 - September 2007",
         "_deepnote_index_column": 99
        }
       ]
      },
      "text/html": [
       "<div>\n",
       "<style scoped>\n",
       "    .dataframe tbody tr th:only-of-type {\n",
       "        vertical-align: middle;\n",
       "    }\n",
       "\n",
       "    .dataframe tbody tr th {\n",
       "        vertical-align: top;\n",
       "    }\n",
       "\n",
       "    .dataframe thead th {\n",
       "        text-align: right;\n",
       "    }\n",
       "</style>\n",
       "<table border=\"1\" class=\"dataframe\">\n",
       "  <thead>\n",
       "    <tr style=\"text-align: right;\">\n",
       "      <th></th>\n",
       "      <th>Filming Dates</th>\n",
       "    </tr>\n",
       "  </thead>\n",
       "  <tbody>\n",
       "    <tr>\n",
       "      <th>0</th>\n",
       "      <td>No Dates available</td>\n",
       "    </tr>\n",
       "    <tr>\n",
       "      <th>1</th>\n",
       "      <td>27 June 1997 - 13 September 1997</td>\n",
       "    </tr>\n",
       "    <tr>\n",
       "      <th>2</th>\n",
       "      <td>June 1997 - 5 September 1997</td>\n",
       "    </tr>\n",
       "    <tr>\n",
       "      <th>3</th>\n",
       "      <td>19 February 2001 - July 2001</td>\n",
       "    </tr>\n",
       "    <tr>\n",
       "      <th>4</th>\n",
       "      <td>No Dates available</td>\n",
       "    </tr>\n",
       "    <tr>\n",
       "      <th>...</th>\n",
       "      <td>...</td>\n",
       "    </tr>\n",
       "    <tr>\n",
       "      <th>95</th>\n",
       "      <td>7 March 1953 - 5 May 1953</td>\n",
       "    </tr>\n",
       "    <tr>\n",
       "      <th>96</th>\n",
       "      <td>3 August 1943 - 17 November 1943</td>\n",
       "    </tr>\n",
       "    <tr>\n",
       "      <th>97</th>\n",
       "      <td>No Dates available</td>\n",
       "    </tr>\n",
       "    <tr>\n",
       "      <th>98</th>\n",
       "      <td>2 October 2012</td>\n",
       "    </tr>\n",
       "    <tr>\n",
       "      <th>99</th>\n",
       "      <td>23 July 2007 - September 2007</td>\n",
       "    </tr>\n",
       "  </tbody>\n",
       "</table>\n",
       "<p>100 rows × 1 columns</p>\n",
       "</div>"
      ],
      "text/plain": [
       "                       Filming Dates\n",
       "0                 No Dates available\n",
       "1   27 June 1997 - 13 September 1997\n",
       "2       June 1997 - 5 September 1997\n",
       "3       19 February 2001 - July 2001\n",
       "4                 No Dates available\n",
       "..                               ...\n",
       "95         7 March 1953 - 5 May 1953\n",
       "96  3 August 1943 - 17 November 1943\n",
       "97                No Dates available\n",
       "98                    2 October 2012\n",
       "99     23 July 2007 - September 2007\n",
       "\n",
       "[100 rows x 1 columns]"
      ]
     },
     "execution_count": 8,
     "metadata": {},
     "output_type": "execute_result"
    }
   ],
   "source": [
    "df1.to_csv(\"fdates.csv\")\n",
    "df1"
   ]
  },
  {
   "cell_type": "code",
   "execution_count": null,
   "metadata": {
    "cell_id": "00005-0f7a8433-e4b1-48ff-bbee-8621dff5ebb0",
    "deepnote_cell_type": "code",
    "tags": []
   },
   "outputs": [],
   "source": []
  },
  {
   "cell_type": "markdown",
   "metadata": {
    "created_in_deepnote_cell": true,
    "deepnote_cell_type": "markdown",
    "tags": []
   },
   "source": [
    "<a style='text-decoration:none;line-height:16px;display:flex;color:#5B5B62;padding:10px;justify-content:end;' href='https://deepnote.com?utm_source=created-in-deepnote-cell&projectId=86193761-2877-467f-bcb9-1f0b66feed89' target=\"_blank\">\n",
    "<img style='display:inline;max-height:16px;margin:0px;margin-right:7.5px;' src='data:image/svg+xml;base64,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' > </img>\n",
    "Created in <span style='font-weight:600;margin-left:4px;'>Deepnote</span></a>"
   ]
  }
 ],
 "metadata": {
  "deepnote": {},
  "deepnote_execution_queue": [],
  "deepnote_notebook_id": "50dad02c-f46d-4410-b650-d395450e2961",
  "kernelspec": {
   "display_name": "Python 3",
   "language": "python",
   "name": "python3"
  },
  "language_info": {
   "codemirror_mode": {
    "name": "ipython",
    "version": 3
   },
   "file_extension": ".py",
   "mimetype": "text/x-python",
   "name": "python",
   "nbconvert_exporter": "python",
   "pygments_lexer": "ipython3",
   "version": "3.8.5"
  }
 },
 "nbformat": 4,
 "nbformat_minor": 2
}
