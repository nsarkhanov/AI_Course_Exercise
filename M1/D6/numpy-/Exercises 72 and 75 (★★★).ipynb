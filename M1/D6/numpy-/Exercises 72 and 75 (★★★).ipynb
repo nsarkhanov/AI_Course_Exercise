{
 "cells": [
  {
   "cell_type": "code",
   "execution_count": 38,
   "metadata": {
    "slideshow": {
     "slide_type": "slide"
    }
   },
   "outputs": [],
   "source": [
    "import numpy as np\n"
   ]
  },
  {
   "cell_type": "markdown",
   "metadata": {},
   "source": [
    "**72. How to swap two rows of an array?** "
   ]
  },
  {
   "cell_type": "code",
   "execution_count": 21,
   "metadata": {},
   "outputs": [
    {
     "name": "stdout",
     "output_type": "stream",
     "text": [
      "Original array:\n",
      "******************\n",
      "[[ 0  1  2  3  4  5]\n",
      " [ 6  7  8  9 10 11]\n",
      " [12 13 14 15 16 17]\n",
      " [18 19 20 21 22 23]]\n",
      "\n",
      "After swapping arrays:\n",
      "************\n",
      "[[12 13 14 15 16 17]\n",
      " [ 0  1  2  3  4  5]\n",
      " [ 6  7  8  9 10 11]\n",
      " [18 19 20 21 22 23]]\n"
     ]
    }
   ],
   "source": [
    "arr=np.arange(24).reshape(4,6)\n",
    "print(\"Original array:\\n******************\")\n",
    "print(arr)\n",
    "for i in range(1,3):\n",
    "    arr[[0, i],:] = arr[[i, 0],:]\n",
    "\n",
    "print(\"\\nAfter swapping arrays:\\n************\")\n",
    "print(arr)"
   ]
  },
  {
   "cell_type": "markdown",
   "metadata": {},
   "source": [
    "**75. How to compute averages using a sliding window over an array?**"
   ]
  },
  {
   "cell_type": "code",
   "execution_count": 44,
   "metadata": {},
   "outputs": [
    {
     "name": "stdout",
     "output_type": "stream",
     "text": [
      "random array\n",
      "[ 0  1  2  3  4  5  6  7  8  9 10 11 12 13 14 15 16 17 18 19 20 21 22 23]\n",
      "new array is  maded from the array with step sliding\n",
      "[array([0, 1, 2]), array([1, 2, 3]), array([2, 3, 4]), array([3, 4, 5]), array([4, 5, 6]), array([5, 6, 7]), array([6, 7, 8]), array([7, 8, 9])]\n",
      "average each of sliding  array \n",
      "[1.0, 1.5, 2.0, 2.5, 3.0, 3.5, 4.0, 4.5]\n"
     ]
    }
   ],
   "source": [
    "arr=np.arange(24)\n",
    "arr\n",
    "# def sliding(arr,steps):\n",
    "n=len(arr)\n",
    "sp=3\n",
    "new_arr=[]\n",
    "aver_list=[]\n",
    "for i in range(n//sp):\n",
    "    new_arr.append(arr[i:i+sp])\n",
    "    average=np.average(new_arr)\n",
    "    aver_list.append(average)\n",
    "\n",
    "\n",
    "print(f\"random array\\n{arr}\\nnew array is  maded from the array with step sliding\\n{new_arr}\\naverage each of sliding  array \\n{aver_list}\")"
   ]
  }
 ],
 "metadata": {
  "kernelspec": {
   "display_name": "Python 3",
   "language": "python",
   "name": "python3"
  },
  "language_info": {
   "codemirror_mode": {
    "name": "ipython",
    "version": 3
   },
   "file_extension": ".py",
   "mimetype": "text/x-python",
   "name": "python",
   "nbconvert_exporter": "python",
   "pygments_lexer": "ipython3",
   "version": "3.8.5"
  }
 },
 "nbformat": 4,
 "nbformat_minor": 5
}