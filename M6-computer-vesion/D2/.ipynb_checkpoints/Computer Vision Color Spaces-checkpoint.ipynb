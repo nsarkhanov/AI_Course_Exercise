{
 "cells": [
  {
   "cell_type": "markdown",
   "metadata": {
    "code_folding": []
   },
   "source": [
    "# Computer Vision color spaces"
   ]
  },
  {
   "cell_type": "markdown",
   "metadata": {},
   "source": [
    "### Import statements"
   ]
  },
  {
   "cell_type": "code",
   "execution_count": 3,
   "metadata": {
    "ExecuteTime": {
     "end_time": "2021-06-08T11:31:41.301856Z",
     "start_time": "2021-06-08T11:31:41.030782Z"
    }
   },
   "outputs": [],
   "source": [
    "import cv2\n",
    "import numpy as np\n",
    "import matplotlib.pyplot as plt"
   ]
  },
  {
   "cell_type": "code",
   "execution_count": 18,
   "metadata": {
    "ExecuteTime": {
     "end_time": "2021-06-08T10:48:19.595964Z",
     "start_time": "2021-06-08T10:48:19.473327Z"
    }
   },
   "outputs": [
    {
     "name": "stdout",
     "output_type": "stream",
     "text": [
      "blue-flowers.jpg  blue-red-flowers.png\thsv.png  m.jpg\tpurple-flowers.jpg\r\n"
     ]
    }
   ],
   "source": [
    "!ls img"
   ]
  },
  {
   "cell_type": "markdown",
   "metadata": {},
   "source": [
    "### To edit an image making a copy of it is always a good idea!"
   ]
  },
  {
   "cell_type": "code",
   "execution_count": 36,
   "metadata": {
    "ExecuteTime": {
     "end_time": "2021-06-08T11:00:01.156269Z",
     "start_time": "2021-06-08T10:59:51.693943Z"
    }
   },
   "outputs": [],
   "source": [
    "# Load an image\n",
    "image=cv2.imread('img/purple-flowers.jpg', cv2.IMREAD_COLOR)\n",
    "image_copy=image.copy()\n",
    "# And make a copy of the original image to avoid manipulating the original image\n",
    "cv2.imshow('image',image_copy)\n",
    "cv2.waitKey(0)\n",
    "cv2.destroyAllWindows()"
   ]
  },
  {
   "cell_type": "markdown",
   "metadata": {},
   "source": [
    "[Hint](# \"Numpy .copy function\") "
   ]
  },
  {
   "cell_type": "markdown",
   "metadata": {},
   "source": [
    "## Color Spaces"
   ]
  },
  {
   "cell_type": "markdown",
   "metadata": {},
   "source": [
    "### BGR Spliting the color channels"
   ]
  },
  {
   "cell_type": "code",
   "execution_count": 34,
   "metadata": {
    "ExecuteTime": {
     "end_time": "2021-06-08T10:59:28.582003Z",
     "start_time": "2021-06-08T10:59:28.548841Z"
    }
   },
   "outputs": [],
   "source": [
    "# Load a color image and split in is different B, G and R channels\n",
    "bgr_image=cv2.cvtColor(image_copy,cv2.COLOR_RGB2BGR)\n",
    "B,G,R =cv2.split(image_copy)\n",
    "# for i in [B, G,R]:\n",
    "#     cv2.imshow('image',i)\n",
    "#     cv2.waitKey(0)\n",
    "#     cv2.destroyAllWindows()"
   ]
  },
  {
   "cell_type": "code",
   "execution_count": 35,
   "metadata": {
    "ExecuteTime": {
     "end_time": "2021-06-08T10:59:42.685944Z",
     "start_time": "2021-06-08T10:59:37.339408Z"
    }
   },
   "outputs": [],
   "source": [
    "cv2.imshow('image',R)\n",
    "cv2.waitKey(0)\n",
    "cv2.destroyAllWindows()"
   ]
  },
  {
   "cell_type": "markdown",
   "metadata": {},
   "source": [
    "[Hint](# \"cv2.split\") "
   ]
  },
  {
   "cell_type": "code",
   "execution_count": null,
   "metadata": {
    "ExecuteTime": {
     "end_time": "2019-11-19T14:23:44.812375Z",
     "start_time": "2019-11-19T14:23:29.745242Z"
    }
   },
   "outputs": [],
   "source": [
    "# Show each channel channel on screen\n"
   ]
  },
  {
   "cell_type": "markdown",
   "metadata": {},
   "source": [
    "#### Merging the color channels"
   ]
  },
  {
   "cell_type": "code",
   "execution_count": null,
   "metadata": {
    "ExecuteTime": {
     "end_time": "2019-11-18T14:20:18.472726Z",
     "start_time": "2019-11-18T14:20:11.815285Z"
    }
   },
   "outputs": [],
   "source": [
    "# Modify a channel and then merge them all again\n"
   ]
  },
  {
   "cell_type": "markdown",
   "metadata": {},
   "source": [
    "[Hint](# \"cv2.merge\") "
   ]
  },
  {
   "cell_type": "code",
   "execution_count": null,
   "metadata": {
    "ExecuteTime": {
     "end_time": "2019-11-19T14:25:54.885437Z",
     "start_time": "2019-11-19T14:24:57.052078Z"
    }
   },
   "outputs": [],
   "source": [
    "# Create a black canvas with the same size as the image you loaded\n",
    " "
   ]
  },
  {
   "cell_type": "markdown",
   "metadata": {},
   "source": [
    "[Hint](# \"use numpy np.zeros function with the img.shape[:2]\") "
   ]
  },
  {
   "cell_type": "code",
   "execution_count": null,
   "metadata": {},
   "outputs": [],
   "source": [
    "# Merge each channel with the black canvas \n",
    "# So you will end up with 3 images: (Red,Black,Black), (Black,Green,Black) and (Black,Black,Blue) \n",
    "# Assuming you are working with RGB, but BGR is also fine\n"
   ]
  },
  {
   "cell_type": "markdown",
   "metadata": {},
   "source": [
    "[Hint](# \"cv2.merge\") "
   ]
  },
  {
   "cell_type": "markdown",
   "metadata": {},
   "source": [
    "### HSV: Hue Saturation Value"
   ]
  },
  {
   "cell_type": "markdown",
   "metadata": {
    "ExecuteTime": {
     "end_time": "2019-08-03T16:16:41.586811Z",
     "start_time": "2019-08-03T16:16:41.580866Z"
    }
   },
   "source": [
    "#### M&Ms challenge!"
   ]
  },
  {
   "cell_type": "code",
   "execution_count": null,
   "metadata": {
    "ExecuteTime": {
     "end_time": "2019-11-19T14:29:49.625236Z",
     "start_time": "2019-11-19T14:29:42.103147Z"
    }
   },
   "outputs": [],
   "source": [
    "# Use the image below and convert it from BGR to HSV\n",
    "img = cv2.imread('img/m.jpg')\n",
    "plt.figure(figsize = (20,15));\n",
    "plt.imshow(cv2.cvtColor(img,cv2.COLOR_BGR2RGB));"
   ]
  },
  {
   "cell_type": "code",
   "execution_count": null,
   "metadata": {
    "ExecuteTime": {
     "end_time": "2019-11-19T14:39:09.957995Z",
     "start_time": "2019-11-19T14:39:09.333538Z"
    },
    "scrolled": false
   },
   "outputs": [],
   "source": [
    "# Split the H,S and V channels \n"
   ]
  },
  {
   "cell_type": "markdown",
   "metadata": {},
   "source": [
    "[Hint](# \"cv2.cvtColor\") "
   ]
  },
  {
   "cell_type": "code",
   "execution_count": null,
   "metadata": {
    "ExecuteTime": {
     "end_time": "2019-11-19T14:39:23.171577Z",
     "start_time": "2019-11-19T14:39:22.790933Z"
    }
   },
   "outputs": [],
   "source": [
    "# Create a mask to filter out the Blue M&Ms (remember you need a lower and upper range)\n",
    "# Make a copy of the hsv image and apply the mask to it, then display the image\n"
   ]
  },
  {
   "cell_type": "markdown",
   "metadata": {},
   "source": [
    "[Hint](# \"cv2.inRange\") "
   ]
  },
  {
   "cell_type": "code",
   "execution_count": null,
   "metadata": {
    "ExecuteTime": {
     "end_time": "2019-11-19T14:39:42.232166Z",
     "start_time": "2019-11-19T14:39:41.843412Z"
    }
   },
   "outputs": [],
   "source": [
    "# Repeat the same but now with the greens\n"
   ]
  },
  {
   "cell_type": "code",
   "execution_count": null,
   "metadata": {
    "ExecuteTime": {
     "end_time": "2019-11-19T14:39:50.013297Z",
     "start_time": "2019-11-19T14:39:49.588290Z"
    }
   },
   "outputs": [],
   "source": [
    "# Now combine both masks togheter so we can see all greens and blues in the same image!\n"
   ]
  },
  {
   "cell_type": "code",
   "execution_count": null,
   "metadata": {
    "ExecuteTime": {
     "end_time": "2019-11-19T14:40:32.223935Z",
     "start_time": "2019-11-19T14:40:31.596814Z"
    }
   },
   "outputs": [],
   "source": [
    "# Now lets combine both masks but also some opacity, we want to be able to see all M&Ms but\n",
    "# Blues and greens will show as int he image above while the other colors will be faded out with some opacity\n",
    "# You just need to add alpha to apply opacity to the dark parts of the mask, then display the image\n",
    "\n"
   ]
  },
  {
   "cell_type": "markdown",
   "metadata": {},
   "source": [
    "[Hint](# \"cv2.addWeighted\") "
   ]
  },
  {
   "cell_type": "code",
   "execution_count": null,
   "metadata": {
    "ExecuteTime": {
     "end_time": "2019-08-19T14:38:07.622905Z",
     "start_time": "2019-08-19T14:38:07.590404Z"
    },
    "hidden": true
   },
   "outputs": [],
   "source": [
    "# Below you will find an example with oranges and greens just for reference so you can see what we want to accomplish\n",
    "# In this example the oranges are not perfect, and it can be improved a lot easily."
   ]
  },
  {
   "cell_type": "markdown",
   "metadata": {},
   "source": [
    "## Mini project"
   ]
  },
  {
   "cell_type": "markdown",
   "metadata": {},
   "source": [
    "### Level 1"
   ]
  },
  {
   "cell_type": "markdown",
   "metadata": {},
   "source": [
    "#### Ball tracker"
   ]
  },
  {
   "cell_type": "markdown",
   "metadata": {},
   "source": [
    "1. Given an image with a ball on it isolate the ball"
   ]
  },
  {
   "cell_type": "code",
   "execution_count": null,
   "metadata": {
    "ExecuteTime": {
     "start_time": "2021-06-08T11:31:45.251Z"
    }
   },
   "outputs": [],
   "source": [
    "video=cv2.VideoCapture(0)\n",
    "while True:\n",
    "    _,frame = video.read()\n",
    "    hsv=cv2.cvtColor(frame,cv2.COLOR_BGR2HSV)\n",
    "    \n",
    "    lower_red = np.array([50,0,0])\n",
    "    \n",
    "    upper_red =np.array ([255,255,255])\n",
    "    \n",
    "    mask=cv2.inRange(hsv,lower_red,upper_red)\n",
    "    result=cv2.bitwise_and(frame,frame,mask=mask)\n",
    "    \n",
    "    cv2.imshow('Frame',frame)\n",
    "    cv2.imshow('mask',mask)\n",
    "    cv2.imshow('result',result)\n",
    "    if  cv2.waitKey(30) & 0xFF == ord('q'):\n",
    "        break\n",
    "  \n",
    "    \n",
    "cv2.destroyAllWindows()\n",
    "video.release()\n",
    "    \n",
    "    \n",
    "    \n",
    "    "
   ]
  },
  {
   "cell_type": "markdown",
   "metadata": {},
   "source": [
    "### Level 2"
   ]
  },
  {
   "cell_type": "markdown",
   "metadata": {
    "heading_collapsed": true
   },
   "source": [
    "#### Ball tracker"
   ]
  },
  {
   "cell_type": "markdown",
   "metadata": {
    "hidden": true
   },
   "source": [
    "1. Make it track a ball in real time (either with a video or a webcam)"
   ]
  },
  {
   "cell_type": "markdown",
   "metadata": {
    "heading_collapsed": true
   },
   "source": [
    "### Level 3"
   ]
  },
  {
   "cell_type": "markdown",
   "metadata": {
    "heading_collapsed": true,
    "hidden": true
   },
   "source": [
    "#### Ball Tracker"
   ]
  },
  {
   "cell_type": "markdown",
   "metadata": {
    "hidden": true
   },
   "source": [
    "1. Can you make it track two or more different color balls at the same time?"
   ]
  }
 ],
 "metadata": {
  "hide_input": false,
  "kernelspec": {
   "display_name": "Python 3",
   "language": "python",
   "name": "python3"
  },
  "language_info": {
   "codemirror_mode": {
    "name": "ipython",
    "version": 3
   },
   "file_extension": ".py",
   "mimetype": "text/x-python",
   "name": "python",
   "nbconvert_exporter": "python",
   "pygments_lexer": "ipython3",
   "version": "3.8.2"
  },
  "toc": {
   "base_numbering": 1,
   "nav_menu": {},
   "number_sections": true,
   "sideBar": true,
   "skip_h1_title": false,
   "title_cell": "Table of Contents",
   "title_sidebar": "Contents",
   "toc_cell": false,
   "toc_position": {},
   "toc_section_display": true,
   "toc_window_display": false
  },
  "varInspector": {
   "cols": {
    "lenName": 16,
    "lenType": 16,
    "lenVar": 40
   },
   "kernels_config": {
    "python": {
     "delete_cmd_postfix": "",
     "delete_cmd_prefix": "del ",
     "library": "var_list.py",
     "varRefreshCmd": "print(var_dic_list())"
    },
    "r": {
     "delete_cmd_postfix": ") ",
     "delete_cmd_prefix": "rm(",
     "library": "var_list.r",
     "varRefreshCmd": "cat(var_dic_list()) "
    }
   },
   "types_to_exclude": [
    "module",
    "function",
    "builtin_function_or_method",
    "instance",
    "_Feature"
   ],
   "window_display": false
  }
 },
 "nbformat": 4,
 "nbformat_minor": 2
}
