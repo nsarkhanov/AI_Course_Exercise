{
 "cells": [
  {
   "cell_type": "markdown",
   "metadata": {},
   "source": [
    "# Bitwise operations"
   ]
  },
  {
   "cell_type": "code",
   "execution_count": null,
   "metadata": {
    "ExecuteTime": {
     "start_time": "2021-06-09T14:16:05.718Z"
    }
   },
   "outputs": [],
   "source": [
    "import cv2\n",
    "import numpy as np\n",
    "import matplotlib.pyplot as plt\n",
    "%matplotlib inline"
   ]
  },
  {
   "cell_type": "code",
   "execution_count": null,
   "metadata": {
    "ExecuteTime": {
     "end_time": "2021-06-09T13:16:38.760840Z",
     "start_time": "2021-06-09T13:16:38.752915Z"
    },
    "scrolled": true
   },
   "outputs": [],
   "source": [
    "# With numpy create a black canvas of size 800 x 800 \n",
    "canvas=np.zeros((800,800),np.uint8)\n",
    "canvas.shape"
   ]
  },
  {
   "cell_type": "code",
   "execution_count": null,
   "metadata": {
    "ExecuteTime": {
     "end_time": "2021-06-09T13:16:41.242581Z",
     "start_time": "2021-06-09T13:16:40.875662Z"
    },
    "code_folding": [],
    "scrolled": false
   },
   "outputs": [],
   "source": [
    "# Make a copy of the canvas and draw a white square of size 250 x 250 on top of the copy of the canvas\n",
    "square=canvas.copy()\n",
    "cv2.rectangle(square,(100,100),(500,500),255,-1)\n",
    "plt.imshow(square,cmap='gray')"
   ]
  },
  {
   "cell_type": "code",
   "execution_count": null,
   "metadata": {
    "ExecuteTime": {
     "end_time": "2021-06-09T13:16:43.188331Z",
     "start_time": "2021-06-09T13:16:42.943174Z"
    },
    "scrolled": false
   },
   "outputs": [],
   "source": [
    "# Make a copy of the origina lcanvas and draw a white circle of size 200 x 200 on top of the copy of the canvas\n",
    "# Make sure the circle is in a different position of the canvas than the square\n",
    "circle=canvas.copy()\n",
    "cv2.circle(circle,(400,400),200,255,-1)\n",
    "plt.imshow(circle,cmap='gray')"
   ]
  },
  {
   "cell_type": "code",
   "execution_count": null,
   "metadata": {
    "ExecuteTime": {
     "end_time": "2021-06-09T13:16:45.578340Z",
     "start_time": "2021-06-09T13:16:45.354632Z"
    },
    "scrolled": false
   },
   "outputs": [],
   "source": [
    "# Create a new image and merge both previous images (square and circle) with a bitwise and operation\n",
    "img_and=cv2.bitwise_and(square,circle)\n",
    "plt.imshow(img_and,cmap='gray')"
   ]
  },
  {
   "cell_type": "code",
   "execution_count": null,
   "metadata": {
    "ExecuteTime": {
     "end_time": "2021-06-09T13:16:47.176487Z",
     "start_time": "2021-06-09T13:16:46.951195Z"
    },
    "scrolled": false
   },
   "outputs": [],
   "source": [
    "# Create a new image and merge both previous images (square and circle) with a bitwise or operation\n",
    "img_or=cv2.bitwise_or(square,circle)\n",
    "plt.imshow(img_or,cmap='gray')"
   ]
  },
  {
   "cell_type": "code",
   "execution_count": null,
   "metadata": {
    "ExecuteTime": {
     "end_time": "2021-06-09T13:16:49.241030Z",
     "start_time": "2021-06-09T13:16:49.013888Z"
    },
    "scrolled": false
   },
   "outputs": [],
   "source": [
    "# Create a new image and merge both previous images (square and circle) with a bitwise not operation\n",
    "img_not=cv2.bitwise_not(img_or)\n",
    "plt.imshow(img_not,cmap='gray')"
   ]
  },
  {
   "cell_type": "code",
   "execution_count": null,
   "metadata": {
    "ExecuteTime": {
     "end_time": "2021-06-09T13:16:53.882924Z",
     "start_time": "2021-06-09T13:16:53.642516Z"
    }
   },
   "outputs": [],
   "source": [
    "# Create a new image and merge both previous images (square and circle) with a bitwise xor operation\n",
    "img_xor=cv2.bitwise_xor(square,circle)\n",
    "plt.imshow(img_xor,cmap='gray')"
   ]
  },
  {
   "cell_type": "code",
   "execution_count": null,
   "metadata": {
    "ExecuteTime": {
     "end_time": "2021-06-09T13:18:08.684765Z",
     "start_time": "2021-06-09T13:18:08.555583Z"
    }
   },
   "outputs": [],
   "source": [
    "!ls img"
   ]
  },
  {
   "cell_type": "code",
   "execution_count": null,
   "metadata": {
    "ExecuteTime": {
     "start_time": "2021-06-09T14:16:43.773Z"
    }
   },
   "outputs": [],
   "source": [
    "# Load a color image and convert it to HSV\n",
    "# Identify a prominent color from the image and filter it out\n",
    "# Create a mask for that color and apply a bitwise and specifying the mask to show only this part of the image\n",
    "image_color=cv2.imread('img/day1.jpg')\n",
    "hsv=cv2.cvtColor(image_color,cv2.COLOR_BGR2HSV)\n",
    "h,s,v=cv2.split(hsv)\n",
    " \n"
   ]
  },
  {
   "cell_type": "code",
   "execution_count": 51,
   "metadata": {
    "ExecuteTime": {
     "end_time": "2021-06-09T14:14:16.258184Z",
     "start_time": "2021-06-09T14:14:15.866646Z"
    }
   },
   "outputs": [
    {
     "data": {
      "text/plain": [
       "<function waitKey>"
      ]
     },
     "execution_count": 51,
     "metadata": {},
     "output_type": "execute_result"
    }
   ],
   "source": [
    "cv2.imshow('original',image_color)\n",
    "cv2.waitKey"
   ]
  },
  {
   "cell_type": "code",
   "execution_count": 46,
   "metadata": {
    "ExecuteTime": {
     "end_time": "2021-06-09T13:38:04.020316Z",
     "start_time": "2021-06-09T13:37:53.644880Z"
    }
   },
   "outputs": [
    {
     "data": {
      "image/png": "[encoded data removed]",
      "text/plain": [
       "<Figure size 432x288 with 1 Axes>"
      ]
     },
     "metadata": {
      "needs_background": "light"
     },
     "output_type": "display_data"
    }
   ],
   "source": [
    "\n",
    "plt.hist(h,bins=5)\n",
    "plt.show()"
   ]
  },
  {
   "cell_type": "code",
   "execution_count": null,
   "metadata": {
    "ExecuteTime": {
     "end_time": "2021-06-09T13:27:38.188527Z",
     "start_time": "2021-06-09T13:27:38.183362Z"
    }
   },
   "outputs": [],
   "source": []
  },
  {
   "cell_type": "code",
   "execution_count": null,
   "metadata": {
    "ExecuteTime": {
     "end_time": "2021-06-09T13:26:21.410011Z",
     "start_time": "2021-06-09T13:26:21.401446Z"
    }
   },
   "outputs": [],
   "source": [
    "s"
   ]
  },
  {
   "cell_type": "code",
   "execution_count": null,
   "metadata": {},
   "outputs": [],
   "source": []
  },
  {
   "cell_type": "code",
   "execution_count": null,
   "metadata": {},
   "outputs": [],
   "source": [
    "# With the same image and mask you have created above now apply a bitwise not specifying the mask \n",
    "# to show everything but the color you masked out before\n"
   ]
  }
 ],
 "metadata": {
  "hide_input": false,
  "kernelspec": {
   "display_name": "Python 3",
   "language": "python",
   "name": "python3"
  },
  "language_info": {
   "codemirror_mode": {
    "name": "ipython",
    "version": 3
   },
   "file_extension": ".py",
   "mimetype": "text/x-python",
   "name": "python",
   "nbconvert_exporter": "python",
   "pygments_lexer": "ipython3",
   "version": "3.8.2"
  },
  "toc": {
   "base_numbering": 1,
   "nav_menu": {},
   "number_sections": true,
   "sideBar": true,
   "skip_h1_title": false,
   "title_cell": "Table of Contents",
   "title_sidebar": "Contents",
   "toc_cell": false,
   "toc_position": {},
   "toc_section_display": true,
   "toc_window_display": false
  },
  "varInspector": {
   "cols": {
    "lenName": 16,
    "lenType": 16,
    "lenVar": 40
   },
   "kernels_config": {
    "python": {
     "delete_cmd_postfix": "",
     "delete_cmd_prefix": "del ",
     "library": "var_list.py",
     "varRefreshCmd": "print(var_dic_list())"
    },
    "r": {
     "delete_cmd_postfix": ") ",
     "delete_cmd_prefix": "rm(",
     "library": "var_list.r",
     "varRefreshCmd": "cat(var_dic_list()) "
    }
   },
   "types_to_exclude": [
    "module",
    "function",
    "builtin_function_or_method",
    "instance",
    "_Feature"
   ],
   "window_display": false
  }
 },
 "nbformat": 4,
 "nbformat_minor": 2
}
