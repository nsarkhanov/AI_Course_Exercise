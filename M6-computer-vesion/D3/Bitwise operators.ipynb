{
 "cells": [
  {
   "cell_type": "markdown",
   "metadata": {},
   "source": [
    "# Bitwise operations"
   ]
  },
  {
   "cell_type": "code",
   "execution_count": 1,
   "metadata": {
    "ExecuteTime": {
     "end_time": "2021-06-09T12:22:19.783117Z",
     "start_time": "2021-06-09T12:22:19.360118Z"
    }
   },
   "outputs": [],
   "source": [
    "import cv2\n",
    "import numpy as np\n",
    "import matplotlib.pyplot as plt\n",
    "%matplotlib inline"
   ]
  },
  {
   "cell_type": "code",
   "execution_count": 8,
   "metadata": {
    "ExecuteTime": {
     "end_time": "2021-06-09T12:41:18.150645Z",
     "start_time": "2021-06-09T12:41:18.146120Z"
    },
    "scrolled": true
   },
   "outputs": [
    {
     "data": {
      "text/plain": [
       "(800, 800)"
      ]
     },
     "execution_count": 8,
     "metadata": {},
     "output_type": "execute_result"
    }
   ],
   "source": [
    "# With numpy create a black canvas of size 800 x 800 \n",
    "canvas_balck=np.zeros((800,800),np.uint8)\n",
    "canvas_balck.shape"
   ]
  },
  {
   "cell_type": "code",
   "execution_count": 9,
   "metadata": {
    "ExecuteTime": {
     "end_time": "2021-06-09T12:49:21.390513Z",
     "start_time": "2021-06-09T12:49:21.114559Z"
    },
    "scrolled": false
   },
   "outputs": [
    {
     "data": {
      "text/plain": [
       "<matplotlib.image.AxesImage at 0x7f2b81ca7340>"
      ]
     },
     "execution_count": 9,
     "metadata": {},
     "output_type": "execute_result"
    },
    {
     "data": {
      "image/png": "[encoded data removed]",
      "text/plain": [
       "<Figure size 432x288 with 1 Axes>"
      ]
     },
     "metadata": {
      "needs_background": "light"
     },
     "output_type": "display_data"
    }
   ],
   "source": [
    "# Make a copy of the canvas and draw a white square of size 250 x 250 on top of the copy of the canvas\n",
    "canvas=canvas_balck.copy()\n",
    "cv2.rectangle(canvas,(0,0),(250,250),255,-1)\n",
    "plt.imshow(canvas,cmap='gray')"
   ]
  },
  {
   "cell_type": "code",
   "execution_count": null,
   "metadata": {
    "ExecuteTime": {
     "end_time": "2019-11-19T11:07:00.604952Z",
     "start_time": "2019-11-19T11:07:00.262306Z"
    },
    "scrolled": false
   },
   "outputs": [],
   "source": [
    "# Make a copy of the origina lcanvas and draw a white circle of size 200 x 200 on top of the copy of the canvas\n",
    "# Make sure the circle is in a different position of the canvas than the square\n"
   ]
  },
  {
   "cell_type": "code",
   "execution_count": null,
   "metadata": {
    "ExecuteTime": {
     "end_time": "2019-11-19T11:07:22.135906Z",
     "start_time": "2019-11-19T11:07:21.792192Z"
    },
    "scrolled": false
   },
   "outputs": [],
   "source": [
    "# Create a new image and merge both previous images (square and circle) with a bitwise and operation\n"
   ]
  },
  {
   "cell_type": "code",
   "execution_count": null,
   "metadata": {
    "ExecuteTime": {
     "end_time": "2019-11-19T11:07:43.011377Z",
     "start_time": "2019-11-19T11:07:42.571102Z"
    },
    "scrolled": false
   },
   "outputs": [],
   "source": [
    "# Create a new image and merge both previous images (square and circle) with a bitwise or operation\n"
   ]
  },
  {
   "cell_type": "code",
   "execution_count": null,
   "metadata": {
    "ExecuteTime": {
     "end_time": "2019-11-19T11:08:15.344656Z",
     "start_time": "2019-11-19T11:08:15.007321Z"
    },
    "scrolled": false
   },
   "outputs": [],
   "source": [
    "# Create a new image and merge both previous images (square and circle) with a bitwise not operation\n"
   ]
  },
  {
   "cell_type": "code",
   "execution_count": null,
   "metadata": {
    "ExecuteTime": {
     "end_time": "2019-11-19T11:08:34.140004Z",
     "start_time": "2019-11-19T11:08:33.752172Z"
    }
   },
   "outputs": [],
   "source": [
    "# Create a new image and merge both previous images (square and circle) with a bitwise xor operation\n"
   ]
  },
  {
   "cell_type": "code",
   "execution_count": 1,
   "metadata": {},
   "outputs": [],
   "source": [
    "# Load a color image and convert it to HSV\n",
    "# Identify a prominent color from the image and filter it out\n",
    "# Create a mask for that color and apply a bitwise and specifying the mask to show only this part of the image\n"
   ]
  },
  {
   "cell_type": "code",
   "execution_count": null,
   "metadata": {},
   "outputs": [],
   "source": [
    "# With the same image and mask you have created above now apply a bitwise not specifying the mask \n",
    "# to show everything but the color you masked out before\n"
   ]
  }
 ],
 "metadata": {
  "hide_input": false,
  "kernelspec": {
   "display_name": "Python 3",
   "language": "python",
   "name": "python3"
  },
  "language_info": {
   "codemirror_mode": {
    "name": "ipython",
    "version": 3
   },
   "file_extension": ".py",
   "mimetype": "text/x-python",
   "name": "python",
   "nbconvert_exporter": "python",
   "pygments_lexer": "ipython3",
   "version": "3.8.2"
  },
  "toc": {
   "base_numbering": 1,
   "nav_menu": {},
   "number_sections": true,
   "sideBar": true,
   "skip_h1_title": false,
   "title_cell": "Table of Contents",
   "title_sidebar": "Contents",
   "toc_cell": false,
   "toc_position": {},
   "toc_section_display": true,
   "toc_window_display": false
  },
  "varInspector": {
   "cols": {
    "lenName": 16,
    "lenType": 16,
    "lenVar": 40
   },
   "kernels_config": {
    "python": {
     "delete_cmd_postfix": "",
     "delete_cmd_prefix": "del ",
     "library": "var_list.py",
     "varRefreshCmd": "print(var_dic_list())"
    },
    "r": {
     "delete_cmd_postfix": ") ",
     "delete_cmd_prefix": "rm(",
     "library": "var_list.r",
     "varRefreshCmd": "cat(var_dic_list()) "
    }
   },
   "types_to_exclude": [
    "module",
    "function",
    "builtin_function_or_method",
    "instance",
    "_Feature"
   ],
   "window_display": false
  }
 },
 "nbformat": 4,
 "nbformat_minor": 2
}
