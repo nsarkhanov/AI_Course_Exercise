{
 "cells": [
  {
   "cell_type": "markdown",
   "metadata": {
    "papermill": {
     "duration": 0.048556,
     "end_time": "2021-04-25T23:12:27.885344",
     "exception": false,
     "start_time": "2021-04-25T23:12:27.836788",
     "status": "completed"
    },
    "tags": []
   },
   "source": [
    "# Titanic Disaster\n",
    "## Improve your score to 82.78% (Top 3%) \n",
    "\n",
    "In this work I have used some basic techniques to process of the easy way Titanic dataset. \n",
    "\n",
    "### by Javier Vallejos"
   ]
  },
  {
   "cell_type": "markdown",
   "metadata": {
    "papermill": {
     "duration": 0.049211,
     "end_time": "2021-04-25T23:12:27.980577",
     "exception": false,
     "start_time": "2021-04-25T23:12:27.931366",
     "status": "completed"
    },
    "tags": []
   },
   "source": [
    "# 1. Preprocessing and EDA"
   ]
  },
  {
   "cell_type": "markdown",
   "metadata": {
    "papermill": {
     "duration": 0.045649,
     "end_time": "2021-04-25T23:12:28.072588",
     "exception": false,
     "start_time": "2021-04-25T23:12:28.026939",
     "status": "completed"
    },
    "tags": []
   },
   "source": [
    "Here, I reviewed the variables, impute missing values, found patterns and watched relationship between columns."
   ]
  },
  {
   "cell_type": "markdown",
   "metadata": {
    "papermill": {
     "duration": 0.045311,
     "end_time": "2021-04-25T23:12:28.163868",
     "exception": false,
     "start_time": "2021-04-25T23:12:28.118557",
     "status": "completed"
    },
    "tags": []
   },
   "source": [
    "### 1.1. Missing Values"
   ]
  },
  {
   "cell_type": "markdown",
   "metadata": {
    "papermill": {
     "duration": 0.045905,
     "end_time": "2021-04-25T23:12:28.256315",
     "exception": false,
     "start_time": "2021-04-25T23:12:28.21041",
     "status": "completed"
    },
    "tags": []
   },
   "source": [
    "Reading the dataset and merging Train and Test to get better results."
   ]
  },
  {
   "cell_type": "code",
   "execution_count": 1,
   "metadata": {
    "ExecuteTime": {
     "end_time": "2021-04-30T07:48:52.396497Z",
     "start_time": "2021-04-30T07:48:51.233640Z"
    },
    "papermill": {
     "duration": 1.495149,
     "end_time": "2021-04-25T23:12:29.79692",
     "exception": false,
     "start_time": "2021-04-25T23:12:28.301771",
     "status": "completed"
    },
    "tags": []
   },
   "outputs": [],
   "source": [
    "# Libraries used\n",
    "\n",
    "import numpy as np \n",
    "import pandas as pd \n",
    "import seaborn as sns\n",
    "import matplotlib.pyplot as plt\n",
    "\n",
    "from sklearn.preprocessing import LabelEncoder, OneHotEncoder\n",
    "from sklearn.tree import DecisionTreeClassifier\n",
    "from sklearn.preprocessing import StandardScaler\n",
    "\n",
    "from numpy.random import seed\n",
    "\n",
    "seed(11111)"
   ]
  },
  {
   "cell_type": "code",
   "execution_count": 3,
   "metadata": {
    "ExecuteTime": {
     "end_time": "2021-04-30T07:50:14.148219Z",
     "start_time": "2021-04-30T07:50:14.063855Z"
    },
    "papermill": {
     "duration": 0.139878,
     "end_time": "2021-04-25T23:12:29.982812",
     "exception": false,
     "start_time": "2021-04-25T23:12:29.842934",
     "status": "completed"
    },
    "tags": []
   },
   "outputs": [
    {
     "data": {
      "text/html": [
       "<div>\n",
       "<style scoped>\n",
       "    .dataframe tbody tr th:only-of-type {\n",
       "        vertical-align: middle;\n",
       "    }\n",
       "\n",
       "    .dataframe tbody tr th {\n",
       "        vertical-align: top;\n",
       "    }\n",
       "\n",
       "    .dataframe thead th {\n",
       "        text-align: right;\n",
       "    }\n",
       "</style>\n",
       "<table border=\"1\" class=\"dataframe\">\n",
       "  <thead>\n",
       "    <tr style=\"text-align: right;\">\n",
       "      <th></th>\n",
       "      <th>Survived</th>\n",
       "      <th>Pclass</th>\n",
       "      <th>Name</th>\n",
       "      <th>Sex</th>\n",
       "      <th>Age</th>\n",
       "      <th>SibSp</th>\n",
       "      <th>Parch</th>\n",
       "      <th>Ticket</th>\n",
       "      <th>Fare</th>\n",
       "      <th>Cabin</th>\n",
       "      <th>Embarked</th>\n",
       "    </tr>\n",
       "    <tr>\n",
       "      <th>PassengerId</th>\n",
       "      <th></th>\n",
       "      <th></th>\n",
       "      <th></th>\n",
       "      <th></th>\n",
       "      <th></th>\n",
       "      <th></th>\n",
       "      <th></th>\n",
       "      <th></th>\n",
       "      <th></th>\n",
       "      <th></th>\n",
       "      <th></th>\n",
       "    </tr>\n",
       "  </thead>\n",
       "  <tbody>\n",
       "    <tr>\n",
       "      <th>1</th>\n",
       "      <td>0.0</td>\n",
       "      <td>3</td>\n",
       "      <td>Braund, Mr. Owen Harris</td>\n",
       "      <td>male</td>\n",
       "      <td>22.0</td>\n",
       "      <td>1</td>\n",
       "      <td>0</td>\n",
       "      <td>A/5 21171</td>\n",
       "      <td>7.2500</td>\n",
       "      <td>NaN</td>\n",
       "      <td>S</td>\n",
       "    </tr>\n",
       "    <tr>\n",
       "      <th>2</th>\n",
       "      <td>1.0</td>\n",
       "      <td>1</td>\n",
       "      <td>Cumings, Mrs. John Bradley (Florence Briggs Th...</td>\n",
       "      <td>female</td>\n",
       "      <td>38.0</td>\n",
       "      <td>1</td>\n",
       "      <td>0</td>\n",
       "      <td>PC 17599</td>\n",
       "      <td>71.2833</td>\n",
       "      <td>C85</td>\n",
       "      <td>C</td>\n",
       "    </tr>\n",
       "    <tr>\n",
       "      <th>3</th>\n",
       "      <td>1.0</td>\n",
       "      <td>3</td>\n",
       "      <td>Heikkinen, Miss. Laina</td>\n",
       "      <td>female</td>\n",
       "      <td>26.0</td>\n",
       "      <td>0</td>\n",
       "      <td>0</td>\n",
       "      <td>STON/O2. 3101282</td>\n",
       "      <td>7.9250</td>\n",
       "      <td>NaN</td>\n",
       "      <td>S</td>\n",
       "    </tr>\n",
       "    <tr>\n",
       "      <th>4</th>\n",
       "      <td>1.0</td>\n",
       "      <td>1</td>\n",
       "      <td>Futrelle, Mrs. Jacques Heath (Lily May Peel)</td>\n",
       "      <td>female</td>\n",
       "      <td>35.0</td>\n",
       "      <td>1</td>\n",
       "      <td>0</td>\n",
       "      <td>113803</td>\n",
       "      <td>53.1000</td>\n",
       "      <td>C123</td>\n",
       "      <td>S</td>\n",
       "    </tr>\n",
       "    <tr>\n",
       "      <th>5</th>\n",
       "      <td>0.0</td>\n",
       "      <td>3</td>\n",
       "      <td>Allen, Mr. William Henry</td>\n",
       "      <td>male</td>\n",
       "      <td>35.0</td>\n",
       "      <td>0</td>\n",
       "      <td>0</td>\n",
       "      <td>373450</td>\n",
       "      <td>8.0500</td>\n",
       "      <td>NaN</td>\n",
       "      <td>S</td>\n",
       "    </tr>\n",
       "    <tr>\n",
       "      <th>...</th>\n",
       "      <td>...</td>\n",
       "      <td>...</td>\n",
       "      <td>...</td>\n",
       "      <td>...</td>\n",
       "      <td>...</td>\n",
       "      <td>...</td>\n",
       "      <td>...</td>\n",
       "      <td>...</td>\n",
       "      <td>...</td>\n",
       "      <td>...</td>\n",
       "      <td>...</td>\n",
       "    </tr>\n",
       "    <tr>\n",
       "      <th>1305</th>\n",
       "      <td>NaN</td>\n",
       "      <td>3</td>\n",
       "      <td>Spector, Mr. Woolf</td>\n",
       "      <td>male</td>\n",
       "      <td>NaN</td>\n",
       "      <td>0</td>\n",
       "      <td>0</td>\n",
       "      <td>A.5. 3236</td>\n",
       "      <td>8.0500</td>\n",
       "      <td>NaN</td>\n",
       "      <td>S</td>\n",
       "    </tr>\n",
       "    <tr>\n",
       "      <th>1306</th>\n",
       "      <td>NaN</td>\n",
       "      <td>1</td>\n",
       "      <td>Oliva y Ocana, Dona. Fermina</td>\n",
       "      <td>female</td>\n",
       "      <td>39.0</td>\n",
       "      <td>0</td>\n",
       "      <td>0</td>\n",
       "      <td>PC 17758</td>\n",
       "      <td>108.9000</td>\n",
       "      <td>C105</td>\n",
       "      <td>C</td>\n",
       "    </tr>\n",
       "    <tr>\n",
       "      <th>1307</th>\n",
       "      <td>NaN</td>\n",
       "      <td>3</td>\n",
       "      <td>Saether, Mr. Simon Sivertsen</td>\n",
       "      <td>male</td>\n",
       "      <td>38.5</td>\n",
       "      <td>0</td>\n",
       "      <td>0</td>\n",
       "      <td>SOTON/O.Q. 3101262</td>\n",
       "      <td>7.2500</td>\n",
       "      <td>NaN</td>\n",
       "      <td>S</td>\n",
       "    </tr>\n",
       "    <tr>\n",
       "      <th>1308</th>\n",
       "      <td>NaN</td>\n",
       "      <td>3</td>\n",
       "      <td>Ware, Mr. Frederick</td>\n",
       "      <td>male</td>\n",
       "      <td>NaN</td>\n",
       "      <td>0</td>\n",
       "      <td>0</td>\n",
       "      <td>359309</td>\n",
       "      <td>8.0500</td>\n",
       "      <td>NaN</td>\n",
       "      <td>S</td>\n",
       "    </tr>\n",
       "    <tr>\n",
       "      <th>1309</th>\n",
       "      <td>NaN</td>\n",
       "      <td>3</td>\n",
       "      <td>Peter, Master. Michael J</td>\n",
       "      <td>male</td>\n",
       "      <td>NaN</td>\n",
       "      <td>1</td>\n",
       "      <td>1</td>\n",
       "      <td>2668</td>\n",
       "      <td>22.3583</td>\n",
       "      <td>NaN</td>\n",
       "      <td>C</td>\n",
       "    </tr>\n",
       "  </tbody>\n",
       "</table>\n",
       "<p>1309 rows × 11 columns</p>\n",
       "</div>"
      ],
      "text/plain": [
       "             Survived  Pclass  \\\n",
       "PassengerId                     \n",
       "1                 0.0       3   \n",
       "2                 1.0       1   \n",
       "3                 1.0       3   \n",
       "4                 1.0       1   \n",
       "5                 0.0       3   \n",
       "...               ...     ...   \n",
       "1305              NaN       3   \n",
       "1306              NaN       1   \n",
       "1307              NaN       3   \n",
       "1308              NaN       3   \n",
       "1309              NaN       3   \n",
       "\n",
       "                                                          Name     Sex   Age  \\\n",
       "PassengerId                                                                    \n",
       "1                                      Braund, Mr. Owen Harris    male  22.0   \n",
       "2            Cumings, Mrs. John Bradley (Florence Briggs Th...  female  38.0   \n",
       "3                                       Heikkinen, Miss. Laina  female  26.0   \n",
       "4                 Futrelle, Mrs. Jacques Heath (Lily May Peel)  female  35.0   \n",
       "5                                     Allen, Mr. William Henry    male  35.0   \n",
       "...                                                        ...     ...   ...   \n",
       "1305                                        Spector, Mr. Woolf    male   NaN   \n",
       "1306                              Oliva y Ocana, Dona. Fermina  female  39.0   \n",
       "1307                              Saether, Mr. Simon Sivertsen    male  38.5   \n",
       "1308                                       Ware, Mr. Frederick    male   NaN   \n",
       "1309                                  Peter, Master. Michael J    male   NaN   \n",
       "\n",
       "             SibSp  Parch              Ticket      Fare Cabin Embarked  \n",
       "PassengerId                                                             \n",
       "1                1      0           A/5 21171    7.2500   NaN        S  \n",
       "2                1      0            PC 17599   71.2833   C85        C  \n",
       "3                0      0    STON/O2. 3101282    7.9250   NaN        S  \n",
       "4                1      0              113803   53.1000  C123        S  \n",
       "5                0      0              373450    8.0500   NaN        S  \n",
       "...            ...    ...                 ...       ...   ...      ...  \n",
       "1305             0      0           A.5. 3236    8.0500   NaN        S  \n",
       "1306             0      0            PC 17758  108.9000  C105        C  \n",
       "1307             0      0  SOTON/O.Q. 3101262    7.2500   NaN        S  \n",
       "1308             0      0              359309    8.0500   NaN        S  \n",
       "1309             1      1                2668   22.3583   NaN        C  \n",
       "\n",
       "[1309 rows x 11 columns]"
      ]
     },
     "execution_count": 3,
     "metadata": {},
     "output_type": "execute_result"
    }
   ],
   "source": [
    "# Reading\n",
    "train = pd.read_csv(\"train.csv\")\n",
    "test = pd.read_csv(\"test.csv\")\n",
    "\n",
    "# Putting on index to each dataset before split it\n",
    "train = train.set_index(\"PassengerId\")\n",
    "test = test.set_index(\"PassengerId\")\n",
    "\n",
    "# dataframe \n",
    "df = pd.concat([train, test], axis=0, sort=False)\n",
    "\n",
    "df"
   ]
  },
  {
   "cell_type": "code",
   "execution_count": 4,
   "metadata": {
    "ExecuteTime": {
     "end_time": "2021-04-30T07:50:40.336011Z",
     "start_time": "2021-04-30T07:50:40.330071Z"
    }
   },
   "outputs": [
    {
     "data": {
      "text/plain": [
       "Index(['Survived', 'Pclass', 'Name', 'Sex', 'Age', 'SibSp', 'Parch', 'Ticket',\n",
       "       'Fare', 'Cabin', 'Embarked'],\n",
       "      dtype='object')"
      ]
     },
     "execution_count": 4,
     "metadata": {},
     "output_type": "execute_result"
    }
   ],
   "source": [
    "df.columns"
   ]
  },
  {
   "cell_type": "markdown",
   "metadata": {
    "papermill": {
     "duration": 0.052626,
     "end_time": "2021-04-25T23:12:30.095123",
     "exception": false,
     "start_time": "2021-04-25T23:12:30.042497",
     "status": "completed"
    },
    "tags": []
   },
   "source": [
    "As you can see Name, Sex, Ticket, Cabin, and Embarked column are objects, before processing each column we should know if there are NAs or missing values."
   ]
  },
  {
   "cell_type": "code",
   "execution_count": 5,
   "metadata": {
    "ExecuteTime": {
     "end_time": "2021-04-30T07:50:49.567560Z",
     "start_time": "2021-04-30T07:50:49.545750Z"
    },
    "papermill": {
     "duration": 0.07436,
     "end_time": "2021-04-25T23:12:30.217596",
     "exception": false,
     "start_time": "2021-04-25T23:12:30.143236",
     "status": "completed"
    },
    "tags": []
   },
   "outputs": [
    {
     "name": "stdout",
     "output_type": "stream",
     "text": [
      "<class 'pandas.core.frame.DataFrame'>\n",
      "Int64Index: 1309 entries, 1 to 1309\n",
      "Data columns (total 11 columns):\n",
      " #   Column    Non-Null Count  Dtype  \n",
      "---  ------    --------------  -----  \n",
      " 0   Survived  891 non-null    float64\n",
      " 1   Pclass    1309 non-null   int64  \n",
      " 2   Name      1309 non-null   object \n",
      " 3   Sex       1309 non-null   object \n",
      " 4   Age       1046 non-null   float64\n",
      " 5   SibSp     1309 non-null   int64  \n",
      " 6   Parch     1309 non-null   int64  \n",
      " 7   Ticket    1309 non-null   object \n",
      " 8   Fare      1308 non-null   float64\n",
      " 9   Cabin     295 non-null    object \n",
      " 10  Embarked  1307 non-null   object \n",
      "dtypes: float64(3), int64(3), object(5)\n",
      "memory usage: 122.7+ KB\n"
     ]
    }
   ],
   "source": [
    "df.info()"
   ]
  },
  {
   "cell_type": "markdown",
   "metadata": {
    "papermill": {
     "duration": 0.047214,
     "end_time": "2021-04-25T23:12:30.312341",
     "exception": false,
     "start_time": "2021-04-25T23:12:30.265127",
     "status": "completed"
    },
    "tags": []
   },
   "source": [
    "There are three columns with missing values (Age, Fare and Cabin) and Survived column has NaNs because the Test dataset doesn't have that information.   "
   ]
  },
  {
   "cell_type": "code",
   "execution_count": 6,
   "metadata": {
    "ExecuteTime": {
     "end_time": "2021-04-30T07:51:04.581236Z",
     "start_time": "2021-04-30T07:51:04.567151Z"
    },
    "papermill": {
     "duration": 0.062019,
     "end_time": "2021-04-25T23:12:30.421989",
     "exception": false,
     "start_time": "2021-04-25T23:12:30.35997",
     "status": "completed"
    },
    "tags": []
   },
   "outputs": [
    {
     "data": {
      "text/plain": [
       "Survived     418\n",
       "Pclass         0\n",
       "Name           0\n",
       "Sex            0\n",
       "Age          263\n",
       "SibSp          0\n",
       "Parch          0\n",
       "Ticket         0\n",
       "Fare           1\n",
       "Cabin       1014\n",
       "Embarked       2\n",
       "dtype: int64"
      ]
     },
     "execution_count": 6,
     "metadata": {},
     "output_type": "execute_result"
    }
   ],
   "source": [
    "df.isna().sum()"
   ]
  },
  {
   "cell_type": "markdown",
   "metadata": {
    "papermill": {
     "duration": 0.047608,
     "end_time": "2021-04-25T23:12:30.5173",
     "exception": false,
     "start_time": "2021-04-25T23:12:30.469692",
     "status": "completed"
    },
    "tags": []
   },
   "source": [
    "To visualize better the columns we will transform the Sex and Embarked columns to numeric. Sex column only has two categories Female and Male, Embarked column has tree labels S, C and Q."
   ]
  },
  {
   "cell_type": "code",
   "execution_count": 7,
   "metadata": {
    "ExecuteTime": {
     "end_time": "2021-04-30T07:51:21.897250Z",
     "start_time": "2021-04-30T07:51:21.886204Z"
    },
    "papermill": {
     "duration": 0.059522,
     "end_time": "2021-04-25T23:12:30.625373",
     "exception": false,
     "start_time": "2021-04-25T23:12:30.565851",
     "status": "completed"
    },
    "tags": []
   },
   "outputs": [],
   "source": [
    "# Sex\n",
    "change = {'female':0,'male':1}\n",
    "df.Sex = df.Sex.map(change)\n",
    "\n",
    "# Embarked\n",
    "change = {'S':0,'C':1,'Q':2}\n",
    "df.Embarked = df.Embarked.map(change)"
   ]
  },
  {
   "cell_type": "markdown",
   "metadata": {
    "papermill": {
     "duration": 0.047529,
     "end_time": "2021-04-25T23:12:30.720673",
     "exception": false,
     "start_time": "2021-04-25T23:12:30.673144",
     "status": "completed"
    },
    "tags": []
   },
   "source": [
    "The following figure show us numeric columns vs Survived column to know the behavior. In the last fig (3,3) you can see that we are working with unbalanced dataset. "
   ]
  },
  {
   "cell_type": "code",
   "execution_count": 8,
   "metadata": {
    "ExecuteTime": {
     "end_time": "2021-04-30T07:52:01.805991Z",
     "start_time": "2021-04-30T07:52:00.197411Z"
    },
    "papermill": {
     "duration": 0.997019,
     "end_time": "2021-04-25T23:12:31.765737",
     "exception": false,
     "start_time": "2021-04-25T23:12:30.768718",
     "status": "completed"
    },
    "tags": []
   },
   "outputs": [
    {
     "data": {
      "image/png": "[encoded data removed]",
      "text/plain": [
       "<Figure size 1152x1008 with 6 Axes>"
      ]
     },
     "metadata": {
      "needs_background": "light"
     },
     "output_type": "display_data"
    }
   ],
   "source": [
    "columns = ['Pclass', 'Sex','Embarked','SibSp', 'Parch','Survived']\n",
    "\n",
    "plt.figure(figsize=(16, 14))\n",
    "sns.set(font_scale= 1.2)\n",
    "sns.set_style('ticks')\n",
    "\n",
    "for i, feature in enumerate(columns):\n",
    "    plt.subplot(3, 3, i+1)\n",
    "    sns.countplot(data=df, x=feature, hue='Survived', palette='Paired')\n",
    "    \n",
    "sns.despine()"
   ]
  },
  {
   "cell_type": "code",
   "execution_count": 9,
   "metadata": {
    "ExecuteTime": {
     "end_time": "2021-04-30T07:52:05.899008Z",
     "start_time": "2021-04-30T07:52:04.523717Z"
    }
   },
   "outputs": [
    {
     "data": {
      "image/png": "[encoded data removed]",
      "text/plain": [
       "<Figure size 1152x1008 with 6 Axes>"
      ]
     },
     "metadata": {},
     "output_type": "display_data"
    }
   ],
   "source": [
    "columns = ['Pclass', 'Sex','Embarked','SibSp', 'Parch','Survived']\n",
    "\n",
    "plt.figure(figsize=(16, 14))\n",
    "sns.set(font_scale= 1.2)\n",
    "sns.set_style('ticks')\n",
    "\n",
    "for i, feature in enumerate(columns):\n",
    "    plt.subplot(3, 3, i+1)\n",
    "    sns.countplot(data=df, x=feature, hue='Sex', palette='BrBG')\n",
    "    \n",
    "sns.despine()"
   ]
  },
  {
   "cell_type": "markdown",
   "metadata": {
    "papermill": {
     "duration": 0.049234,
     "end_time": "2021-04-25T23:12:31.865111",
     "exception": false,
     "start_time": "2021-04-25T23:12:31.815877",
     "status": "completed"
    },
    "tags": []
   },
   "source": [
    "### 1.2. Age column"
   ]
  },
  {
   "cell_type": "markdown",
   "metadata": {
    "papermill": {
     "duration": 0.049086,
     "end_time": "2021-04-25T23:12:31.963804",
     "exception": false,
     "start_time": "2021-04-25T23:12:31.914718",
     "status": "completed"
    },
    "tags": []
   },
   "source": [
    "The easy way to impute the missing values is with mean or median on base its correlation with other columns. Below you can see the correlation beetwen variables, Pclass has a good correlation with Age, but I also added Sex column to impute missing values."
   ]
  },
  {
   "cell_type": "code",
   "execution_count": 10,
   "metadata": {
    "ExecuteTime": {
     "end_time": "2021-04-30T07:52:09.238109Z",
     "start_time": "2021-04-30T07:52:08.719432Z"
    },
    "papermill": {
     "duration": 0.350462,
     "end_time": "2021-04-25T23:12:32.363721",
     "exception": false,
     "start_time": "2021-04-25T23:12:32.013259",
     "status": "completed"
    },
    "tags": []
   },
   "outputs": [
    {
     "data": {
      "image/png": "[encoded data removed]",
      "text/plain": [
       "<Figure size 576x432 with 2 Axes>"
      ]
     },
     "metadata": {},
     "output_type": "display_data"
    }
   ],
   "source": [
    "corr_df = df.corr()\n",
    "fig, axs = plt.subplots(figsize=(8, 6))\n",
    "sns.heatmap(corr_df).set_title(\"Correlation Map\",fontdict= { 'fontsize': 20, 'fontweight':'bold'});"
   ]
  },
  {
   "cell_type": "code",
   "execution_count": 11,
   "metadata": {
    "ExecuteTime": {
     "end_time": "2021-04-30T07:52:11.154887Z",
     "start_time": "2021-04-30T07:52:11.138546Z"
    },
    "papermill": {
     "duration": 0.069469,
     "end_time": "2021-04-25T23:12:32.484537",
     "exception": false,
     "start_time": "2021-04-25T23:12:32.415068",
     "status": "completed"
    },
    "tags": []
   },
   "outputs": [
    {
     "data": {
      "text/plain": [
       "Pclass  Sex  Survived\n",
       "1       0    0.0         25.0\n",
       "             1.0         35.0\n",
       "        1    0.0         45.5\n",
       "             1.0         36.0\n",
       "2       0    0.0         32.5\n",
       "             1.0         28.0\n",
       "        1    0.0         30.5\n",
       "             1.0          3.0\n",
       "3       0    0.0         22.0\n",
       "             1.0         19.0\n",
       "        1    0.0         25.0\n",
       "             1.0         25.0\n",
       "Name: Age, dtype: float64"
      ]
     },
     "execution_count": 11,
     "metadata": {},
     "output_type": "execute_result"
    }
   ],
   "source": [
    "df.groupby(['Pclass','Sex','Survived'])['Age'].median()"
   ]
  },
  {
   "cell_type": "code",
   "execution_count": 12,
   "metadata": {
    "ExecuteTime": {
     "end_time": "2021-04-30T07:52:12.898698Z",
     "start_time": "2021-04-30T07:52:12.886488Z"
    },
    "papermill": {
     "duration": 0.061858,
     "end_time": "2021-04-25T23:12:32.597764",
     "exception": false,
     "start_time": "2021-04-25T23:12:32.535906",
     "status": "completed"
    },
    "tags": []
   },
   "outputs": [],
   "source": [
    "#Filling the missing values with mean of Pclass and Sex.\n",
    "df[\"Age\"].fillna(df.groupby(['Pclass','Sex'])['Age'].transform(\"mean\"), inplace=True)"
   ]
  },
  {
   "cell_type": "code",
   "execution_count": 13,
   "metadata": {
    "ExecuteTime": {
     "end_time": "2021-04-30T07:52:14.421263Z",
     "start_time": "2021-04-30T07:52:14.187107Z"
    },
    "papermill": {
     "duration": 0.294507,
     "end_time": "2021-04-25T23:12:32.944335",
     "exception": false,
     "start_time": "2021-04-25T23:12:32.649828",
     "status": "completed"
    },
    "tags": []
   },
   "outputs": [
    {
     "ename": "AttributeError",
     "evalue": "module 'seaborn' has no attribute 'histplot'",
     "output_type": "error",
     "traceback": [
      "\u001b[0;31m---------------------------------------------------------------------------\u001b[0m",
      "\u001b[0;31mAttributeError\u001b[0m                            Traceback (most recent call last)",
      "\u001b[0;32m<ipython-input-13-bc8e3ba4c451>\u001b[0m in \u001b[0;36m<module>\u001b[0;34m\u001b[0m\n\u001b[1;32m      1\u001b[0m \u001b[0mfig\u001b[0m\u001b[0;34m,\u001b[0m \u001b[0maxs\u001b[0m \u001b[0;34m=\u001b[0m \u001b[0mplt\u001b[0m\u001b[0;34m.\u001b[0m\u001b[0msubplots\u001b[0m\u001b[0;34m(\u001b[0m\u001b[0mfigsize\u001b[0m\u001b[0;34m=\u001b[0m\u001b[0;34m(\u001b[0m\u001b[0;36m10\u001b[0m\u001b[0;34m,\u001b[0m \u001b[0;36m5\u001b[0m\u001b[0;34m)\u001b[0m\u001b[0;34m)\u001b[0m\u001b[0;34m\u001b[0m\u001b[0;34m\u001b[0m\u001b[0m\n\u001b[0;32m----> 2\u001b[0;31m \u001b[0msns\u001b[0m\u001b[0;34m.\u001b[0m\u001b[0mhistplot\u001b[0m\u001b[0;34m(\u001b[0m\u001b[0mdata\u001b[0m\u001b[0;34m=\u001b[0m\u001b[0mdf\u001b[0m\u001b[0;34m,\u001b[0m \u001b[0mx\u001b[0m\u001b[0;34m=\u001b[0m\u001b[0;34m'Age'\u001b[0m\u001b[0;34m)\u001b[0m\u001b[0;34m.\u001b[0m\u001b[0mset_title\u001b[0m\u001b[0;34m(\u001b[0m\u001b[0;34m\"Age distribution\"\u001b[0m\u001b[0;34m,\u001b[0m\u001b[0mfontdict\u001b[0m\u001b[0;34m=\u001b[0m \u001b[0;34m{\u001b[0m \u001b[0;34m'fontsize'\u001b[0m\u001b[0;34m:\u001b[0m \u001b[0;36m20\u001b[0m\u001b[0;34m,\u001b[0m \u001b[0;34m'fontweight'\u001b[0m\u001b[0;34m:\u001b[0m\u001b[0;34m'bold'\u001b[0m\u001b[0;34m}\u001b[0m\u001b[0;34m)\u001b[0m\u001b[0;34m;\u001b[0m\u001b[0;34m\u001b[0m\u001b[0;34m\u001b[0m\u001b[0m\n\u001b[0m\u001b[1;32m      3\u001b[0m \u001b[0msns\u001b[0m\u001b[0;34m.\u001b[0m\u001b[0mdespine\u001b[0m\u001b[0;34m(\u001b[0m\u001b[0;34m)\u001b[0m\u001b[0;34m\u001b[0m\u001b[0;34m\u001b[0m\u001b[0m\n",
      "\u001b[0;31mAttributeError\u001b[0m: module 'seaborn' has no attribute 'histplot'"
     ]
    },
    {
     "data": {
      "image/png": "[encoded data removed]",
      "text/plain": [
       "<Figure size 720x360 with 1 Axes>"
      ]
     },
     "metadata": {},
     "output_type": "display_data"
    }
   ],
   "source": [
    "fig, axs = plt.subplots(figsize=(10, 5))\n",
    "sns.histplot(data=df, x='Age').set_title(\"Age distribution\",fontdict= { 'fontsize': 20, 'fontweight':'bold'});\n",
    "sns.despine()"
   ]
  },
  {
   "cell_type": "markdown",
   "metadata": {
    "papermill": {
     "duration": 0.053748,
     "end_time": "2021-04-25T23:12:33.0517",
     "exception": false,
     "start_time": "2021-04-25T23:12:32.997952",
     "status": "completed"
    },
    "tags": []
   },
   "source": [
    "Let's binning the columns to process it the best way."
   ]
  },
  {
   "cell_type": "code",
   "execution_count": 14,
   "metadata": {
    "ExecuteTime": {
     "end_time": "2021-04-30T07:52:21.553617Z",
     "start_time": "2021-04-30T07:52:21.111228Z"
    },
    "papermill": {
     "duration": 0.399207,
     "end_time": "2021-04-25T23:12:33.504076",
     "exception": false,
     "start_time": "2021-04-25T23:12:33.104869",
     "status": "completed"
    },
    "tags": []
   },
   "outputs": [
    {
     "data": {
      "image/png": "[encoded data removed]",
      "text/plain": [
       "<Figure size 1080x360 with 1 Axes>"
      ]
     },
     "metadata": {},
     "output_type": "display_data"
    }
   ],
   "source": [
    "auxage = pd.cut(df['Age'], 4)\n",
    "fig, axs = plt.subplots(figsize=(15, 5))\n",
    "sns.countplot(x=auxage, hue='Survived', data=df).set_title(\"Age Bins\",fontdict= { 'fontsize': 20, 'fontweight':'bold'});\n",
    "sns.despine()"
   ]
  },
  {
   "cell_type": "code",
   "execution_count": 15,
   "metadata": {
    "ExecuteTime": {
     "end_time": "2021-04-30T07:52:23.363906Z",
     "start_time": "2021-04-30T07:52:23.345627Z"
    },
    "papermill": {
     "duration": 0.067558,
     "end_time": "2021-04-25T23:12:33.62563",
     "exception": false,
     "start_time": "2021-04-25T23:12:33.558072",
     "status": "completed"
    },
    "tags": []
   },
   "outputs": [],
   "source": [
    "# converting to categorical\n",
    "df['Age'] = LabelEncoder().fit_transform(auxage) "
   ]
  },
  {
   "cell_type": "code",
   "execution_count": 16,
   "metadata": {
    "ExecuteTime": {
     "end_time": "2021-04-30T07:52:24.890838Z",
     "start_time": "2021-04-30T07:52:24.850040Z"
    },
    "papermill": {
     "duration": 0.082735,
     "end_time": "2021-04-25T23:12:33.762329",
     "exception": false,
     "start_time": "2021-04-25T23:12:33.679594",
     "status": "completed"
    },
    "tags": []
   },
   "outputs": [
    {
     "data": {
      "text/html": [
       "<div>\n",
       "<style scoped>\n",
       "    .dataframe tbody tr th:only-of-type {\n",
       "        vertical-align: middle;\n",
       "    }\n",
       "\n",
       "    .dataframe tbody tr th {\n",
       "        vertical-align: top;\n",
       "    }\n",
       "\n",
       "    .dataframe thead th {\n",
       "        text-align: right;\n",
       "    }\n",
       "</style>\n",
       "<table border=\"1\" class=\"dataframe\">\n",
       "  <thead>\n",
       "    <tr style=\"text-align: right;\">\n",
       "      <th>Survived</th>\n",
       "      <th>0.0</th>\n",
       "      <th>1.0</th>\n",
       "    </tr>\n",
       "    <tr>\n",
       "      <th>Age</th>\n",
       "      <th></th>\n",
       "      <th></th>\n",
       "    </tr>\n",
       "  </thead>\n",
       "  <tbody>\n",
       "    <tr>\n",
       "      <th>0</th>\n",
       "      <td>97</td>\n",
       "      <td>82</td>\n",
       "    </tr>\n",
       "    <tr>\n",
       "      <th>1</th>\n",
       "      <td>341</td>\n",
       "      <td>200</td>\n",
       "    </tr>\n",
       "    <tr>\n",
       "      <th>2</th>\n",
       "      <td>94</td>\n",
       "      <td>55</td>\n",
       "    </tr>\n",
       "    <tr>\n",
       "      <th>3</th>\n",
       "      <td>17</td>\n",
       "      <td>5</td>\n",
       "    </tr>\n",
       "  </tbody>\n",
       "</table>\n",
       "</div>"
      ],
      "text/plain": [
       "Survived  0.0  1.0\n",
       "Age               \n",
       "0          97   82\n",
       "1         341  200\n",
       "2          94   55\n",
       "3          17    5"
      ]
     },
     "execution_count": 16,
     "metadata": {},
     "output_type": "execute_result"
    }
   ],
   "source": [
    "pd.crosstab(df['Age'], df['Survived'])"
   ]
  },
  {
   "cell_type": "markdown",
   "metadata": {
    "papermill": {
     "duration": 0.054458,
     "end_time": "2021-04-25T23:12:33.872414",
     "exception": false,
     "start_time": "2021-04-25T23:12:33.817956",
     "status": "completed"
    },
    "tags": []
   },
   "source": [
    "### 1.3. Fare column"
   ]
  },
  {
   "cell_type": "markdown",
   "metadata": {
    "papermill": {
     "duration": 0.05516,
     "end_time": "2021-04-25T23:12:33.982657",
     "exception": false,
     "start_time": "2021-04-25T23:12:33.927497",
     "status": "completed"
    },
    "tags": []
   },
   "source": [
    "Fare has only one missing value and I imputed with the median or moda"
   ]
  },
  {
   "cell_type": "code",
   "execution_count": 17,
   "metadata": {
    "ExecuteTime": {
     "end_time": "2021-04-30T07:52:27.487695Z",
     "start_time": "2021-04-30T07:52:27.474703Z"
    },
    "papermill": {
     "duration": 0.06601,
     "end_time": "2021-04-25T23:12:34.103798",
     "exception": false,
     "start_time": "2021-04-25T23:12:34.037788",
     "status": "completed"
    },
    "tags": []
   },
   "outputs": [],
   "source": [
    "df[\"Fare\"].fillna(df.groupby(['Pclass', 'Sex'])['Fare'].transform(\"median\"), inplace=True)"
   ]
  },
  {
   "cell_type": "code",
   "execution_count": 18,
   "metadata": {
    "ExecuteTime": {
     "end_time": "2021-04-30T07:52:29.166891Z",
     "start_time": "2021-04-30T07:52:28.722488Z"
    },
    "papermill": {
     "duration": 0.292282,
     "end_time": "2021-04-25T23:12:34.450516",
     "exception": false,
     "start_time": "2021-04-25T23:12:34.158234",
     "status": "completed"
    },
    "tags": []
   },
   "outputs": [
    {
     "data": {
      "image/png": "[encoded data removed]",
      "text/plain": [
       "<Figure size 1080x360 with 1 Axes>"
      ]
     },
     "metadata": {},
     "output_type": "display_data"
    }
   ],
   "source": [
    "auxfare = pd.cut(df['Fare'],5)\n",
    "fig, axs = plt.subplots(figsize=(15, 5))\n",
    "sns.countplot(x=auxfare, hue='Survived', data=df).set_title(\"Fare Bins\",fontdict= { 'fontsize': 20, 'fontweight':'bold'});\n",
    "sns.despine()"
   ]
  },
  {
   "cell_type": "code",
   "execution_count": 19,
   "metadata": {
    "ExecuteTime": {
     "end_time": "2021-04-30T07:52:30.969376Z",
     "start_time": "2021-04-30T07:52:30.839477Z"
    },
    "papermill": {
     "duration": 0.072115,
     "end_time": "2021-04-25T23:12:34.579201",
     "exception": false,
     "start_time": "2021-04-25T23:12:34.507086",
     "status": "completed"
    },
    "tags": []
   },
   "outputs": [],
   "source": [
    "df['Fare'] = LabelEncoder().fit_transform(auxfare) "
   ]
  },
  {
   "cell_type": "code",
   "execution_count": 20,
   "metadata": {
    "ExecuteTime": {
     "end_time": "2021-04-30T07:52:32.158352Z",
     "start_time": "2021-04-30T07:52:32.119102Z"
    },
    "papermill": {
     "duration": 0.083885,
     "end_time": "2021-04-25T23:12:34.719794",
     "exception": false,
     "start_time": "2021-04-25T23:12:34.635909",
     "status": "completed"
    },
    "tags": []
   },
   "outputs": [
    {
     "data": {
      "text/html": [
       "<div>\n",
       "<style scoped>\n",
       "    .dataframe tbody tr th:only-of-type {\n",
       "        vertical-align: middle;\n",
       "    }\n",
       "\n",
       "    .dataframe tbody tr th {\n",
       "        vertical-align: top;\n",
       "    }\n",
       "\n",
       "    .dataframe thead th {\n",
       "        text-align: right;\n",
       "    }\n",
       "</style>\n",
       "<table border=\"1\" class=\"dataframe\">\n",
       "  <thead>\n",
       "    <tr style=\"text-align: right;\">\n",
       "      <th>Survived</th>\n",
       "      <th>0.0</th>\n",
       "      <th>1.0</th>\n",
       "    </tr>\n",
       "    <tr>\n",
       "      <th>Fare</th>\n",
       "      <th></th>\n",
       "      <th></th>\n",
       "    </tr>\n",
       "  </thead>\n",
       "  <tbody>\n",
       "    <tr>\n",
       "      <th>0</th>\n",
       "      <td>535</td>\n",
       "      <td>303</td>\n",
       "    </tr>\n",
       "    <tr>\n",
       "      <th>1</th>\n",
       "      <td>8</td>\n",
       "      <td>25</td>\n",
       "    </tr>\n",
       "    <tr>\n",
       "      <th>2</th>\n",
       "      <td>6</td>\n",
       "      <td>11</td>\n",
       "    </tr>\n",
       "    <tr>\n",
       "      <th>3</th>\n",
       "      <td>0</td>\n",
       "      <td>3</td>\n",
       "    </tr>\n",
       "  </tbody>\n",
       "</table>\n",
       "</div>"
      ],
      "text/plain": [
       "Survived  0.0  1.0\n",
       "Fare              \n",
       "0         535  303\n",
       "1           8   25\n",
       "2           6   11\n",
       "3           0    3"
      ]
     },
     "execution_count": 20,
     "metadata": {},
     "output_type": "execute_result"
    }
   ],
   "source": [
    "pd.crosstab(df['Fare'], df['Survived'])"
   ]
  },
  {
   "cell_type": "markdown",
   "metadata": {
    "papermill": {
     "duration": 0.057131,
     "end_time": "2021-04-25T23:12:34.834767",
     "exception": false,
     "start_time": "2021-04-25T23:12:34.777636",
     "status": "completed"
    },
    "tags": []
   },
   "source": [
    "### 1.4. Embarked column"
   ]
  },
  {
   "cell_type": "markdown",
   "metadata": {
    "papermill": {
     "duration": 0.056914,
     "end_time": "2021-04-25T23:12:34.948933",
     "exception": false,
     "start_time": "2021-04-25T23:12:34.892019",
     "status": "completed"
    },
    "tags": []
   },
   "source": [
    "Has two missing values."
   ]
  },
  {
   "cell_type": "code",
   "execution_count": 21,
   "metadata": {
    "ExecuteTime": {
     "end_time": "2021-04-30T07:52:33.939437Z",
     "start_time": "2021-04-30T07:52:33.931627Z"
    },
    "papermill": {
     "duration": 0.067707,
     "end_time": "2021-04-25T23:12:35.074931",
     "exception": false,
     "start_time": "2021-04-25T23:12:35.007224",
     "status": "completed"
    },
    "tags": []
   },
   "outputs": [
    {
     "name": "stdout",
     "output_type": "stream",
     "text": [
      "mean of embarked 0.0\n"
     ]
    }
   ],
   "source": [
    "print(\"mean of embarked\",df.Embarked.median())\n",
    "\n",
    "df.Embarked.fillna(df.Embarked.median(), inplace = True)"
   ]
  },
  {
   "cell_type": "markdown",
   "metadata": {
    "papermill": {
     "duration": 0.056738,
     "end_time": "2021-04-25T23:12:35.189038",
     "exception": false,
     "start_time": "2021-04-25T23:12:35.1323",
     "status": "completed"
    },
    "tags": []
   },
   "source": [
    "### 1.5. Cabin column"
   ]
  },
  {
   "cell_type": "markdown",
   "metadata": {
    "papermill": {
     "duration": 0.057134,
     "end_time": "2021-04-25T23:12:35.305296",
     "exception": false,
     "start_time": "2021-04-25T23:12:35.248162",
     "status": "completed"
    },
    "tags": []
   },
   "source": [
    "This column has many missing values and thats the reason I dropped it."
   ]
  },
  {
   "cell_type": "code",
   "execution_count": 22,
   "metadata": {
    "ExecuteTime": {
     "end_time": "2021-04-30T07:52:35.471385Z",
     "start_time": "2021-04-30T07:52:35.458967Z"
    },
    "papermill": {
     "duration": 0.069005,
     "end_time": "2021-04-25T23:12:35.431745",
     "exception": false,
     "start_time": "2021-04-25T23:12:35.36274",
     "status": "completed"
    },
    "tags": []
   },
   "outputs": [
    {
     "name": "stdout",
     "output_type": "stream",
     "text": [
      "Percentage of missing values in the Cabin column : 77.46\n"
     ]
    }
   ],
   "source": [
    "print(\"Percentage of missing values in the Cabin column :\" ,round(df.Cabin.isna().sum()/ len(df.Cabin)*100,2))"
   ]
  },
  {
   "cell_type": "code",
   "execution_count": 23,
   "metadata": {
    "ExecuteTime": {
     "end_time": "2021-04-30T07:52:36.631236Z",
     "start_time": "2021-04-30T07:52:36.622744Z"
    },
    "papermill": {
     "duration": 0.068425,
     "end_time": "2021-04-25T23:12:35.557932",
     "exception": false,
     "start_time": "2021-04-25T23:12:35.489507",
     "status": "completed"
    },
    "tags": []
   },
   "outputs": [],
   "source": [
    "df.drop(['Cabin'], axis = 1, inplace = True)"
   ]
  },
  {
   "cell_type": "markdown",
   "metadata": {
    "papermill": {
     "duration": 0.058237,
     "end_time": "2021-04-25T23:12:35.674379",
     "exception": false,
     "start_time": "2021-04-25T23:12:35.616142",
     "status": "completed"
    },
    "tags": []
   },
   "source": [
    "# 2. Feature Extraction"
   ]
  },
  {
   "cell_type": "markdown",
   "metadata": {
    "papermill": {
     "duration": 0.058942,
     "end_time": "2021-04-25T23:12:35.79122",
     "exception": false,
     "start_time": "2021-04-25T23:12:35.732278",
     "status": "completed"
    },
    "tags": []
   },
   "source": [
    "In this part I have used the Name column to extract the Title of each person."
   ]
  },
  {
   "cell_type": "code",
   "execution_count": 24,
   "metadata": {
    "ExecuteTime": {
     "end_time": "2021-04-30T07:52:38.143738Z",
     "start_time": "2021-04-30T07:52:38.127815Z"
    },
    "papermill": {
     "duration": 0.072611,
     "end_time": "2021-04-25T23:12:35.921576",
     "exception": false,
     "start_time": "2021-04-25T23:12:35.848965",
     "status": "completed"
    },
    "tags": []
   },
   "outputs": [],
   "source": [
    "df['Title'] = df.Name.str.extract('([A-Za-z]+)\\.', expand = False)"
   ]
  },
  {
   "cell_type": "code",
   "execution_count": 25,
   "metadata": {
    "ExecuteTime": {
     "end_time": "2021-04-30T07:52:39.578417Z",
     "start_time": "2021-04-30T07:52:39.569563Z"
    },
    "papermill": {
     "duration": 0.070228,
     "end_time": "2021-04-25T23:12:36.051073",
     "exception": false,
     "start_time": "2021-04-25T23:12:35.980845",
     "status": "completed"
    },
    "tags": []
   },
   "outputs": [
    {
     "data": {
      "text/plain": [
       "Mr          757\n",
       "Miss        260\n",
       "Mrs         197\n",
       "Master       61\n",
       "Dr            8\n",
       "Rev           8\n",
       "Col           4\n",
       "Major         2\n",
       "Mlle          2\n",
       "Ms            2\n",
       "Lady          1\n",
       "Capt          1\n",
       "Countess      1\n",
       "Sir           1\n",
       "Jonkheer      1\n",
       "Mme           1\n",
       "Dona          1\n",
       "Don           1\n",
       "Name: Title, dtype: int64"
      ]
     },
     "execution_count": 25,
     "metadata": {},
     "output_type": "execute_result"
    }
   ],
   "source": [
    "df.Title.value_counts()"
   ]
  },
  {
   "cell_type": "markdown",
   "metadata": {
    "papermill": {
     "duration": 0.058189,
     "end_time": "2021-04-25T23:12:36.168764",
     "exception": false,
     "start_time": "2021-04-25T23:12:36.110575",
     "status": "completed"
    },
    "tags": []
   },
   "source": [
    "The four titles most ocurring are Mr, Miss, Mrs and Master. "
   ]
  },
  {
   "cell_type": "code",
   "execution_count": 26,
   "metadata": {
    "ExecuteTime": {
     "end_time": "2021-04-30T07:52:41.552323Z",
     "start_time": "2021-04-30T07:52:41.516616Z"
    },
    "papermill": {
     "duration": 0.077202,
     "end_time": "2021-04-25T23:12:36.305465",
     "exception": false,
     "start_time": "2021-04-25T23:12:36.228263",
     "status": "completed"
    },
    "tags": []
   },
   "outputs": [
    {
     "data": {
      "text/plain": [
       "array(['Mr', 'Mrs', 'Miss', 'Master', 'Rare'], dtype=object)"
      ]
     },
     "execution_count": 26,
     "metadata": {},
     "output_type": "execute_result"
    }
   ],
   "source": [
    "least_occuring = ['Rev','Dr','Major', 'Col', 'Capt','Jonkheer','Countess']\n",
    "\n",
    "df.Title = df.Title.replace(['Ms', 'Mlle','Mme','Lady'], 'Miss')\n",
    "df.Title = df.Title.replace(['Countess','Dona'], 'Mrs')\n",
    "df.Title = df.Title.replace(['Don','Sir'], 'Mr')\n",
    "\n",
    "df.Title = df.Title.replace(least_occuring,'Rare')\n",
    "\n",
    "df.Title.unique()"
   ]
  },
  {
   "cell_type": "code",
   "execution_count": 27,
   "metadata": {
    "ExecuteTime": {
     "end_time": "2021-04-30T07:52:43.145904Z",
     "start_time": "2021-04-30T07:52:43.117000Z"
    },
    "papermill": {
     "duration": 0.086026,
     "end_time": "2021-04-25T23:12:36.450457",
     "exception": false,
     "start_time": "2021-04-25T23:12:36.364431",
     "status": "completed"
    },
    "tags": []
   },
   "outputs": [
    {
     "data": {
      "text/html": [
       "<div>\n",
       "<style scoped>\n",
       "    .dataframe tbody tr th:only-of-type {\n",
       "        vertical-align: middle;\n",
       "    }\n",
       "\n",
       "    .dataframe tbody tr th {\n",
       "        vertical-align: top;\n",
       "    }\n",
       "\n",
       "    .dataframe thead th {\n",
       "        text-align: right;\n",
       "    }\n",
       "</style>\n",
       "<table border=\"1\" class=\"dataframe\">\n",
       "  <thead>\n",
       "    <tr style=\"text-align: right;\">\n",
       "      <th>Survived</th>\n",
       "      <th>0.0</th>\n",
       "      <th>1.0</th>\n",
       "    </tr>\n",
       "    <tr>\n",
       "      <th>Title</th>\n",
       "      <th></th>\n",
       "      <th></th>\n",
       "    </tr>\n",
       "  </thead>\n",
       "  <tbody>\n",
       "    <tr>\n",
       "      <th>Master</th>\n",
       "      <td>17</td>\n",
       "      <td>23</td>\n",
       "    </tr>\n",
       "    <tr>\n",
       "      <th>Miss</th>\n",
       "      <td>55</td>\n",
       "      <td>132</td>\n",
       "    </tr>\n",
       "    <tr>\n",
       "      <th>Mr</th>\n",
       "      <td>437</td>\n",
       "      <td>82</td>\n",
       "    </tr>\n",
       "    <tr>\n",
       "      <th>Mrs</th>\n",
       "      <td>26</td>\n",
       "      <td>100</td>\n",
       "    </tr>\n",
       "    <tr>\n",
       "      <th>Rare</th>\n",
       "      <td>14</td>\n",
       "      <td>5</td>\n",
       "    </tr>\n",
       "  </tbody>\n",
       "</table>\n",
       "</div>"
      ],
      "text/plain": [
       "Survived  0.0  1.0\n",
       "Title             \n",
       "Master     17   23\n",
       "Miss       55  132\n",
       "Mr        437   82\n",
       "Mrs        26  100\n",
       "Rare       14    5"
      ]
     },
     "execution_count": 27,
     "metadata": {},
     "output_type": "execute_result"
    }
   ],
   "source": [
    "pd.crosstab(df['Title'], df['Survived'])"
   ]
  },
  {
   "cell_type": "code",
   "execution_count": 28,
   "metadata": {
    "ExecuteTime": {
     "end_time": "2021-04-30T07:52:44.595652Z",
     "start_time": "2021-04-30T07:52:44.588444Z"
    },
    "papermill": {
     "duration": 0.06859,
     "end_time": "2021-04-25T23:12:36.578725",
     "exception": false,
     "start_time": "2021-04-25T23:12:36.510135",
     "status": "completed"
    },
    "tags": []
   },
   "outputs": [],
   "source": [
    "df['Title'] = LabelEncoder().fit_transform(df['Title']) "
   ]
  },
  {
   "cell_type": "markdown",
   "metadata": {
    "papermill": {
     "duration": 0.059144,
     "end_time": "2021-04-25T23:12:36.69756",
     "exception": false,
     "start_time": "2021-04-25T23:12:36.638416",
     "status": "completed"
    },
    "tags": []
   },
   "source": [
    "## 2.1. SibSp and Parch column"
   ]
  },
  {
   "cell_type": "code",
   "execution_count": 29,
   "metadata": {
    "ExecuteTime": {
     "end_time": "2021-04-30T07:52:46.210880Z",
     "start_time": "2021-04-30T07:52:46.202413Z"
    },
    "papermill": {
     "duration": 0.070221,
     "end_time": "2021-04-25T23:12:36.827193",
     "exception": false,
     "start_time": "2021-04-25T23:12:36.756972",
     "status": "completed"
    },
    "tags": []
   },
   "outputs": [],
   "source": [
    "# I got the total number of each family adding SibSp and Parch. (1) is the same passenger.\n",
    "df['FamilySize'] = df['SibSp'] + df['Parch']+1\n",
    "df.drop(['SibSp','Parch'], axis = 1, inplace = True)"
   ]
  },
  {
   "cell_type": "code",
   "execution_count": 30,
   "metadata": {
    "ExecuteTime": {
     "end_time": "2021-04-30T07:52:47.312927Z",
     "start_time": "2021-04-30T07:52:46.892507Z"
    },
    "papermill": {
     "duration": 0.317354,
     "end_time": "2021-04-25T23:12:37.204279",
     "exception": false,
     "start_time": "2021-04-25T23:12:36.886925",
     "status": "completed"
    },
    "tags": []
   },
   "outputs": [
    {
     "data": {
      "image/png": "[encoded data removed]",
      "text/plain": [
       "<Figure size 1080x360 with 1 Axes>"
      ]
     },
     "metadata": {},
     "output_type": "display_data"
    }
   ],
   "source": [
    "fig, axs = plt.subplots(figsize=(15, 5))\n",
    "sns.countplot(x='FamilySize', hue='Survived', data=df).set_title(\"Raw Column\",fontdict= { 'fontsize': 20, 'fontweight':'bold'});\n",
    "sns.despine()"
   ]
  },
  {
   "cell_type": "code",
   "execution_count": 31,
   "metadata": {
    "ExecuteTime": {
     "end_time": "2021-04-30T07:52:49.445326Z",
     "start_time": "2021-04-30T07:52:49.424864Z"
    },
    "papermill": {
     "duration": 0.075408,
     "end_time": "2021-04-25T23:12:37.342184",
     "exception": false,
     "start_time": "2021-04-25T23:12:37.266776",
     "status": "completed"
    },
    "tags": []
   },
   "outputs": [],
   "source": [
    "# Binning FamilySize column\n",
    "df.loc[ df['FamilySize'] == 1, 'FamilySize'] = 0                            # Alone\n",
    "df.loc[(df['FamilySize'] > 1) & (df['FamilySize'] <= 4), 'FamilySize'] = 1  # Small Family \n",
    "df.loc[(df['FamilySize'] > 4) & (df['FamilySize'] <= 6), 'FamilySize'] = 2  # Medium Family\n",
    "df.loc[df['FamilySize']  > 6, 'FamilySize'] = 3                             # Large Family "
   ]
  },
  {
   "cell_type": "code",
   "execution_count": 32,
   "metadata": {
    "ExecuteTime": {
     "end_time": "2021-04-30T07:52:50.632214Z",
     "start_time": "2021-04-30T07:52:50.323074Z"
    },
    "papermill": {
     "duration": 0.257729,
     "end_time": "2021-04-25T23:12:37.660744",
     "exception": false,
     "start_time": "2021-04-25T23:12:37.403015",
     "status": "completed"
    },
    "tags": []
   },
   "outputs": [
    {
     "data": {
      "image/png": "[encoded data removed]",
      "text/plain": [
       "<Figure size 1080x360 with 1 Axes>"
      ]
     },
     "metadata": {},
     "output_type": "display_data"
    }
   ],
   "source": [
    "fig, axs = plt.subplots(figsize=(15, 5))\n",
    "sns.countplot(x='FamilySize', hue='Survived', data=df).set_title(\"Variable Bined\",fontdict= { 'fontsize': 20, 'fontweight':'bold'});\n",
    "sns.despine()"
   ]
  },
  {
   "cell_type": "markdown",
   "metadata": {
    "papermill": {
     "duration": 0.061984,
     "end_time": "2021-04-25T23:12:37.785493",
     "exception": false,
     "start_time": "2021-04-25T23:12:37.723509",
     "status": "completed"
    },
    "tags": []
   },
   "source": [
    "### 2.2. Ticket column"
   ]
  },
  {
   "cell_type": "markdown",
   "metadata": {
    "papermill": {
     "duration": 0.062157,
     "end_time": "2021-04-25T23:12:37.910051",
     "exception": false,
     "start_time": "2021-04-25T23:12:37.847894",
     "status": "completed"
    },
    "tags": []
   },
   "source": [
    "With the following lambda function I got the ticket's number and I changed the LINE ticket to zero."
   ]
  },
  {
   "cell_type": "code",
   "execution_count": 33,
   "metadata": {
    "ExecuteTime": {
     "end_time": "2021-04-30T07:52:53.619427Z",
     "start_time": "2021-04-30T07:52:53.606377Z"
    },
    "papermill": {
     "duration": 0.076551,
     "end_time": "2021-04-25T23:12:38.055102",
     "exception": false,
     "start_time": "2021-04-25T23:12:37.978551",
     "status": "completed"
    },
    "tags": []
   },
   "outputs": [],
   "source": [
    "df['Ticket'] = df.Ticket.str.split().apply(lambda x : 0 if x[:][-1] == 'LINE' else x[:][-1])"
   ]
  },
  {
   "cell_type": "code",
   "execution_count": 34,
   "metadata": {
    "ExecuteTime": {
     "end_time": "2021-04-30T07:52:54.551419Z",
     "start_time": "2021-04-30T07:52:54.546112Z"
    },
    "papermill": {
     "duration": 0.07091,
     "end_time": "2021-04-25T23:12:38.190913",
     "exception": false,
     "start_time": "2021-04-25T23:12:38.120003",
     "status": "completed"
    },
    "tags": []
   },
   "outputs": [],
   "source": [
    "df.Ticket = df.Ticket.values.astype('int64')"
   ]
  },
  {
   "cell_type": "markdown",
   "metadata": {
    "papermill": {
     "duration": 0.062061,
     "end_time": "2021-04-25T23:12:38.316598",
     "exception": false,
     "start_time": "2021-04-25T23:12:38.254537",
     "status": "completed"
    },
    "tags": []
   },
   "source": [
    "### 2.3. Name Column"
   ]
  },
  {
   "cell_type": "markdown",
   "metadata": {
    "papermill": {
     "duration": 0.062047,
     "end_time": "2021-04-25T23:12:38.440822",
     "exception": false,
     "start_time": "2021-04-25T23:12:38.378775",
     "status": "completed"
    },
    "tags": []
   },
   "source": [
    "To get a better model,I got the Last Name of each passenger."
   ]
  },
  {
   "cell_type": "code",
   "execution_count": 35,
   "metadata": {
    "ExecuteTime": {
     "end_time": "2021-04-30T07:52:55.894117Z",
     "start_time": "2021-04-30T07:52:55.880378Z"
    },
    "papermill": {
     "duration": 0.074454,
     "end_time": "2021-04-25T23:12:38.578339",
     "exception": false,
     "start_time": "2021-04-25T23:12:38.503885",
     "status": "completed"
    },
    "tags": []
   },
   "outputs": [],
   "source": [
    "df['LastName'] = last= df.Name.str.extract('^(.+?),', expand = False)"
   ]
  },
  {
   "cell_type": "markdown",
   "metadata": {
    "papermill": {
     "duration": 0.062217,
     "end_time": "2021-04-25T23:12:38.703745",
     "exception": false,
     "start_time": "2021-04-25T23:12:38.641528",
     "status": "completed"
    },
    "tags": []
   },
   "source": [
    "### 2.4. Woman or Child column"
   ]
  },
  {
   "cell_type": "markdown",
   "metadata": {
    "papermill": {
     "duration": 0.062224,
     "end_time": "2021-04-25T23:12:38.828109",
     "exception": false,
     "start_time": "2021-04-25T23:12:38.765885",
     "status": "completed"
    },
    "tags": []
   },
   "source": [
    "Here, I created a new column to know if the passenger is woman a child, I selected the Title parameter because most of children less than 16 years have the master title."
   ]
  },
  {
   "cell_type": "code",
   "execution_count": 36,
   "metadata": {
    "ExecuteTime": {
     "end_time": "2021-04-30T07:52:57.225486Z",
     "start_time": "2021-04-30T07:52:57.219455Z"
    },
    "papermill": {
     "duration": 0.072338,
     "end_time": "2021-04-25T23:12:38.96306",
     "exception": false,
     "start_time": "2021-04-25T23:12:38.890722",
     "status": "completed"
    },
    "tags": []
   },
   "outputs": [],
   "source": [
    "df['WomChi'] = ((df.Title == 0) | (df.Sex == 0))"
   ]
  },
  {
   "cell_type": "markdown",
   "metadata": {
    "papermill": {
     "duration": 0.062459,
     "end_time": "2021-04-25T23:12:39.089898",
     "exception": false,
     "start_time": "2021-04-25T23:12:39.027439",
     "status": "completed"
    },
    "tags": []
   },
   "source": [
    "### 2.4 Family Survived Rate column"
   ]
  },
  {
   "cell_type": "markdown",
   "metadata": {
    "papermill": {
     "duration": 0.06243,
     "end_time": "2021-04-25T23:12:39.215139",
     "exception": false,
     "start_time": "2021-04-25T23:12:39.152709",
     "status": "completed"
    },
    "tags": []
   },
   "source": [
    "In this part I created three new columns FTotalCount, FSurviviedCount and FSurvivalRate, the F is of Family.  FTotalCount uses a lambda function to count of the WomChi column on base of LastName, PClass and Ticked  detect families and then subtract the same passanger with a boolean process the passenger is woman or child. FSurvivedCount also uses a lambda function to sum WomChi column and then with mask function filters if the passenger is woman o child subtract the state of survival, and the last FSurvivalRate only divide FSurvivedCount and FTotalCount.\n"
   ]
  },
  {
   "cell_type": "code",
   "execution_count": 37,
   "metadata": {
    "ExecuteTime": {
     "end_time": "2021-04-30T07:53:01.234976Z",
     "start_time": "2021-04-30T07:52:58.669754Z"
    },
    "papermill": {
     "duration": 1.501871,
     "end_time": "2021-04-25T23:12:40.781722",
     "exception": false,
     "start_time": "2021-04-25T23:12:39.279851",
     "status": "completed"
    },
    "tags": []
   },
   "outputs": [],
   "source": [
    "family = df.groupby([df.LastName, df.Pclass, df.Ticket]).Survived\n",
    "\n",
    "df['FTotalCount'] = family.transform(lambda s: s[df.WomChi].fillna(0).count())\n",
    "df['FTotalCount'] = df.mask(df.WomChi, (df.FTotalCount - 1), axis=0)\n",
    "\n",
    "df['FSurvivedCount'] = family.transform(lambda s: s[df.WomChi].fillna(0).sum())\n",
    "df['FSurvivedCount'] = df.mask(df.WomChi, df.FSurvivedCount - df.Survived.fillna(0), axis=0)\n",
    "\n",
    "df['FSurvivalRate'] = (df.FSurvivedCount / df.FTotalCount.replace(0, np.nan))"
   ]
  },
  {
   "cell_type": "code",
   "execution_count": 38,
   "metadata": {
    "ExecuteTime": {
     "end_time": "2021-04-30T07:53:03.318305Z",
     "start_time": "2021-04-30T07:53:03.308423Z"
    },
    "papermill": {
     "duration": 0.076748,
     "end_time": "2021-04-25T23:12:40.922737",
     "exception": false,
     "start_time": "2021-04-25T23:12:40.845989",
     "status": "completed"
    },
    "tags": []
   },
   "outputs": [
    {
     "data": {
      "text/plain": [
       "Survived           418\n",
       "Pclass               0\n",
       "Name                 0\n",
       "Sex                  0\n",
       "Age                  0\n",
       "Ticket               0\n",
       "Fare                 0\n",
       "Embarked             0\n",
       "Title                0\n",
       "FamilySize           0\n",
       "LastName             0\n",
       "WomChi               0\n",
       "FTotalCount        245\n",
       "FSurvivedCount     245\n",
       "FSurvivalRate     1014\n",
       "dtype: int64"
      ]
     },
     "execution_count": 38,
     "metadata": {},
     "output_type": "execute_result"
    }
   ],
   "source": [
    "df.isna().sum()"
   ]
  },
  {
   "cell_type": "code",
   "execution_count": 39,
   "metadata": {
    "ExecuteTime": {
     "end_time": "2021-04-30T07:53:05.622737Z",
     "start_time": "2021-04-30T07:53:05.604402Z"
    },
    "papermill": {
     "duration": 0.099833,
     "end_time": "2021-04-25T23:12:41.101986",
     "exception": false,
     "start_time": "2021-04-25T23:12:41.002153",
     "status": "completed"
    },
    "tags": []
   },
   "outputs": [],
   "source": [
    "# filling the missing values\n",
    "df.FSurvivalRate.fillna(0, inplace = True)\n",
    "df.FTotalCount.fillna(0, inplace = True)\n",
    "df.FSurvivedCount.fillna(0, inplace = True)"
   ]
  },
  {
   "cell_type": "code",
   "execution_count": 40,
   "metadata": {
    "ExecuteTime": {
     "end_time": "2021-04-30T07:53:07.036231Z",
     "start_time": "2021-04-30T07:53:07.007702Z"
    },
    "papermill": {
     "duration": 0.094598,
     "end_time": "2021-04-25T23:12:41.26339",
     "exception": false,
     "start_time": "2021-04-25T23:12:41.168792",
     "status": "completed"
    },
    "tags": []
   },
   "outputs": [
    {
     "data": {
      "text/html": [
       "<div>\n",
       "<style scoped>\n",
       "    .dataframe tbody tr th:only-of-type {\n",
       "        vertical-align: middle;\n",
       "    }\n",
       "\n",
       "    .dataframe tbody tr th {\n",
       "        vertical-align: top;\n",
       "    }\n",
       "\n",
       "    .dataframe thead th {\n",
       "        text-align: right;\n",
       "    }\n",
       "</style>\n",
       "<table border=\"1\" class=\"dataframe\">\n",
       "  <thead>\n",
       "    <tr style=\"text-align: right;\">\n",
       "      <th></th>\n",
       "      <th>Survived</th>\n",
       "      <th>Pclass</th>\n",
       "      <th>Name</th>\n",
       "      <th>Sex</th>\n",
       "      <th>Age</th>\n",
       "      <th>Ticket</th>\n",
       "      <th>Fare</th>\n",
       "      <th>Embarked</th>\n",
       "      <th>Title</th>\n",
       "      <th>FamilySize</th>\n",
       "      <th>LastName</th>\n",
       "      <th>WomChi</th>\n",
       "      <th>FTotalCount</th>\n",
       "      <th>FSurvivedCount</th>\n",
       "      <th>FSurvivalRate</th>\n",
       "    </tr>\n",
       "    <tr>\n",
       "      <th>PassengerId</th>\n",
       "      <th></th>\n",
       "      <th></th>\n",
       "      <th></th>\n",
       "      <th></th>\n",
       "      <th></th>\n",
       "      <th></th>\n",
       "      <th></th>\n",
       "      <th></th>\n",
       "      <th></th>\n",
       "      <th></th>\n",
       "      <th></th>\n",
       "      <th></th>\n",
       "      <th></th>\n",
       "      <th></th>\n",
       "      <th></th>\n",
       "    </tr>\n",
       "  </thead>\n",
       "  <tbody>\n",
       "    <tr>\n",
       "      <th>94</th>\n",
       "      <td>0.0</td>\n",
       "      <td>3</td>\n",
       "      <td>Dean, Mr. Bertram Frank</td>\n",
       "      <td>1</td>\n",
       "      <td>1</td>\n",
       "      <td>2315</td>\n",
       "      <td>0</td>\n",
       "      <td>0.0</td>\n",
       "      <td>2</td>\n",
       "      <td>1</td>\n",
       "      <td>Dean</td>\n",
       "      <td>False</td>\n",
       "      <td>0.0</td>\n",
       "      <td>0.0</td>\n",
       "      <td>0.0</td>\n",
       "    </tr>\n",
       "    <tr>\n",
       "      <th>789</th>\n",
       "      <td>1.0</td>\n",
       "      <td>3</td>\n",
       "      <td>Dean, Master. Bertram Vere</td>\n",
       "      <td>1</td>\n",
       "      <td>0</td>\n",
       "      <td>2315</td>\n",
       "      <td>0</td>\n",
       "      <td>0.0</td>\n",
       "      <td>0</td>\n",
       "      <td>1</td>\n",
       "      <td>Dean</td>\n",
       "      <td>True</td>\n",
       "      <td>2.0</td>\n",
       "      <td>0.0</td>\n",
       "      <td>0.0</td>\n",
       "    </tr>\n",
       "    <tr>\n",
       "      <th>924</th>\n",
       "      <td>NaN</td>\n",
       "      <td>3</td>\n",
       "      <td>Dean, Mrs. Bertram (Eva Georgetta Light)</td>\n",
       "      <td>0</td>\n",
       "      <td>1</td>\n",
       "      <td>2315</td>\n",
       "      <td>0</td>\n",
       "      <td>0.0</td>\n",
       "      <td>3</td>\n",
       "      <td>1</td>\n",
       "      <td>Dean</td>\n",
       "      <td>True</td>\n",
       "      <td>2.0</td>\n",
       "      <td>1.0</td>\n",
       "      <td>0.5</td>\n",
       "    </tr>\n",
       "    <tr>\n",
       "      <th>1246</th>\n",
       "      <td>NaN</td>\n",
       "      <td>3</td>\n",
       "      <td>Dean, Miss. Elizabeth Gladys Millvina\"\"</td>\n",
       "      <td>0</td>\n",
       "      <td>0</td>\n",
       "      <td>2315</td>\n",
       "      <td>0</td>\n",
       "      <td>0.0</td>\n",
       "      <td>1</td>\n",
       "      <td>1</td>\n",
       "      <td>Dean</td>\n",
       "      <td>True</td>\n",
       "      <td>2.0</td>\n",
       "      <td>1.0</td>\n",
       "      <td>0.5</td>\n",
       "    </tr>\n",
       "  </tbody>\n",
       "</table>\n",
       "</div>"
      ],
      "text/plain": [
       "             Survived  Pclass                                      Name  Sex  \\\n",
       "PassengerId                                                                    \n",
       "94                0.0       3                   Dean, Mr. Bertram Frank    1   \n",
       "789               1.0       3                Dean, Master. Bertram Vere    1   \n",
       "924               NaN       3  Dean, Mrs. Bertram (Eva Georgetta Light)    0   \n",
       "1246              NaN       3   Dean, Miss. Elizabeth Gladys Millvina\"\"    0   \n",
       "\n",
       "             Age  Ticket  Fare  Embarked  Title  FamilySize LastName  WomChi  \\\n",
       "PassengerId                                                                    \n",
       "94             1    2315     0       0.0      2           1     Dean   False   \n",
       "789            0    2315     0       0.0      0           1     Dean    True   \n",
       "924            1    2315     0       0.0      3           1     Dean    True   \n",
       "1246           0    2315     0       0.0      1           1     Dean    True   \n",
       "\n",
       "             FTotalCount  FSurvivedCount  FSurvivalRate  \n",
       "PassengerId                                              \n",
       "94                   0.0             0.0            0.0  \n",
       "789                  2.0             0.0            0.0  \n",
       "924                  2.0             1.0            0.5  \n",
       "1246                 2.0             1.0            0.5  "
      ]
     },
     "execution_count": 40,
     "metadata": {},
     "output_type": "execute_result"
    }
   ],
   "source": [
    "# You can review the result Family Survival Rate with these Families Heikkinen, Braund, Rice, Andersson,\n",
    "# Fortune, Asplund, Spector,Ryerson, Allison, Carter, Vander, Planke\n",
    "\n",
    "df[df['LastName'] == \"Dean\"]"
   ]
  },
  {
   "cell_type": "markdown",
   "metadata": {
    "papermill": {
     "duration": 0.066487,
     "end_time": "2021-04-25T23:12:41.396574",
     "exception": false,
     "start_time": "2021-04-25T23:12:41.330087",
     "status": "completed"
    },
    "tags": []
   },
   "source": [
    "# 3. Modeling"
   ]
  },
  {
   "cell_type": "code",
   "execution_count": 41,
   "metadata": {
    "ExecuteTime": {
     "end_time": "2021-04-30T07:53:09.258234Z",
     "start_time": "2021-04-30T07:53:09.250836Z"
    },
    "papermill": {
     "duration": 0.073155,
     "end_time": "2021-04-25T23:12:41.535509",
     "exception": false,
     "start_time": "2021-04-25T23:12:41.462354",
     "status": "completed"
    },
    "tags": []
   },
   "outputs": [],
   "source": [
    "df['PassengerId'] = df.index"
   ]
  },
  {
   "cell_type": "code",
   "execution_count": 42,
   "metadata": {
    "ExecuteTime": {
     "end_time": "2021-04-30T07:53:10.655065Z",
     "start_time": "2021-04-30T07:53:10.631586Z"
    },
    "papermill": {
     "duration": 0.082792,
     "end_time": "2021-04-25T23:12:41.684695",
     "exception": false,
     "start_time": "2021-04-25T23:12:41.601903",
     "status": "completed"
    },
    "tags": []
   },
   "outputs": [],
   "source": [
    "df = pd.get_dummies(df, columns=['Sex','Fare','Pclass'])"
   ]
  },
  {
   "cell_type": "code",
   "execution_count": 43,
   "metadata": {
    "ExecuteTime": {
     "end_time": "2021-04-30T07:53:11.482009Z",
     "start_time": "2021-04-30T07:53:11.472901Z"
    },
    "papermill": {
     "duration": 0.078322,
     "end_time": "2021-04-25T23:12:41.830282",
     "exception": false,
     "start_time": "2021-04-25T23:12:41.75196",
     "status": "completed"
    },
    "tags": []
   },
   "outputs": [],
   "source": [
    "df.drop(['Name','LastName','WomChi','FTotalCount','FSurvivedCount','Embarked','Title'], axis = 1, inplace = True)"
   ]
  },
  {
   "cell_type": "code",
   "execution_count": 44,
   "metadata": {
    "ExecuteTime": {
     "end_time": "2021-04-30T07:53:12.263477Z",
     "start_time": "2021-04-30T07:53:12.257275Z"
    },
    "papermill": {
     "duration": 0.076494,
     "end_time": "2021-04-25T23:12:41.974232",
     "exception": false,
     "start_time": "2021-04-25T23:12:41.897738",
     "status": "completed"
    },
    "tags": []
   },
   "outputs": [
    {
     "data": {
      "text/plain": [
       "Index(['Survived', 'Age', 'Ticket', 'FamilySize', 'FSurvivalRate',\n",
       "       'PassengerId', 'Sex_0', 'Sex_1', 'Fare_0', 'Fare_1', 'Fare_2', 'Fare_3',\n",
       "       'Pclass_1', 'Pclass_2', 'Pclass_3'],\n",
       "      dtype='object')"
      ]
     },
     "execution_count": 44,
     "metadata": {},
     "output_type": "execute_result"
    }
   ],
   "source": [
    "df.columns"
   ]
  },
  {
   "cell_type": "code",
   "execution_count": 45,
   "metadata": {
    "ExecuteTime": {
     "end_time": "2021-04-30T07:53:13.531578Z",
     "start_time": "2021-04-30T07:53:13.515381Z"
    },
    "papermill": {
     "duration": 0.080737,
     "end_time": "2021-04-25T23:12:42.124599",
     "exception": false,
     "start_time": "2021-04-25T23:12:42.043862",
     "status": "completed"
    },
    "tags": []
   },
   "outputs": [],
   "source": [
    "# I splitted df to train and test\n",
    "train, test = df.loc[train.index], df.loc[test.index]\n",
    "\n",
    "X_train = train.drop(['PassengerId','Survived'], axis = 1)\n",
    "Y_train = train[\"Survived\"]\n",
    "train_names = X_train.columns\n",
    "\n",
    "X_test = test.drop(['PassengerId','Survived'], axis = 1)"
   ]
  },
  {
   "cell_type": "code",
   "execution_count": 46,
   "metadata": {
    "ExecuteTime": {
     "end_time": "2021-04-30T07:53:15.389870Z",
     "start_time": "2021-04-30T07:53:14.757750Z"
    },
    "papermill": {
     "duration": 0.456657,
     "end_time": "2021-04-25T23:12:42.648511",
     "exception": false,
     "start_time": "2021-04-25T23:12:42.191854",
     "status": "completed"
    },
    "tags": []
   },
   "outputs": [
    {
     "data": {
      "image/png": "[encoded data removed]",
      "text/plain": [
       "<Figure size 720x576 with 2 Axes>"
      ]
     },
     "metadata": {},
     "output_type": "display_data"
    }
   ],
   "source": [
    "corr_train = X_train.corr()\n",
    "fig, axs = plt.subplots(figsize=(10, 8))\n",
    "sns.heatmap(corr_train).set_title(\"Correlation Map\",fontdict= { 'fontsize': 20, 'fontweight':'bold'});\n",
    "plt.show()"
   ]
  },
  {
   "cell_type": "code",
   "execution_count": 47,
   "metadata": {
    "ExecuteTime": {
     "end_time": "2021-04-30T07:53:17.973149Z",
     "start_time": "2021-04-30T07:53:17.958378Z"
    },
    "papermill": {
     "duration": 0.095678,
     "end_time": "2021-04-25T23:12:42.824726",
     "exception": false,
     "start_time": "2021-04-25T23:12:42.729048",
     "status": "completed"
    },
    "tags": []
   },
   "outputs": [],
   "source": [
    "# Scaler\n",
    "X_train = StandardScaler().fit_transform(X_train)\n",
    "X_test = StandardScaler().fit_transform(X_test)"
   ]
  },
  {
   "cell_type": "code",
   "execution_count": 48,
   "metadata": {
    "ExecuteTime": {
     "end_time": "2021-04-30T07:53:18.804642Z",
     "start_time": "2021-04-30T07:53:18.786839Z"
    },
    "papermill": {
     "duration": 0.102247,
     "end_time": "2021-04-25T23:12:42.995834",
     "exception": false,
     "start_time": "2021-04-25T23:12:42.893587",
     "status": "completed"
    },
    "tags": []
   },
   "outputs": [
    {
     "name": "stdout",
     "output_type": "stream",
     "text": [
      "Accuracy of the model:  99.89\n"
     ]
    }
   ],
   "source": [
    "decision_tree = DecisionTreeClassifier()\n",
    "decision_tree.fit(X_train, Y_train)\n",
    "Y_predDT = decision_tree.predict(X_test)\n",
    "\n",
    "print(\"Accuracy of the model: \",round(decision_tree.score(X_train, Y_train) * 100, 2))"
   ]
  },
  {
   "cell_type": "code",
   "execution_count": 49,
   "metadata": {
    "ExecuteTime": {
     "end_time": "2021-04-30T07:53:20.368896Z",
     "start_time": "2021-04-30T07:53:20.096505Z"
    },
    "papermill": {
     "duration": 0.24865,
     "end_time": "2021-04-25T23:12:43.325995",
     "exception": false,
     "start_time": "2021-04-25T23:12:43.077345",
     "status": "completed"
    },
    "tags": []
   },
   "outputs": [
    {
     "data": {
      "image/png": "[encoded data removed]",
      "text/plain": [
       "<Figure size 576x360 with 1 Axes>"
      ]
     },
     "metadata": {},
     "output_type": "display_data"
    }
   ],
   "source": [
    "importances = pd.DataFrame(decision_tree.feature_importances_, index = train_names)\n",
    "importances.sort_values(by = 0, inplace=True, ascending = False)\n",
    "importances = importances.iloc[0:6,:] \n",
    "\n",
    "plt.figure(figsize=(8, 5)) \n",
    "sns.barplot(x=0, y=importances.index, data=importances,palette=\"deep\").set_title(\"Feature Importances\",\n",
    "                                                                                 fontdict= { 'fontsize': 20,\n",
    "                                                                                            'fontweight':'bold'});\n",
    "sns.despine()"
   ]
  },
  {
   "cell_type": "code",
   "execution_count": 50,
   "metadata": {
    "ExecuteTime": {
     "end_time": "2021-04-30T07:53:23.539568Z",
     "start_time": "2021-04-30T07:53:23.521441Z"
    },
    "papermill": {
     "duration": 0.086328,
     "end_time": "2021-04-25T23:12:43.480638",
     "exception": false,
     "start_time": "2021-04-25T23:12:43.39431",
     "status": "completed"
    },
    "tags": []
   },
   "outputs": [],
   "source": [
    "submit = pd.DataFrame({\"PassengerId\":test.PassengerId, 'Survived':Y_predDT.astype(int).ravel()})\n",
    "submit.to_csv(\"submissionJavier_Vallejos.csv\",index = False)"
   ]
  },
  {
   "cell_type": "markdown",
   "metadata": {
    "papermill": {
     "duration": 0.068657,
     "end_time": "2021-04-25T23:12:43.620121",
     "exception": false,
     "start_time": "2021-04-25T23:12:43.551464",
     "status": "completed"
    },
    "tags": []
   },
   "source": [
    "# 4. Conclutions"
   ]
  },
  {
   "cell_type": "markdown",
   "metadata": {
    "papermill": {
     "duration": 0.06867,
     "end_time": "2021-04-25T23:12:43.758694",
     "exception": false,
     "start_time": "2021-04-25T23:12:43.690024",
     "status": "completed"
    },
    "tags": []
   },
   "source": [
    "This report is part of a bootcamp of Data Science, and as you can see I achieved to be on the Top 3%. In the fist part I did an analysis to visualize each column and impute their missing values. After that I applied feature engineering to extract the title, last name of the Name column and Family Size is the adding of SibSp and Parch plus one that means the same passenger. Age and Fare columns have been Binning to get better results. To get Family Survival Rate is base on two rules:\n",
    "\n",
    "1. All males die except boys in families where all females and boys live.\n",
    "2. All females live except those in families where all females and boys die.\n",
    "\n",
    "With rules above you can get an score near to 81% but if you add the ticket number and other changes that I did you can improve it to 82.78% on Kaggle leaderboard.\n",
    "\n",
    "To the model part I used only Desicion tree because is the easy way to getting this score.\n",
    "\n",
    "Finally, if you want to increase your score, then I suggest you read this [work](http://https://www.kaggle.com/cdeotte/titanic-wcg-xgboost-0-84688). and like Chris Deotte said in his [post](https://www.kaggle.com/c/titanic/discussion/57447) this is the fist step to improve your score. \n",
    "\n"
   ]
  },
  {
   "cell_type": "markdown",
   "metadata": {
    "papermill": {
     "duration": 0.06964,
     "end_time": "2021-04-25T23:12:43.896802",
     "exception": false,
     "start_time": "2021-04-25T23:12:43.827162",
     "status": "completed"
    },
    "tags": []
   },
   "source": [
    "# 5. References"
   ]
  },
  {
   "cell_type": "markdown",
   "metadata": {
    "papermill": {
     "duration": 0.070101,
     "end_time": "2021-04-25T23:12:44.03685",
     "exception": false,
     "start_time": "2021-04-25T23:12:43.966749",
     "status": "completed"
    },
    "tags": []
   },
   "source": [
    "* [Advanced Feature Engineering Tutorial](https://www.kaggle.com/gunesevitan/titanic-advanced-feature-engineering-tutorial)\n",
    "* [Top 5% Titanic: Machine Learning from Disaster](https://www.kaggle.com/kpacocha/top-5-titanic-machine-learning-from-disaster)\n",
    "* [Titanic - Top score : one line of the prediction](https://www.kaggle.com/vbmokin/titanic-top-score-one-line-of-the-prediction?scriptVersionId=42197143&select=survived.csv)\n",
    "* [Titanic survival prediction from Name and Sex](https://www.kaggle.com/mauricef/titanic)\n",
    "* [Titanic Dive Through: Feature scaling and outliers](https://www.kaggle.com/allunia/titanic-dive-through-feature-scaling-and-outliers)\n",
    "* [Titanic (Top 20%) with ensemble VotingClassifier](https://www.kaggle.com/amiiiney/titanic-top-20-with-ensemble-votingclassifier#5--Machine-Learning)\n",
    "* [Titanic Survival Rate](https://www.kaggle.com/prakharrathi25/titanic-survival-rate#Titanic-Survival-Prediction)\n"
   ]
  }
 ],
 "metadata": {
  "kernelspec": {
   "display_name": "Python 3",
   "language": "python",
   "name": "python3"
  },
  "language_info": {
   "codemirror_mode": {
    "name": "ipython",
    "version": 3
   },
   "file_extension": ".py",
   "mimetype": "text/x-python",
   "name": "python",
   "nbconvert_exporter": "python",
   "pygments_lexer": "ipython3",
   "version": "3.7.7"
  },
  "toc": {
   "base_numbering": 1,
   "nav_menu": {},
   "number_sections": false,
   "sideBar": true,
   "skip_h1_title": false,
   "title_cell": "Table of Contents",
   "title_sidebar": "Contents",
   "toc_cell": false,
   "toc_position": {},
   "toc_section_display": true,
   "toc_window_display": false
  }
 },
 "nbformat": 4,
 "nbformat_minor": 4
}
